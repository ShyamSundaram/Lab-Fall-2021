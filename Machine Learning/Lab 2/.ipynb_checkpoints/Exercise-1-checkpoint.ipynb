{
 "cells": [
  {
   "cell_type": "markdown",
   "id": "6c7d71d7",
   "metadata": {},
   "source": [
    "# Machine Learning Lab 1"
   ]
  },
  {
   "cell_type": "markdown",
   "id": "06e0eb02",
   "metadata": {},
   "source": [
    "# Exercise 1- Numpy"
   ]
  },
  {
   "cell_type": "code",
   "execution_count": 1,
   "id": "f9df4e33",
   "metadata": {},
   "outputs": [],
   "source": [
    "import numpy as np"
   ]
  },
  {
   "cell_type": "code",
   "execution_count": 2,
   "id": "00abddaa",
   "metadata": {},
   "outputs": [
    {
     "name": "stdout",
     "output_type": "stream",
     "text": [
      "1D array:  [1 2 3 4 5 6]\n",
      "2D array:  \n",
      " [[1 2 3]\n",
      " [4 5 6]\n",
      " [7 8 9]]\n"
     ]
    }
   ],
   "source": [
    "arr1 = np.array([1,2,3,4,5,6])\n",
    "print(\"1D array: \", arr1)\n",
    "arr2 = np.array([[1,2,3],[4,5,6],[7,8,9]])\n",
    "print(\"2D array: \", \"\\n\",arr2)"
   ]
  },
  {
   "cell_type": "code",
   "execution_count": 3,
   "id": "c0dee505",
   "metadata": {},
   "outputs": [
    {
     "name": "stdout",
     "output_type": "stream",
     "text": [
      "Array with Rank 1: \n",
      " [1 2 3]\n"
     ]
    }
   ],
   "source": [
    "# Creating a rank 1 Array\n",
    "arr = np.array([1, 2, 3])\n",
    "print(\"Array with Rank 1: \\n\",arr)"
   ]
  },
  {
   "cell_type": "code",
   "execution_count": 4,
   "id": "f7c7a75f",
   "metadata": {},
   "outputs": [
    {
     "name": "stdout",
     "output_type": "stream",
     "text": [
      "Array with Rank 2: \n",
      " [[1 2 3]\n",
      " [4 5 6]]\n"
     ]
    }
   ],
   "source": [
    "# Creating a rank 2 Array\n",
    "arr = np.array([[1, 2, 3],\n",
    "                [4, 5, 6]])\n",
    "print(\"Array with Rank 2: \\n\", arr)"
   ]
  },
  {
   "cell_type": "code",
   "execution_count": 5,
   "id": "c5877abb",
   "metadata": {},
   "outputs": [
    {
     "name": "stdout",
     "output_type": "stream",
     "text": [
      "\n",
      "Array created using passed tuple:\n",
      " [1 3 2]\n"
     ]
    }
   ],
   "source": [
    "# Creating an array from tuple\n",
    "arr = np.array((1, 3, 2))\n",
    "print(\"\\nArray created using \"\n",
    "      \"passed tuple:\\n\", arr)"
   ]
  },
  {
   "cell_type": "markdown",
   "id": "7ad7ccee",
   "metadata": {},
   "source": [
    "## Understanding attributes of arrays"
   ]
  },
  {
   "cell_type": "code",
   "execution_count": 8,
   "id": "8771a4f6",
   "metadata": {},
   "outputs": [
    {
     "name": "stdout",
     "output_type": "stream",
     "text": [
      "About arr2:\n",
      "Type\t\t: <class 'numpy.ndarray'>\n",
      "Datatype\t: int32\n",
      "Shape\t\t: (3, 3)\n",
      "Size\t\t: 9\n",
      "itemsize\t: 4\n",
      "No. of dim\t: 2\n",
      "No. of bytes\t: 36\n"
     ]
    }
   ],
   "source": [
    "print(\"About arr2:\")\n",
    "print(\"Type\\t\\t:\" ,type(arr2))\n",
    "print(\"Datatype\\t:\",arr2.dtype)\n",
    "print(\"Shape\\t\\t:\", arr2.shape)\n",
    "print(\"Size\\t\\t:\",arr2.size)\n",
    "print(\"itemsize\\t:\",arr2.itemsize)\n",
    "print(\"No. of dim\\t:\",arr2.ndim)\n",
    "print(\"No. of bytes\\t:\", arr2.nbytes)"
   ]
  },
  {
   "cell_type": "markdown",
   "id": "a4f41630",
   "metadata": {},
   "source": [
    "## Special Arrays"
   ]
  },
  {
   "cell_type": "code",
   "execution_count": 9,
   "id": "d0bc1653",
   "metadata": {},
   "outputs": [
    {
     "name": "stdout",
     "output_type": "stream",
     "text": [
      "Zero Array \t:\n",
      " [[0 0]\n",
      " [0 0]\n",
      " [0 0]\n",
      " [0 0]\n",
      " [0 0]]\n",
      "Arrays with unit values\t:\n",
      " [[1. 1. 1. 1.]\n",
      " [1. 1. 1. 1.]\n",
      " [1. 1. 1. 1.]]\n",
      "Identity matrix\t:\n",
      " [[1. 0. 0.]\n",
      " [0. 1. 0.]\n",
      " [0. 0. 1.]\n",
      " [0. 0. 0.]]\n",
      "Random array\t\n",
      " [[0.78050112 0.94526287]\n",
      " [0.90809064 0.48067856]\n",
      " [0.77292278 0.71222528]]\n",
      "Random integer array\t:\n",
      " [[5 3 6 1 2 1]\n",
      " [3 4 3 4 3 0]]\n"
     ]
    }
   ],
   "source": [
    "arr3 = np.zeros((5,2), dtype=int)\n",
    "arr4 = np.ones((3,4),dtype=float)\n",
    "arr5 = np.eye(4,3)\n",
    "arr6 = np.random.rand(3,2)\n",
    "arr7 = np.random.randint(7,size=(2,6))\n",
    "print(\"Zero Array \\t:\\n\",arr3)\n",
    "print(\"Arrays with unit values\\t:\\n\",arr4)\n",
    "print(\"Identity matrix\\t:\\n\",arr5)\n",
    "print(\"Random array\\t\\n\",arr6)\n",
    "print(\"Random integer array\\t:\\n\" , arr7)"
   ]
  },
  {
   "cell_type": "markdown",
   "id": "61d35d14",
   "metadata": {},
   "source": [
    "## Various ways of creating arrays"
   ]
  },
  {
   "cell_type": "code",
   "execution_count": 10,
   "id": "675afb92",
   "metadata": {},
   "outputs": [
    {
     "name": "stdout",
     "output_type": "stream",
     "text": [
      "Array created with arange: \t\n",
      " [1 4 7]\n"
     ]
    }
   ],
   "source": [
    "#Using 'arange'\n",
    "arr8 = np.arange(1,10,3)\n",
    "print(\"Array created with arange: \\t\\n\",arr8)"
   ]
  },
  {
   "cell_type": "code",
   "execution_count": 11,
   "id": "abda9a44",
   "metadata": {},
   "outputs": [
    {
     "name": "stdout",
     "output_type": "stream",
     "text": [
      "Array created using linspace requesting 50 elements within 1 to 10:\t\n",
      " [ 1.          1.18367347  1.36734694  1.55102041  1.73469388  1.91836735\n",
      "  2.10204082  2.28571429  2.46938776  2.65306122  2.83673469  3.02040816\n",
      "  3.20408163  3.3877551   3.57142857  3.75510204  3.93877551  4.12244898\n",
      "  4.30612245  4.48979592  4.67346939  4.85714286  5.04081633  5.2244898\n",
      "  5.40816327  5.59183673  5.7755102   5.95918367  6.14285714  6.32653061\n",
      "  6.51020408  6.69387755  6.87755102  7.06122449  7.24489796  7.42857143\n",
      "  7.6122449   7.79591837  7.97959184  8.16326531  8.34693878  8.53061224\n",
      "  8.71428571  8.89795918  9.08163265  9.26530612  9.44897959  9.63265306\n",
      "  9.81632653 10.        ]\n"
     ]
    }
   ],
   "source": [
    "#Using linspace\n",
    "arr9 = np.linspace(1,10,50)\n",
    "print(\"Array created using linspace requesting 50 elements within 1 to 10:\\t\\n\",arr9)"
   ]
  },
  {
   "cell_type": "markdown",
   "id": "d569692d",
   "metadata": {},
   "source": [
    "## Slicing"
   ]
  },
  {
   "cell_type": "code",
   "execution_count": 12,
   "id": "ca836781",
   "metadata": {},
   "outputs": [
    {
     "name": "stdout",
     "output_type": "stream",
     "text": [
      "[[ 1  2  3  4  5]\n",
      " [ 6  7  8  9 10]\n",
      " [11 12 13 14 15]\n",
      " [16 17 18 19 20]]\n",
      "Row 2: [ 6  7  8  9 10]\n",
      "Column 2: [ 4  9 14 19]\n",
      "Elements 7,8,12,13 :\n",
      " [[ 7  8]\n",
      " [12 13]]\n",
      "All elements: \n",
      " [[ 1  2  3  4  5]\n",
      " [ 6  7  8  9 10]\n",
      " [11 12 13 14 15]\n",
      " [16 17 18 19 20]]\n",
      "Strides:\n",
      " [[ 2  3]\n",
      " [12 13]]\n"
     ]
    }
   ],
   "source": [
    "arr10 = np.array([[1,2,3,4,5],[6,7,8,9,10],[11,12,13,14,15],[16,17,18,19,20]])\n",
    "print(arr10)\n",
    "print(\"Row 2:\",arr10[1,:])\n",
    "print(\"Column 2:\",arr10[:,3])\n",
    "print(\"Elements 7,8,12,13 :\\n\", arr10[1:3,1:3])\n",
    "print(\"All elements: \\n\",arr10[::])\n",
    "print(\"Strides:\\n\",arr10[0::2,1:3])"
   ]
  },
  {
   "cell_type": "markdown",
   "id": "f0377af9",
   "metadata": {},
   "source": [
    "## Masking"
   ]
  },
  {
   "cell_type": "code",
   "execution_count": 13,
   "id": "890afa7a",
   "metadata": {},
   "outputs": [
    {
     "name": "stdout",
     "output_type": "stream",
     "text": [
      "[2 3 5 7]\n"
     ]
    }
   ],
   "source": [
    "arr11 = np.array([1,2,3,4,5,6,7,8,9])\n",
    "mask = np.array([0,1,1,0,1,0,1,0,0],dtype=bool)\n",
    "print(arr11[mask])"
   ]
  },
  {
   "cell_type": "markdown",
   "id": "fad950c2",
   "metadata": {},
   "source": [
    "## Scalar operations"
   ]
  },
  {
   "cell_type": "code",
   "execution_count": 14,
   "id": "65a6246b",
   "metadata": {},
   "outputs": [
    {
     "name": "stdout",
     "output_type": "stream",
     "text": [
      "Summation:\t [5 7 9]\n",
      "Difference:\t [-3 -3 -3]\n"
     ]
    }
   ],
   "source": [
    "arr13 = np.array([1,2,3])\n",
    "arr14 = np.array([4,5,6])\n",
    "arr15 = arr13+arr14\n",
    "arr16 = arr13 - arr14\n",
    "print(\"Summation:\\t\",arr15)\n",
    "print(\"Difference:\\t\",arr16)"
   ]
  },
  {
   "cell_type": "code",
   "execution_count": 15,
   "id": "f92cfcc5",
   "metadata": {},
   "outputs": [
    {
     "name": "stdout",
     "output_type": "stream",
     "text": [
      "Previous output after adding 5: [2 2 2]\n"
     ]
    }
   ],
   "source": [
    "arr16+=5\n",
    "print(\"Previous output after adding 5:\",arr16)"
   ]
  },
  {
   "cell_type": "markdown",
   "id": "33eb1c3c",
   "metadata": {},
   "source": [
    "## Trigonometric Operations"
   ]
  },
  {
   "cell_type": "code",
   "execution_count": 16,
   "id": "f3d6efef",
   "metadata": {},
   "outputs": [
    {
     "name": "stdout",
     "output_type": "stream",
     "text": [
      "Sin values:\t [ 0.65028784 -0.98803162  0.85090352  0.89399666]\n",
      "Log value:\t [2.7080502  3.40119738 3.80666249 4.49980967]\n"
     ]
    }
   ],
   "source": [
    "arr17 = np.array([15,30,45,90])\n",
    "result7 = np.sin(arr17)\n",
    "print(\"Sin values:\\t\",result7)\n",
    "result8 = np.log(arr17)\n",
    "print(\"Log value:\\t\",result8)"
   ]
  },
  {
   "cell_type": "markdown",
   "id": "f85934b8",
   "metadata": {},
   "source": [
    "# Exercise 2 - Pandas (1)"
   ]
  },
  {
   "cell_type": "code",
   "execution_count": 7,
   "id": "39aef146",
   "metadata": {},
   "outputs": [],
   "source": [
    "import pandas as pd"
   ]
  },
  {
   "cell_type": "markdown",
   "id": "4ed57c20",
   "metadata": {},
   "source": [
    "## DataFrame from List and Dictionary"
   ]
  },
  {
   "cell_type": "code",
   "execution_count": 18,
   "id": "e8833f73",
   "metadata": {},
   "outputs": [],
   "source": [
    "# list of strings\n",
    "lst = ['Soon', 'For', 'Good', 'is', \n",
    "            'portal', 'for', 'Good']"
   ]
  },
  {
   "cell_type": "code",
   "execution_count": 19,
   "id": "6c626c9e",
   "metadata": {},
   "outputs": [
    {
     "name": "stdout",
     "output_type": "stream",
     "text": [
      "        0\n",
      "0    Soon\n",
      "1     For\n",
      "2    Good\n",
      "3      is\n",
      "4  portal\n",
      "5     for\n",
      "6    Good\n"
     ]
    }
   ],
   "source": [
    "# Calling DataFrame constructor on list\n",
    "df = pd.DataFrame(lst)\n",
    "print(df)"
   ]
  },
  {
   "cell_type": "code",
   "execution_count": 21,
   "id": "d303a7ea",
   "metadata": {},
   "outputs": [
    {
     "name": "stdout",
     "output_type": "stream",
     "text": [
      "    Name  Age\n",
      "0    Tom   20\n",
      "1   nick   21\n",
      "2  krish   19\n",
      "3   jack   18\n"
     ]
    }
   ],
   "source": [
    "# intialise data of lists.\n",
    "data = {'Name':['Tom', 'nick', 'krish', 'jack'],\n",
    "        'Age':[20, 21, 19, 18]}\n",
    " \n",
    "# Create DataFrame\n",
    "df = pd.DataFrame(data)\n",
    "print(df)"
   ]
  },
  {
   "cell_type": "code",
   "execution_count": 22,
   "id": "42b3a620",
   "metadata": {},
   "outputs": [
    {
     "name": "stdout",
     "output_type": "stream",
     "text": [
      "     Name Qualification\n",
      "0     Jai           Msc\n",
      "1  Princi            MA\n",
      "2  Gaurav           MCA\n",
      "3    Anuj           Phd\n"
     ]
    }
   ],
   "source": [
    "# Define a dictionary containing employee data\n",
    "data = {'Name':['Jai', 'Princi', 'Gaurav', 'Anuj'],\n",
    "        'Age':[27, 24, 22, 32],\n",
    "        'Address':['Delhi', 'Kanpur', 'Allahabad', 'Kannauj'],\n",
    "        'Qualification':['Msc', 'MA', 'MCA', 'Phd']}\n",
    " \n",
    "# Convert the dictionary into DataFrame \n",
    "df = pd.DataFrame(data)\n",
    "\n",
    "# select two columns\n",
    "print(df[['Name', 'Qualification']])"
   ]
  },
  {
   "cell_type": "markdown",
   "id": "2b4b1ea0",
   "metadata": {},
   "source": [
    "## DataFrame from CSV"
   ]
  },
  {
   "cell_type": "code",
   "execution_count": 25,
   "id": "ca01ec3e",
   "metadata": {},
   "outputs": [],
   "source": [
    "# making data frame from csv file\n",
    "data = pd.read_csv(\"nba.csv\", index_col =\"Name\")"
   ]
  },
  {
   "cell_type": "code",
   "execution_count": 26,
   "id": "730f20e3",
   "metadata": {},
   "outputs": [
    {
     "name": "stdout",
     "output_type": "stream",
     "text": [
      "Team        Boston Celtics\n",
      "Number                   0\n",
      "Position                PG\n",
      "Age                     25\n",
      "Height               2-Jun\n",
      "Weight                 180\n",
      "College              Texas\n",
      "Salary           7730337.0\n",
      "Name: Avery Bradley, dtype: object \n",
      "\n",
      "\n",
      " Team        Boston Celtics\n",
      "Number                  28\n",
      "Position                SG\n",
      "Age                     22\n",
      "Height               5-Jun\n",
      "Weight                 185\n",
      "College      Georgia State\n",
      "Salary           1148640.0\n",
      "Name: R.J. Hunter, dtype: object\n"
     ]
    }
   ],
   "source": [
    "# retrieving row by loc method\n",
    "first = data.loc[\"Avery Bradley\"]\n",
    "second = data.loc[\"R.J. Hunter\"]\n",
    "print(first, \"\\n\\n\\n\", second)"
   ]
  },
  {
   "cell_type": "markdown",
   "id": "decdaa4f",
   "metadata": {},
   "source": [
    "## Data Retrieval from DataFrame"
   ]
  },
  {
   "cell_type": "code",
   "execution_count": 27,
   "id": "dbd2c5c7",
   "metadata": {},
   "outputs": [
    {
     "name": "stdout",
     "output_type": "stream",
     "text": [
      "Name\n",
      "Avery Bradley    25\n",
      "Jae Crowder      25\n",
      "John Holland     27\n",
      "R.J. Hunter      22\n",
      "Jonas Jerebko    29\n",
      "                 ..\n",
      "Trey Lyles       20\n",
      "Shelvin Mack     26\n",
      "Raul Neto        24\n",
      "Tibor Pleiss     26\n",
      "Jeff Withey      26\n",
      "Name: Age, Length: 457, dtype: int64\n"
     ]
    }
   ],
   "source": [
    "# retrieving columns by indexing operator\n",
    "first = data[\"Age\"]\n",
    "print(first)"
   ]
  },
  {
   "cell_type": "code",
   "execution_count": 29,
   "id": "b4438bae",
   "metadata": {
    "scrolled": true
   },
   "outputs": [
    {
     "name": "stdout",
     "output_type": "stream",
     "text": [
      "Team        Boston Celtics\n",
      "Number                  28\n",
      "Position                SG\n",
      "Age                     22\n",
      "Height               5-Jun\n",
      "Weight                 185\n",
      "College      Georgia State\n",
      "Salary           1148640.0\n",
      "Name: R.J. Hunter, dtype: object\n"
     ]
    }
   ],
   "source": [
    "# retrieving rows by iloc method \n",
    "row2 = data.iloc[3] \n",
    "print(row2)"
   ]
  },
  {
   "cell_type": "markdown",
   "id": "5f7d8592",
   "metadata": {},
   "source": [
    "## Missing Values"
   ]
  },
  {
   "cell_type": "markdown",
   "id": "ec264d63",
   "metadata": {},
   "source": [
    "In order to check missing values in Pandas DataFrame, we use a function isnull() and notnull(). Both function help in checking whether a value is NaN or not. These function can also be used in Pandas Series in order to find null values in a series."
   ]
  },
  {
   "cell_type": "code",
   "execution_count": 30,
   "id": "ff645eda",
   "metadata": {},
   "outputs": [],
   "source": [
    "# dictionary of lists\n",
    "dict = {'First Score':[100, 90, np.nan, 95],\n",
    "        'Second Score': [30, 45, 56, np.nan],\n",
    "        'Third Score':[np.nan, 40, 80, 98]}\n",
    " \n",
    "# creating a dataframe from list\n",
    "df = pd.DataFrame(dict)"
   ]
  },
  {
   "cell_type": "code",
   "execution_count": 31,
   "id": "df84256b",
   "metadata": {},
   "outputs": [
    {
     "data": {
      "text/html": [
       "<div>\n",
       "<style scoped>\n",
       "    .dataframe tbody tr th:only-of-type {\n",
       "        vertical-align: middle;\n",
       "    }\n",
       "\n",
       "    .dataframe tbody tr th {\n",
       "        vertical-align: top;\n",
       "    }\n",
       "\n",
       "    .dataframe thead th {\n",
       "        text-align: right;\n",
       "    }\n",
       "</style>\n",
       "<table border=\"1\" class=\"dataframe\">\n",
       "  <thead>\n",
       "    <tr style=\"text-align: right;\">\n",
       "      <th></th>\n",
       "      <th>First Score</th>\n",
       "      <th>Second Score</th>\n",
       "      <th>Third Score</th>\n",
       "    </tr>\n",
       "  </thead>\n",
       "  <tbody>\n",
       "    <tr>\n",
       "      <th>0</th>\n",
       "      <td>False</td>\n",
       "      <td>False</td>\n",
       "      <td>True</td>\n",
       "    </tr>\n",
       "    <tr>\n",
       "      <th>1</th>\n",
       "      <td>False</td>\n",
       "      <td>False</td>\n",
       "      <td>False</td>\n",
       "    </tr>\n",
       "    <tr>\n",
       "      <th>2</th>\n",
       "      <td>True</td>\n",
       "      <td>False</td>\n",
       "      <td>False</td>\n",
       "    </tr>\n",
       "    <tr>\n",
       "      <th>3</th>\n",
       "      <td>False</td>\n",
       "      <td>True</td>\n",
       "      <td>False</td>\n",
       "    </tr>\n",
       "  </tbody>\n",
       "</table>\n",
       "</div>"
      ],
      "text/plain": [
       "   First Score  Second Score  Third Score\n",
       "0        False         False         True\n",
       "1        False         False        False\n",
       "2         True         False        False\n",
       "3        False          True        False"
      ]
     },
     "execution_count": 31,
     "metadata": {},
     "output_type": "execute_result"
    }
   ],
   "source": [
    "# using isnull() function  \n",
    "df.isnull()"
   ]
  },
  {
   "cell_type": "markdown",
   "id": "a4014827",
   "metadata": {},
   "source": [
    "In order to fill null values in a datasets, we use fillna(), replace() and interpolate() function these function replace NaN values with some value of their own. All these function help in filling a null values in datasets of a DataFrame. Interpolate() function is basically used to fill NA values in the dataframe but it uses various interpolation technique to fill the missing values rather than hard-coding the value."
   ]
  },
  {
   "cell_type": "code",
   "execution_count": 32,
   "id": "debb70f3",
   "metadata": {},
   "outputs": [
    {
     "data": {
      "text/html": [
       "<div>\n",
       "<style scoped>\n",
       "    .dataframe tbody tr th:only-of-type {\n",
       "        vertical-align: middle;\n",
       "    }\n",
       "\n",
       "    .dataframe tbody tr th {\n",
       "        vertical-align: top;\n",
       "    }\n",
       "\n",
       "    .dataframe thead th {\n",
       "        text-align: right;\n",
       "    }\n",
       "</style>\n",
       "<table border=\"1\" class=\"dataframe\">\n",
       "  <thead>\n",
       "    <tr style=\"text-align: right;\">\n",
       "      <th></th>\n",
       "      <th>First Score</th>\n",
       "      <th>Second Score</th>\n",
       "      <th>Third Score</th>\n",
       "    </tr>\n",
       "  </thead>\n",
       "  <tbody>\n",
       "    <tr>\n",
       "      <th>0</th>\n",
       "      <td>100.0</td>\n",
       "      <td>30.0</td>\n",
       "      <td>0.0</td>\n",
       "    </tr>\n",
       "    <tr>\n",
       "      <th>1</th>\n",
       "      <td>90.0</td>\n",
       "      <td>45.0</td>\n",
       "      <td>40.0</td>\n",
       "    </tr>\n",
       "    <tr>\n",
       "      <th>2</th>\n",
       "      <td>0.0</td>\n",
       "      <td>56.0</td>\n",
       "      <td>80.0</td>\n",
       "    </tr>\n",
       "    <tr>\n",
       "      <th>3</th>\n",
       "      <td>95.0</td>\n",
       "      <td>0.0</td>\n",
       "      <td>98.0</td>\n",
       "    </tr>\n",
       "  </tbody>\n",
       "</table>\n",
       "</div>"
      ],
      "text/plain": [
       "   First Score  Second Score  Third Score\n",
       "0        100.0          30.0          0.0\n",
       "1         90.0          45.0         40.0\n",
       "2          0.0          56.0         80.0\n",
       "3         95.0           0.0         98.0"
      ]
     },
     "execution_count": 32,
     "metadata": {},
     "output_type": "execute_result"
    }
   ],
   "source": [
    "# filling missing value using fillna()  \n",
    "df.fillna(0)"
   ]
  },
  {
   "cell_type": "code",
   "execution_count": 33,
   "id": "6e10bfcd",
   "metadata": {},
   "outputs": [],
   "source": [
    "# dictionary of lists\n",
    "dict = {'First Score':[100, 90, np.nan, 95],\n",
    "        'Second Score': [30, np.nan, 45, 56],\n",
    "        'Third Score':[52, 40, 80, 98],\n",
    "        'Fourth Score':[np.nan, np.nan, np.nan, 65]}\n",
    " \n",
    "# creating a dataframe from dictionary\n",
    "df = pd.DataFrame(dict)"
   ]
  },
  {
   "cell_type": "code",
   "execution_count": 35,
   "id": "b89ec64e",
   "metadata": {},
   "outputs": [
    {
     "data": {
      "text/html": [
       "<div>\n",
       "<style scoped>\n",
       "    .dataframe tbody tr th:only-of-type {\n",
       "        vertical-align: middle;\n",
       "    }\n",
       "\n",
       "    .dataframe tbody tr th {\n",
       "        vertical-align: top;\n",
       "    }\n",
       "\n",
       "    .dataframe thead th {\n",
       "        text-align: right;\n",
       "    }\n",
       "</style>\n",
       "<table border=\"1\" class=\"dataframe\">\n",
       "  <thead>\n",
       "    <tr style=\"text-align: right;\">\n",
       "      <th></th>\n",
       "      <th>First Score</th>\n",
       "      <th>Second Score</th>\n",
       "      <th>Third Score</th>\n",
       "      <th>Fourth Score</th>\n",
       "    </tr>\n",
       "  </thead>\n",
       "  <tbody>\n",
       "    <tr>\n",
       "      <th>3</th>\n",
       "      <td>95.0</td>\n",
       "      <td>56.0</td>\n",
       "      <td>98</td>\n",
       "      <td>65.0</td>\n",
       "    </tr>\n",
       "  </tbody>\n",
       "</table>\n",
       "</div>"
      ],
      "text/plain": [
       "   First Score  Second Score  Third Score  Fourth Score\n",
       "3         95.0          56.0           98          65.0"
      ]
     },
     "execution_count": 35,
     "metadata": {},
     "output_type": "execute_result"
    }
   ],
   "source": [
    "df.dropna() #drop rows with NA"
   ]
  },
  {
   "cell_type": "markdown",
   "id": "eb1ebdb8",
   "metadata": {},
   "source": [
    "## Iterating over rows"
   ]
  },
  {
   "cell_type": "markdown",
   "id": "0366570a",
   "metadata": {},
   "source": [
    "In order to iterate over rows, we can use three function iteritems(), iterrows(), itertuples() . These three function will help in iteration over rows."
   ]
  },
  {
   "cell_type": "code",
   "execution_count": 36,
   "id": "869dd747",
   "metadata": {},
   "outputs": [
    {
     "name": "stdout",
     "output_type": "stream",
     "text": [
      "     name  degree  score\n",
      "0  aparna     MBA     90\n",
      "1  pankaj     BCA     40\n",
      "2  sudhir  M.Tech     80\n",
      "3   Geeku     MBA     98\n"
     ]
    }
   ],
   "source": [
    "# dictionary of lists\n",
    "dict = {'name':[\"aparna\", \"pankaj\", \"sudhir\", \"Geeku\"],\n",
    "        'degree': [\"MBA\", \"BCA\", \"M.Tech\", \"MBA\"],\n",
    "        'score':[90, 40, 80, 98]}\n",
    " \n",
    "# creating a dataframe from a dictionary \n",
    "df = pd.DataFrame(dict)\n",
    " \n",
    "print(df)"
   ]
  },
  {
   "cell_type": "code",
   "execution_count": 37,
   "id": "5b8901b7",
   "metadata": {},
   "outputs": [
    {
     "name": "stdout",
     "output_type": "stream",
     "text": [
      "0 name      aparna\n",
      "degree       MBA\n",
      "score         90\n",
      "Name: 0, dtype: object\n",
      "\n",
      "1 name      pankaj\n",
      "degree       BCA\n",
      "score         40\n",
      "Name: 1, dtype: object\n",
      "\n",
      "2 name      sudhir\n",
      "degree    M.Tech\n",
      "score         80\n",
      "Name: 2, dtype: object\n",
      "\n",
      "3 name      Geeku\n",
      "degree      MBA\n",
      "score        98\n",
      "Name: 3, dtype: object\n",
      "\n"
     ]
    }
   ],
   "source": [
    "# iterating over rows using iterrows() function \n",
    "for i, j in df.iterrows():\n",
    "    print(i, j)\n",
    "    print()"
   ]
  },
  {
   "cell_type": "markdown",
   "id": "8711cf33",
   "metadata": {},
   "source": [
    "## Iterating over columns"
   ]
  },
  {
   "cell_type": "markdown",
   "id": "4eb5ed69",
   "metadata": {},
   "source": [
    "In order to iterate over columns, we need to create a list of dataframe columns and then iterating through that list to pull out the dataframe columns."
   ]
  },
  {
   "cell_type": "code",
   "execution_count": 39,
   "id": "bc8c9962",
   "metadata": {},
   "outputs": [
    {
     "name": "stdout",
     "output_type": "stream",
     "text": [
      "     name  degree  score\n",
      "0  aparna     MBA     90\n",
      "1  pankaj     BCA     40\n",
      "2  sudhir  M.Tech     80\n",
      "3   Geeku     MBA     98\n"
     ]
    }
   ],
   "source": [
    "dict = {'name':[\"aparna\", \"pankaj\", \"sudhir\", \"Geeku\"],\n",
    "        'degree': [\"MBA\", \"BCA\", \"M.Tech\", \"MBA\"],\n",
    "        'score':[90, 40, 80, 98]}\n",
    "  \n",
    "# creating a dataframe from a dictionary \n",
    "df = pd.DataFrame(dict)\n",
    "print(df)"
   ]
  },
  {
   "cell_type": "code",
   "execution_count": 40,
   "id": "561e33eb",
   "metadata": {},
   "outputs": [
    {
     "name": "stdout",
     "output_type": "stream",
     "text": [
      "sudhir\n",
      "M.Tech\n",
      "80\n"
     ]
    }
   ],
   "source": [
    "# creating a list of dataframe columns\n",
    "columns = list(df)\n",
    " \n",
    "for i in columns:\n",
    "    # printing the third element of the column\n",
    "    print (df[i][2])"
   ]
  },
  {
   "cell_type": "code",
   "execution_count": 8,
   "id": "a26895f4",
   "metadata": {},
   "outputs": [
    {
     "data": {
      "text/html": [
       "<div>\n",
       "<style scoped>\n",
       "    .dataframe tbody tr th:only-of-type {\n",
       "        vertical-align: middle;\n",
       "    }\n",
       "\n",
       "    .dataframe tbody tr th {\n",
       "        vertical-align: top;\n",
       "    }\n",
       "\n",
       "    .dataframe thead th {\n",
       "        text-align: right;\n",
       "    }\n",
       "</style>\n",
       "<table border=\"1\" class=\"dataframe\">\n",
       "  <thead>\n",
       "    <tr style=\"text-align: right;\">\n",
       "      <th></th>\n",
       "      <th>Name</th>\n",
       "      <th>Team</th>\n",
       "      <th>Number</th>\n",
       "      <th>Position</th>\n",
       "      <th>Age</th>\n",
       "      <th>Height</th>\n",
       "      <th>Weight</th>\n",
       "      <th>College</th>\n",
       "      <th>Salary</th>\n",
       "    </tr>\n",
       "  </thead>\n",
       "  <tbody>\n",
       "    <tr>\n",
       "      <th>0</th>\n",
       "      <td>Avery Bradley</td>\n",
       "      <td>Boston Celtics</td>\n",
       "      <td>0</td>\n",
       "      <td>PG</td>\n",
       "      <td>25</td>\n",
       "      <td>2-Jun</td>\n",
       "      <td>180</td>\n",
       "      <td>Texas</td>\n",
       "      <td>7730337.0</td>\n",
       "    </tr>\n",
       "    <tr>\n",
       "      <th>1</th>\n",
       "      <td>Jae Crowder</td>\n",
       "      <td>Boston Celtics</td>\n",
       "      <td>99</td>\n",
       "      <td>SF</td>\n",
       "      <td>25</td>\n",
       "      <td>6-Jun</td>\n",
       "      <td>235</td>\n",
       "      <td>Marquette</td>\n",
       "      <td>6796117.0</td>\n",
       "    </tr>\n",
       "    <tr>\n",
       "      <th>2</th>\n",
       "      <td>John Holland</td>\n",
       "      <td>Boston Celtics</td>\n",
       "      <td>30</td>\n",
       "      <td>SG</td>\n",
       "      <td>27</td>\n",
       "      <td>5-Jun</td>\n",
       "      <td>205</td>\n",
       "      <td>Boston University</td>\n",
       "      <td>NaN</td>\n",
       "    </tr>\n",
       "    <tr>\n",
       "      <th>3</th>\n",
       "      <td>R.J. Hunter</td>\n",
       "      <td>Boston Celtics</td>\n",
       "      <td>28</td>\n",
       "      <td>SG</td>\n",
       "      <td>22</td>\n",
       "      <td>5-Jun</td>\n",
       "      <td>185</td>\n",
       "      <td>Georgia State</td>\n",
       "      <td>1148640.0</td>\n",
       "    </tr>\n",
       "    <tr>\n",
       "      <th>4</th>\n",
       "      <td>Jonas Jerebko</td>\n",
       "      <td>Boston Celtics</td>\n",
       "      <td>8</td>\n",
       "      <td>PF</td>\n",
       "      <td>29</td>\n",
       "      <td>10-Jun</td>\n",
       "      <td>231</td>\n",
       "      <td>NaN</td>\n",
       "      <td>5000000.0</td>\n",
       "    </tr>\n",
       "  </tbody>\n",
       "</table>\n",
       "</div>"
      ],
      "text/plain": [
       "            Name            Team  Number Position  Age  Height  Weight  \\\n",
       "0  Avery Bradley  Boston Celtics       0       PG   25   2-Jun     180   \n",
       "1    Jae Crowder  Boston Celtics      99       SF   25   6-Jun     235   \n",
       "2   John Holland  Boston Celtics      30       SG   27   5-Jun     205   \n",
       "3    R.J. Hunter  Boston Celtics      28       SG   22   5-Jun     185   \n",
       "4  Jonas Jerebko  Boston Celtics       8       PF   29  10-Jun     231   \n",
       "\n",
       "             College     Salary  \n",
       "0              Texas  7730337.0  \n",
       "1          Marquette  6796117.0  \n",
       "2  Boston University        NaN  \n",
       "3      Georgia State  1148640.0  \n",
       "4                NaN  5000000.0  "
      ]
     },
     "execution_count": 8,
     "metadata": {},
     "output_type": "execute_result"
    }
   ],
   "source": [
    "df2 = pd.read_csv(\"nba.csv\")\n",
    "df2.head()"
   ]
  },
  {
   "cell_type": "code",
   "execution_count": 9,
   "id": "09840d8c",
   "metadata": {},
   "outputs": [
    {
     "data": {
      "text/html": [
       "<div>\n",
       "<style scoped>\n",
       "    .dataframe tbody tr th:only-of-type {\n",
       "        vertical-align: middle;\n",
       "    }\n",
       "\n",
       "    .dataframe tbody tr th {\n",
       "        vertical-align: top;\n",
       "    }\n",
       "\n",
       "    .dataframe thead th {\n",
       "        text-align: right;\n",
       "    }\n",
       "</style>\n",
       "<table border=\"1\" class=\"dataframe\">\n",
       "  <thead>\n",
       "    <tr style=\"text-align: right;\">\n",
       "      <th></th>\n",
       "      <th>Name</th>\n",
       "      <th>Team</th>\n",
       "      <th>Number</th>\n",
       "      <th>Position</th>\n",
       "      <th>Age</th>\n",
       "      <th>Height</th>\n",
       "      <th>Weight</th>\n",
       "      <th>College</th>\n",
       "      <th>Salary</th>\n",
       "    </tr>\n",
       "  </thead>\n",
       "  <tbody>\n",
       "    <tr>\n",
       "      <th>452</th>\n",
       "      <td>Trey Lyles</td>\n",
       "      <td>Utah Jazz</td>\n",
       "      <td>41</td>\n",
       "      <td>PF</td>\n",
       "      <td>20</td>\n",
       "      <td>10-Jun</td>\n",
       "      <td>234</td>\n",
       "      <td>Kentucky</td>\n",
       "      <td>2239800.0</td>\n",
       "    </tr>\n",
       "    <tr>\n",
       "      <th>453</th>\n",
       "      <td>Shelvin Mack</td>\n",
       "      <td>Utah Jazz</td>\n",
       "      <td>8</td>\n",
       "      <td>PG</td>\n",
       "      <td>26</td>\n",
       "      <td>3-Jun</td>\n",
       "      <td>203</td>\n",
       "      <td>Butler</td>\n",
       "      <td>2433333.0</td>\n",
       "    </tr>\n",
       "    <tr>\n",
       "      <th>454</th>\n",
       "      <td>Raul Neto</td>\n",
       "      <td>Utah Jazz</td>\n",
       "      <td>25</td>\n",
       "      <td>PG</td>\n",
       "      <td>24</td>\n",
       "      <td>1-Jun</td>\n",
       "      <td>179</td>\n",
       "      <td>NaN</td>\n",
       "      <td>900000.0</td>\n",
       "    </tr>\n",
       "    <tr>\n",
       "      <th>455</th>\n",
       "      <td>Tibor Pleiss</td>\n",
       "      <td>Utah Jazz</td>\n",
       "      <td>21</td>\n",
       "      <td>C</td>\n",
       "      <td>26</td>\n",
       "      <td>3-Jul</td>\n",
       "      <td>256</td>\n",
       "      <td>NaN</td>\n",
       "      <td>2900000.0</td>\n",
       "    </tr>\n",
       "    <tr>\n",
       "      <th>456</th>\n",
       "      <td>Jeff Withey</td>\n",
       "      <td>Utah Jazz</td>\n",
       "      <td>24</td>\n",
       "      <td>C</td>\n",
       "      <td>26</td>\n",
       "      <td>Jul-00</td>\n",
       "      <td>231</td>\n",
       "      <td>Kansas</td>\n",
       "      <td>947276.0</td>\n",
       "    </tr>\n",
       "  </tbody>\n",
       "</table>\n",
       "</div>"
      ],
      "text/plain": [
       "             Name       Team  Number Position  Age  Height  Weight   College  \\\n",
       "452    Trey Lyles  Utah Jazz      41       PF   20  10-Jun     234  Kentucky   \n",
       "453  Shelvin Mack  Utah Jazz       8       PG   26   3-Jun     203    Butler   \n",
       "454     Raul Neto  Utah Jazz      25       PG   24   1-Jun     179       NaN   \n",
       "455  Tibor Pleiss  Utah Jazz      21        C   26   3-Jul     256       NaN   \n",
       "456   Jeff Withey  Utah Jazz      24        C   26  Jul-00     231    Kansas   \n",
       "\n",
       "        Salary  \n",
       "452  2239800.0  \n",
       "453  2433333.0  \n",
       "454   900000.0  \n",
       "455  2900000.0  \n",
       "456   947276.0  "
      ]
     },
     "execution_count": 9,
     "metadata": {},
     "output_type": "execute_result"
    }
   ],
   "source": [
    "df2.tail()"
   ]
  },
  {
   "cell_type": "code",
   "execution_count": 16,
   "id": "a1222702",
   "metadata": {},
   "outputs": [
    {
     "name": "stdout",
     "output_type": "stream",
     "text": [
      "Type:\n",
      " <class 'pandas.core.frame.DataFrame'>\n",
      "<class 'pandas.core.frame.DataFrame'>\n",
      "RangeIndex: 457 entries, 0 to 456\n",
      "Data columns (total 9 columns):\n",
      " #   Column    Non-Null Count  Dtype  \n",
      "---  ------    --------------  -----  \n",
      " 0   Name      457 non-null    object \n",
      " 1   Team      457 non-null    object \n",
      " 2   Number    457 non-null    int64  \n",
      " 3   Position  457 non-null    object \n",
      " 4   Age       457 non-null    int64  \n",
      " 5   Height    457 non-null    object \n",
      " 6   Weight    457 non-null    int64  \n",
      " 7   College   373 non-null    object \n",
      " 8   Salary    446 non-null    float64\n",
      "dtypes: float64(1), int64(3), object(5)\n",
      "memory usage: 32.3+ KB\n",
      "Information about the dataframe: None\n"
     ]
    }
   ],
   "source": [
    "print(\"Type:\\n\",type(df2))\n",
    "print(\"Information about the dataframe:\\n\",df2.info(verbose=True))"
   ]
  },
  {
   "cell_type": "code",
   "execution_count": 11,
   "id": "e21f2445",
   "metadata": {},
   "outputs": [
    {
     "name": "stdout",
     "output_type": "stream",
     "text": [
      "Shape of dataframe: (457, 9)\n",
      "(457, 9)\n"
     ]
    }
   ],
   "source": [
    "print(\"Shape of dataframe:\",df2.shape)\n",
    "df2.drop_duplicates()\n",
    "print(df2.shape)"
   ]
  },
  {
   "cell_type": "code",
   "execution_count": 45,
   "id": "31cb4d9c",
   "metadata": {},
   "outputs": [
    {
     "name": "stdout",
     "output_type": "stream",
     "text": [
      "Columns of dataframe:\t Index(['Name', 'Team', 'Number', 'Position', 'Age', 'Height', 'Weight',\n",
      "       'College', 'Salary'],\n",
      "      dtype='object')\n"
     ]
    }
   ],
   "source": [
    "print(\"Columns of dataframe:\\t\",df2.columns)"
   ]
  },
  {
   "cell_type": "code",
   "execution_count": 46,
   "id": "6baa6e3b",
   "metadata": {},
   "outputs": [
    {
     "name": "stdout",
     "output_type": "stream",
     "text": [
      "           Number         Age      Weight        Salary\n",
      "count  457.000000  457.000000  457.000000  4.460000e+02\n",
      "mean    17.678337   26.938731  221.522976  4.842684e+06\n",
      "std     15.966090    4.404016   26.368343  5.229238e+06\n",
      "min      0.000000   19.000000  161.000000  3.088800e+04\n",
      "25%      5.000000   24.000000  200.000000  1.044792e+06\n",
      "50%     13.000000   26.000000  220.000000  2.839073e+06\n",
      "75%     25.000000   30.000000  240.000000  6.500000e+06\n",
      "max     99.000000   40.000000  307.000000  2.500000e+07\n"
     ]
    }
   ],
   "source": [
    "print(df2.describe())"
   ]
  },
  {
   "cell_type": "markdown",
   "id": "1d54d9e9",
   "metadata": {},
   "source": [
    "# Exercise 3 - Pandas (2)"
   ]
  },
  {
   "cell_type": "code",
   "execution_count": 1,
   "id": "de1c6fa0",
   "metadata": {},
   "outputs": [],
   "source": [
    "import pandas as pd"
   ]
  },
  {
   "cell_type": "code",
   "execution_count": 2,
   "id": "877d7f66",
   "metadata": {},
   "outputs": [
    {
     "data": {
      "text/plain": [
       "[('ID', ['S1', 'S2', 'S3', 'S4']),\n",
       " ('English', [89, 90, 78, 98]),\n",
       " ('Maths', [67, 90, 100, 100]),\n",
       " ('Science', [78, 89, 90, 89])]"
      ]
     },
     "execution_count": 2,
     "metadata": {},
     "output_type": "execute_result"
    }
   ],
   "source": [
    "list1 = ['S1','S2','S3','S4']\n",
    "English = [89,90,78,98]\n",
    "Maths = [67,90,100,100]\n",
    "Science = [78,89,90,89]\n",
    "\n",
    "titles = ['ID', 'English','Maths','Science']\n",
    "values = [list1,English,Maths,Science]\n",
    "result = list(zip(titles,values))\n",
    "result"
   ]
  },
  {
   "cell_type": "code",
   "execution_count": 3,
   "id": "63092da8",
   "metadata": {},
   "outputs": [
    {
     "name": "stdout",
     "output_type": "stream",
     "text": [
      "   ID  English  Maths  Science\n",
      "0  S1       89     67       78\n",
      "1  S2       90     90       89\n",
      "2  S3       78    100       90\n",
      "3  S4       98    100       89\n"
     ]
    }
   ],
   "source": [
    "result1 = {}\n",
    "for i in result:\n",
    "    result1[i[0]]=i[1]\n",
    "df1 = pd.DataFrame(result1)\n",
    "print(df1)"
   ]
  },
  {
   "cell_type": "markdown",
   "id": "b96494bc",
   "metadata": {},
   "source": [
    "## Importing Data"
   ]
  },
  {
   "cell_type": "markdown",
   "id": "731649ac",
   "metadata": {},
   "source": [
    "### Removing header\n",
    "Reading the CSV without using the 1st row as header or column names."
   ]
  },
  {
   "cell_type": "code",
   "execution_count": 4,
   "id": "a6d7b32f",
   "metadata": {},
   "outputs": [
    {
     "data": {
      "text/html": [
       "<div>\n",
       "<style scoped>\n",
       "    .dataframe tbody tr th:only-of-type {\n",
       "        vertical-align: middle;\n",
       "    }\n",
       "\n",
       "    .dataframe tbody tr th {\n",
       "        vertical-align: top;\n",
       "    }\n",
       "\n",
       "    .dataframe thead th {\n",
       "        text-align: right;\n",
       "    }\n",
       "</style>\n",
       "<table border=\"1\" class=\"dataframe\">\n",
       "  <thead>\n",
       "    <tr style=\"text-align: right;\">\n",
       "      <th></th>\n",
       "      <th>0</th>\n",
       "      <th>1</th>\n",
       "      <th>2</th>\n",
       "      <th>3</th>\n",
       "      <th>4</th>\n",
       "      <th>5</th>\n",
       "      <th>6</th>\n",
       "      <th>7</th>\n",
       "      <th>8</th>\n",
       "      <th>9</th>\n",
       "      <th>10</th>\n",
       "      <th>11</th>\n",
       "      <th>12</th>\n",
       "    </tr>\n",
       "  </thead>\n",
       "  <tbody>\n",
       "    <tr>\n",
       "      <th>0</th>\n",
       "      <td>Name</td>\n",
       "      <td>Allegiances</td>\n",
       "      <td>Death Year</td>\n",
       "      <td>Book of Death</td>\n",
       "      <td>Death Chapter</td>\n",
       "      <td>Book Intro Chapter</td>\n",
       "      <td>Gender</td>\n",
       "      <td>Nobility</td>\n",
       "      <td>GoT</td>\n",
       "      <td>CoK</td>\n",
       "      <td>SoS</td>\n",
       "      <td>FfC</td>\n",
       "      <td>DwD</td>\n",
       "    </tr>\n",
       "    <tr>\n",
       "      <th>1</th>\n",
       "      <td>Addam Marbrand</td>\n",
       "      <td>Lannister</td>\n",
       "      <td>NaN</td>\n",
       "      <td>NaN</td>\n",
       "      <td>NaN</td>\n",
       "      <td>56</td>\n",
       "      <td>1</td>\n",
       "      <td>1</td>\n",
       "      <td>1</td>\n",
       "      <td>1</td>\n",
       "      <td>1</td>\n",
       "      <td>1</td>\n",
       "      <td>0</td>\n",
       "    </tr>\n",
       "    <tr>\n",
       "      <th>2</th>\n",
       "      <td>Aegon Frey (Jinglebell)</td>\n",
       "      <td>None</td>\n",
       "      <td>299</td>\n",
       "      <td>3</td>\n",
       "      <td>51</td>\n",
       "      <td>49</td>\n",
       "      <td>1</td>\n",
       "      <td>1</td>\n",
       "      <td>0</td>\n",
       "      <td>0</td>\n",
       "      <td>1</td>\n",
       "      <td>0</td>\n",
       "      <td>0</td>\n",
       "    </tr>\n",
       "    <tr>\n",
       "      <th>3</th>\n",
       "      <td>Aegon Targaryen</td>\n",
       "      <td>House Targaryen</td>\n",
       "      <td>NaN</td>\n",
       "      <td>NaN</td>\n",
       "      <td>NaN</td>\n",
       "      <td>5</td>\n",
       "      <td>1</td>\n",
       "      <td>1</td>\n",
       "      <td>0</td>\n",
       "      <td>0</td>\n",
       "      <td>0</td>\n",
       "      <td>0</td>\n",
       "      <td>1</td>\n",
       "    </tr>\n",
       "    <tr>\n",
       "      <th>4</th>\n",
       "      <td>Adrack Humble</td>\n",
       "      <td>House Greyjoy</td>\n",
       "      <td>300</td>\n",
       "      <td>5</td>\n",
       "      <td>20</td>\n",
       "      <td>20</td>\n",
       "      <td>1</td>\n",
       "      <td>1</td>\n",
       "      <td>0</td>\n",
       "      <td>0</td>\n",
       "      <td>0</td>\n",
       "      <td>0</td>\n",
       "      <td>1</td>\n",
       "    </tr>\n",
       "  </tbody>\n",
       "</table>\n",
       "</div>"
      ],
      "text/plain": [
       "                        0                1           2              3   \\\n",
       "0                     Name      Allegiances  Death Year  Book of Death   \n",
       "1           Addam Marbrand        Lannister         NaN            NaN   \n",
       "2  Aegon Frey (Jinglebell)             None         299              3   \n",
       "3          Aegon Targaryen  House Targaryen         NaN            NaN   \n",
       "4            Adrack Humble    House Greyjoy         300              5   \n",
       "\n",
       "              4                   5       6         7    8    9    10   11  \\\n",
       "0  Death Chapter  Book Intro Chapter  Gender  Nobility  GoT  CoK  SoS  FfC   \n",
       "1            NaN                  56       1         1    1    1    1    1   \n",
       "2             51                  49       1         1    0    0    1    0   \n",
       "3            NaN                   5       1         1    0    0    0    0   \n",
       "4             20                  20       1         1    0    0    0    0   \n",
       "\n",
       "    12  \n",
       "0  DwD  \n",
       "1    0  \n",
       "2    0  \n",
       "3    1  \n",
       "4    1  "
      ]
     },
     "execution_count": 4,
     "metadata": {},
     "output_type": "execute_result"
    }
   ],
   "source": [
    "df2 = pd.read_csv('character-deaths.csv',header=None)\n",
    "df2.head()"
   ]
  },
  {
   "cell_type": "markdown",
   "id": "dfa05c3f",
   "metadata": {},
   "source": [
    "### Adding the header\n",
    "Using the first row of the dataframe as column names"
   ]
  },
  {
   "cell_type": "code",
   "execution_count": 5,
   "id": "1c46d3b8",
   "metadata": {},
   "outputs": [
    {
     "data": {
      "text/html": [
       "<div>\n",
       "<style scoped>\n",
       "    .dataframe tbody tr th:only-of-type {\n",
       "        vertical-align: middle;\n",
       "    }\n",
       "\n",
       "    .dataframe tbody tr th {\n",
       "        vertical-align: top;\n",
       "    }\n",
       "\n",
       "    .dataframe thead th {\n",
       "        text-align: right;\n",
       "    }\n",
       "</style>\n",
       "<table border=\"1\" class=\"dataframe\">\n",
       "  <thead>\n",
       "    <tr style=\"text-align: right;\">\n",
       "      <th></th>\n",
       "      <th>Name</th>\n",
       "      <th>Allegiances</th>\n",
       "      <th>Death Year</th>\n",
       "      <th>Book of Death</th>\n",
       "      <th>Death Chapter</th>\n",
       "      <th>Book Intro Chapter</th>\n",
       "      <th>Gender</th>\n",
       "      <th>Nobility</th>\n",
       "      <th>GoT</th>\n",
       "      <th>CoK</th>\n",
       "      <th>SoS</th>\n",
       "      <th>FfC</th>\n",
       "      <th>DwD</th>\n",
       "    </tr>\n",
       "  </thead>\n",
       "  <tbody>\n",
       "    <tr>\n",
       "      <th>1</th>\n",
       "      <td>Addam Marbrand</td>\n",
       "      <td>Lannister</td>\n",
       "      <td>NaN</td>\n",
       "      <td>NaN</td>\n",
       "      <td>NaN</td>\n",
       "      <td>56</td>\n",
       "      <td>1</td>\n",
       "      <td>1</td>\n",
       "      <td>1</td>\n",
       "      <td>1</td>\n",
       "      <td>1</td>\n",
       "      <td>1</td>\n",
       "      <td>0</td>\n",
       "    </tr>\n",
       "    <tr>\n",
       "      <th>2</th>\n",
       "      <td>Aegon Frey (Jinglebell)</td>\n",
       "      <td>None</td>\n",
       "      <td>299</td>\n",
       "      <td>3</td>\n",
       "      <td>51</td>\n",
       "      <td>49</td>\n",
       "      <td>1</td>\n",
       "      <td>1</td>\n",
       "      <td>0</td>\n",
       "      <td>0</td>\n",
       "      <td>1</td>\n",
       "      <td>0</td>\n",
       "      <td>0</td>\n",
       "    </tr>\n",
       "    <tr>\n",
       "      <th>3</th>\n",
       "      <td>Aegon Targaryen</td>\n",
       "      <td>House Targaryen</td>\n",
       "      <td>NaN</td>\n",
       "      <td>NaN</td>\n",
       "      <td>NaN</td>\n",
       "      <td>5</td>\n",
       "      <td>1</td>\n",
       "      <td>1</td>\n",
       "      <td>0</td>\n",
       "      <td>0</td>\n",
       "      <td>0</td>\n",
       "      <td>0</td>\n",
       "      <td>1</td>\n",
       "    </tr>\n",
       "    <tr>\n",
       "      <th>4</th>\n",
       "      <td>Adrack Humble</td>\n",
       "      <td>House Greyjoy</td>\n",
       "      <td>300</td>\n",
       "      <td>5</td>\n",
       "      <td>20</td>\n",
       "      <td>20</td>\n",
       "      <td>1</td>\n",
       "      <td>1</td>\n",
       "      <td>0</td>\n",
       "      <td>0</td>\n",
       "      <td>0</td>\n",
       "      <td>0</td>\n",
       "      <td>1</td>\n",
       "    </tr>\n",
       "    <tr>\n",
       "      <th>5</th>\n",
       "      <td>Aemon Costayne</td>\n",
       "      <td>Lannister</td>\n",
       "      <td>NaN</td>\n",
       "      <td>NaN</td>\n",
       "      <td>NaN</td>\n",
       "      <td>NaN</td>\n",
       "      <td>1</td>\n",
       "      <td>1</td>\n",
       "      <td>0</td>\n",
       "      <td>0</td>\n",
       "      <td>1</td>\n",
       "      <td>0</td>\n",
       "      <td>0</td>\n",
       "    </tr>\n",
       "  </tbody>\n",
       "</table>\n",
       "</div>"
      ],
      "text/plain": [
       "0                     Name      Allegiances Death Year Book of Death  \\\n",
       "1           Addam Marbrand        Lannister        NaN           NaN   \n",
       "2  Aegon Frey (Jinglebell)             None        299             3   \n",
       "3          Aegon Targaryen  House Targaryen        NaN           NaN   \n",
       "4            Adrack Humble    House Greyjoy        300             5   \n",
       "5           Aemon Costayne        Lannister        NaN           NaN   \n",
       "\n",
       "0 Death Chapter Book Intro Chapter Gender Nobility GoT CoK SoS FfC DwD  \n",
       "1           NaN                 56      1        1   1   1   1   1   0  \n",
       "2            51                 49      1        1   0   0   1   0   0  \n",
       "3           NaN                  5      1        1   0   0   0   0   1  \n",
       "4            20                 20      1        1   0   0   0   0   1  \n",
       "5           NaN                NaN      1        1   0   0   1   0   0  "
      ]
     },
     "execution_count": 5,
     "metadata": {},
     "output_type": "execute_result"
    }
   ],
   "source": [
    "header=df2.iloc[0]\n",
    "df2=df2[1:]\n",
    "df2.columns=header\n",
    "df2.head()"
   ]
  },
  {
   "cell_type": "code",
   "execution_count": 6,
   "id": "494efad7",
   "metadata": {},
   "outputs": [
    {
     "data": {
      "text/html": [
       "<div>\n",
       "<style scoped>\n",
       "    .dataframe tbody tr th:only-of-type {\n",
       "        vertical-align: middle;\n",
       "    }\n",
       "\n",
       "    .dataframe tbody tr th {\n",
       "        vertical-align: top;\n",
       "    }\n",
       "\n",
       "    .dataframe thead th {\n",
       "        text-align: right;\n",
       "    }\n",
       "</style>\n",
       "<table border=\"1\" class=\"dataframe\">\n",
       "  <thead>\n",
       "    <tr style=\"text-align: right;\">\n",
       "      <th></th>\n",
       "      <th>Name</th>\n",
       "      <th>Allegiances</th>\n",
       "      <th>Death Year</th>\n",
       "      <th>Book of Death</th>\n",
       "      <th>Death Chapter</th>\n",
       "      <th>Book Intro Chapter</th>\n",
       "      <th>Gender</th>\n",
       "      <th>Nobility</th>\n",
       "      <th>GoT</th>\n",
       "      <th>CoK</th>\n",
       "      <th>SoS</th>\n",
       "      <th>FfC</th>\n",
       "      <th>DwD</th>\n",
       "    </tr>\n",
       "  </thead>\n",
       "  <tbody>\n",
       "    <tr>\n",
       "      <th>913</th>\n",
       "      <td>Zollo</td>\n",
       "      <td>None</td>\n",
       "      <td>NaN</td>\n",
       "      <td>NaN</td>\n",
       "      <td>NaN</td>\n",
       "      <td>21</td>\n",
       "      <td>1</td>\n",
       "      <td>0</td>\n",
       "      <td>0</td>\n",
       "      <td>0</td>\n",
       "      <td>1</td>\n",
       "      <td>0</td>\n",
       "      <td>0</td>\n",
       "    </tr>\n",
       "    <tr>\n",
       "      <th>914</th>\n",
       "      <td>Yurkhaz zo Yunzak</td>\n",
       "      <td>None</td>\n",
       "      <td>300</td>\n",
       "      <td>5</td>\n",
       "      <td>59</td>\n",
       "      <td>47</td>\n",
       "      <td>1</td>\n",
       "      <td>0</td>\n",
       "      <td>0</td>\n",
       "      <td>0</td>\n",
       "      <td>0</td>\n",
       "      <td>0</td>\n",
       "      <td>1</td>\n",
       "    </tr>\n",
       "    <tr>\n",
       "      <th>915</th>\n",
       "      <td>Yezzan Zo Qaggaz</td>\n",
       "      <td>None</td>\n",
       "      <td>300</td>\n",
       "      <td>5</td>\n",
       "      <td>57</td>\n",
       "      <td>25</td>\n",
       "      <td>1</td>\n",
       "      <td>1</td>\n",
       "      <td>0</td>\n",
       "      <td>0</td>\n",
       "      <td>0</td>\n",
       "      <td>0</td>\n",
       "      <td>1</td>\n",
       "    </tr>\n",
       "    <tr>\n",
       "      <th>916</th>\n",
       "      <td>Torwynd the Tame</td>\n",
       "      <td>Wildling</td>\n",
       "      <td>300</td>\n",
       "      <td>5</td>\n",
       "      <td>73</td>\n",
       "      <td>73</td>\n",
       "      <td>1</td>\n",
       "      <td>0</td>\n",
       "      <td>0</td>\n",
       "      <td>0</td>\n",
       "      <td>1</td>\n",
       "      <td>0</td>\n",
       "      <td>0</td>\n",
       "    </tr>\n",
       "    <tr>\n",
       "      <th>917</th>\n",
       "      <td>Talbert Serry</td>\n",
       "      <td>Tyrell</td>\n",
       "      <td>300</td>\n",
       "      <td>4</td>\n",
       "      <td>29</td>\n",
       "      <td>29</td>\n",
       "      <td>1</td>\n",
       "      <td>1</td>\n",
       "      <td>0</td>\n",
       "      <td>0</td>\n",
       "      <td>0</td>\n",
       "      <td>1</td>\n",
       "      <td>0</td>\n",
       "    </tr>\n",
       "  </tbody>\n",
       "</table>\n",
       "</div>"
      ],
      "text/plain": [
       "0                 Name Allegiances Death Year Book of Death Death Chapter  \\\n",
       "913              Zollo        None        NaN           NaN           NaN   \n",
       "914  Yurkhaz zo Yunzak        None        300             5            59   \n",
       "915   Yezzan Zo Qaggaz        None        300             5            57   \n",
       "916   Torwynd the Tame    Wildling        300             5            73   \n",
       "917      Talbert Serry      Tyrell        300             4            29   \n",
       "\n",
       "0   Book Intro Chapter Gender Nobility GoT CoK SoS FfC DwD  \n",
       "913                 21      1        0   0   0   1   0   0  \n",
       "914                 47      1        0   0   0   0   0   1  \n",
       "915                 25      1        1   0   0   0   0   1  \n",
       "916                 73      1        0   0   0   1   0   0  \n",
       "917                 29      1        1   0   0   0   1   0  "
      ]
     },
     "execution_count": 6,
     "metadata": {},
     "output_type": "execute_result"
    }
   ],
   "source": [
    "df2.tail()"
   ]
  },
  {
   "cell_type": "markdown",
   "id": "bba3a71f",
   "metadata": {},
   "source": [
    "### Displaying the first 10 rows"
   ]
  },
  {
   "cell_type": "code",
   "execution_count": 7,
   "id": "45948a4e",
   "metadata": {},
   "outputs": [
    {
     "data": {
      "text/html": [
       "<div>\n",
       "<style scoped>\n",
       "    .dataframe tbody tr th:only-of-type {\n",
       "        vertical-align: middle;\n",
       "    }\n",
       "\n",
       "    .dataframe tbody tr th {\n",
       "        vertical-align: top;\n",
       "    }\n",
       "\n",
       "    .dataframe thead th {\n",
       "        text-align: right;\n",
       "    }\n",
       "</style>\n",
       "<table border=\"1\" class=\"dataframe\">\n",
       "  <thead>\n",
       "    <tr style=\"text-align: right;\">\n",
       "      <th></th>\n",
       "      <th>Name</th>\n",
       "      <th>Allegiances</th>\n",
       "      <th>Death Year</th>\n",
       "      <th>Book of Death</th>\n",
       "      <th>Death Chapter</th>\n",
       "      <th>Book Intro Chapter</th>\n",
       "      <th>Gender</th>\n",
       "      <th>Nobility</th>\n",
       "      <th>GoT</th>\n",
       "      <th>CoK</th>\n",
       "      <th>SoS</th>\n",
       "      <th>FfC</th>\n",
       "      <th>DwD</th>\n",
       "    </tr>\n",
       "  </thead>\n",
       "  <tbody>\n",
       "    <tr>\n",
       "      <th>1</th>\n",
       "      <td>Addam Marbrand</td>\n",
       "      <td>Lannister</td>\n",
       "      <td>NaN</td>\n",
       "      <td>NaN</td>\n",
       "      <td>NaN</td>\n",
       "      <td>56</td>\n",
       "      <td>1</td>\n",
       "      <td>1</td>\n",
       "      <td>1</td>\n",
       "      <td>1</td>\n",
       "      <td>1</td>\n",
       "      <td>1</td>\n",
       "      <td>0</td>\n",
       "    </tr>\n",
       "    <tr>\n",
       "      <th>2</th>\n",
       "      <td>Aegon Frey (Jinglebell)</td>\n",
       "      <td>None</td>\n",
       "      <td>299</td>\n",
       "      <td>3</td>\n",
       "      <td>51</td>\n",
       "      <td>49</td>\n",
       "      <td>1</td>\n",
       "      <td>1</td>\n",
       "      <td>0</td>\n",
       "      <td>0</td>\n",
       "      <td>1</td>\n",
       "      <td>0</td>\n",
       "      <td>0</td>\n",
       "    </tr>\n",
       "    <tr>\n",
       "      <th>3</th>\n",
       "      <td>Aegon Targaryen</td>\n",
       "      <td>House Targaryen</td>\n",
       "      <td>NaN</td>\n",
       "      <td>NaN</td>\n",
       "      <td>NaN</td>\n",
       "      <td>5</td>\n",
       "      <td>1</td>\n",
       "      <td>1</td>\n",
       "      <td>0</td>\n",
       "      <td>0</td>\n",
       "      <td>0</td>\n",
       "      <td>0</td>\n",
       "      <td>1</td>\n",
       "    </tr>\n",
       "    <tr>\n",
       "      <th>4</th>\n",
       "      <td>Adrack Humble</td>\n",
       "      <td>House Greyjoy</td>\n",
       "      <td>300</td>\n",
       "      <td>5</td>\n",
       "      <td>20</td>\n",
       "      <td>20</td>\n",
       "      <td>1</td>\n",
       "      <td>1</td>\n",
       "      <td>0</td>\n",
       "      <td>0</td>\n",
       "      <td>0</td>\n",
       "      <td>0</td>\n",
       "      <td>1</td>\n",
       "    </tr>\n",
       "    <tr>\n",
       "      <th>5</th>\n",
       "      <td>Aemon Costayne</td>\n",
       "      <td>Lannister</td>\n",
       "      <td>NaN</td>\n",
       "      <td>NaN</td>\n",
       "      <td>NaN</td>\n",
       "      <td>NaN</td>\n",
       "      <td>1</td>\n",
       "      <td>1</td>\n",
       "      <td>0</td>\n",
       "      <td>0</td>\n",
       "      <td>1</td>\n",
       "      <td>0</td>\n",
       "      <td>0</td>\n",
       "    </tr>\n",
       "    <tr>\n",
       "      <th>6</th>\n",
       "      <td>Aemon Estermont</td>\n",
       "      <td>Baratheon</td>\n",
       "      <td>NaN</td>\n",
       "      <td>NaN</td>\n",
       "      <td>NaN</td>\n",
       "      <td>NaN</td>\n",
       "      <td>1</td>\n",
       "      <td>1</td>\n",
       "      <td>0</td>\n",
       "      <td>1</td>\n",
       "      <td>1</td>\n",
       "      <td>0</td>\n",
       "      <td>0</td>\n",
       "    </tr>\n",
       "    <tr>\n",
       "      <th>7</th>\n",
       "      <td>Aemon Targaryen (son of Maekar I)</td>\n",
       "      <td>Night's Watch</td>\n",
       "      <td>300</td>\n",
       "      <td>4</td>\n",
       "      <td>35</td>\n",
       "      <td>21</td>\n",
       "      <td>1</td>\n",
       "      <td>1</td>\n",
       "      <td>1</td>\n",
       "      <td>0</td>\n",
       "      <td>1</td>\n",
       "      <td>1</td>\n",
       "      <td>0</td>\n",
       "    </tr>\n",
       "    <tr>\n",
       "      <th>8</th>\n",
       "      <td>Aenys Frey</td>\n",
       "      <td>None</td>\n",
       "      <td>300</td>\n",
       "      <td>5</td>\n",
       "      <td>NaN</td>\n",
       "      <td>59</td>\n",
       "      <td>0</td>\n",
       "      <td>1</td>\n",
       "      <td>1</td>\n",
       "      <td>1</td>\n",
       "      <td>1</td>\n",
       "      <td>0</td>\n",
       "      <td>1</td>\n",
       "    </tr>\n",
       "    <tr>\n",
       "      <th>9</th>\n",
       "      <td>Aeron Greyjoy</td>\n",
       "      <td>House Greyjoy</td>\n",
       "      <td>NaN</td>\n",
       "      <td>NaN</td>\n",
       "      <td>NaN</td>\n",
       "      <td>11</td>\n",
       "      <td>1</td>\n",
       "      <td>1</td>\n",
       "      <td>0</td>\n",
       "      <td>1</td>\n",
       "      <td>0</td>\n",
       "      <td>1</td>\n",
       "      <td>0</td>\n",
       "    </tr>\n",
       "    <tr>\n",
       "      <th>10</th>\n",
       "      <td>Aethan</td>\n",
       "      <td>Night's Watch</td>\n",
       "      <td>NaN</td>\n",
       "      <td>NaN</td>\n",
       "      <td>NaN</td>\n",
       "      <td>0</td>\n",
       "      <td>1</td>\n",
       "      <td>0</td>\n",
       "      <td>0</td>\n",
       "      <td>0</td>\n",
       "      <td>1</td>\n",
       "      <td>0</td>\n",
       "      <td>0</td>\n",
       "    </tr>\n",
       "  </tbody>\n",
       "</table>\n",
       "</div>"
      ],
      "text/plain": [
       "0                                Name      Allegiances Death Year  \\\n",
       "1                      Addam Marbrand        Lannister        NaN   \n",
       "2             Aegon Frey (Jinglebell)             None        299   \n",
       "3                     Aegon Targaryen  House Targaryen        NaN   \n",
       "4                       Adrack Humble    House Greyjoy        300   \n",
       "5                      Aemon Costayne        Lannister        NaN   \n",
       "6                     Aemon Estermont        Baratheon        NaN   \n",
       "7   Aemon Targaryen (son of Maekar I)    Night's Watch        300   \n",
       "8                          Aenys Frey             None        300   \n",
       "9                       Aeron Greyjoy    House Greyjoy        NaN   \n",
       "10                             Aethan    Night's Watch        NaN   \n",
       "\n",
       "0  Book of Death Death Chapter Book Intro Chapter Gender Nobility GoT CoK SoS  \\\n",
       "1            NaN           NaN                 56      1        1   1   1   1   \n",
       "2              3            51                 49      1        1   0   0   1   \n",
       "3            NaN           NaN                  5      1        1   0   0   0   \n",
       "4              5            20                 20      1        1   0   0   0   \n",
       "5            NaN           NaN                NaN      1        1   0   0   1   \n",
       "6            NaN           NaN                NaN      1        1   0   1   1   \n",
       "7              4            35                 21      1        1   1   0   1   \n",
       "8              5           NaN                 59      0        1   1   1   1   \n",
       "9            NaN           NaN                 11      1        1   0   1   0   \n",
       "10           NaN           NaN                  0      1        0   0   0   1   \n",
       "\n",
       "0  FfC DwD  \n",
       "1    1   0  \n",
       "2    0   0  \n",
       "3    0   1  \n",
       "4    0   1  \n",
       "5    0   0  \n",
       "6    0   0  \n",
       "7    1   0  \n",
       "8    0   1  \n",
       "9    1   0  \n",
       "10   0   0  "
      ]
     },
     "execution_count": 7,
     "metadata": {},
     "output_type": "execute_result"
    }
   ],
   "source": [
    "df2[:10]"
   ]
  },
  {
   "cell_type": "markdown",
   "id": "42f8b8f0",
   "metadata": {},
   "source": [
    "## Saving DataFrame to CSV"
   ]
  },
  {
   "cell_type": "markdown",
   "id": "52389bcf",
   "metadata": {},
   "source": [
    "Let's save the last 10 rows of the dataframe into a CSV file called result.csv"
   ]
  },
  {
   "cell_type": "code",
   "execution_count": 8,
   "id": "e5cf99fd",
   "metadata": {},
   "outputs": [],
   "source": [
    "df_temp=df2[:10]\n",
    "df_temp.to_csv(\"result.csv\",index=False)"
   ]
  },
  {
   "cell_type": "markdown",
   "id": "05467c47",
   "metadata": {},
   "source": [
    "## Open an xls file and save it as CSV"
   ]
  },
  {
   "cell_type": "code",
   "execution_count": 9,
   "id": "9cac2258",
   "metadata": {},
   "outputs": [
    {
     "data": {
      "text/html": [
       "<div>\n",
       "<style scoped>\n",
       "    .dataframe tbody tr th:only-of-type {\n",
       "        vertical-align: middle;\n",
       "    }\n",
       "\n",
       "    .dataframe tbody tr th {\n",
       "        vertical-align: top;\n",
       "    }\n",
       "\n",
       "    .dataframe thead th {\n",
       "        text-align: right;\n",
       "    }\n",
       "</style>\n",
       "<table border=\"1\" class=\"dataframe\">\n",
       "  <thead>\n",
       "    <tr style=\"text-align: right;\">\n",
       "      <th></th>\n",
       "      <th>Unnamed: 0</th>\n",
       "      <th>Name</th>\n",
       "      <th>Allegiances</th>\n",
       "      <th>Death Year</th>\n",
       "      <th>Book of Death</th>\n",
       "      <th>Death Chapter</th>\n",
       "      <th>Book Intro Chapter</th>\n",
       "      <th>Gender</th>\n",
       "      <th>Nobility</th>\n",
       "      <th>GoT</th>\n",
       "      <th>CoK</th>\n",
       "      <th>SoS</th>\n",
       "      <th>FfC</th>\n",
       "      <th>DwD</th>\n",
       "    </tr>\n",
       "  </thead>\n",
       "  <tbody>\n",
       "    <tr>\n",
       "      <th>0</th>\n",
       "      <td>1</td>\n",
       "      <td>Addam Marbrand</td>\n",
       "      <td>Lannister</td>\n",
       "      <td>NaN</td>\n",
       "      <td>NaN</td>\n",
       "      <td>NaN</td>\n",
       "      <td>56.0</td>\n",
       "      <td>1</td>\n",
       "      <td>1</td>\n",
       "      <td>1</td>\n",
       "      <td>1</td>\n",
       "      <td>1</td>\n",
       "      <td>1</td>\n",
       "      <td>0</td>\n",
       "    </tr>\n",
       "    <tr>\n",
       "      <th>1</th>\n",
       "      <td>2</td>\n",
       "      <td>Aegon Frey (Jinglebell)</td>\n",
       "      <td>None</td>\n",
       "      <td>299.0</td>\n",
       "      <td>3.0</td>\n",
       "      <td>51.0</td>\n",
       "      <td>49.0</td>\n",
       "      <td>1</td>\n",
       "      <td>1</td>\n",
       "      <td>0</td>\n",
       "      <td>0</td>\n",
       "      <td>1</td>\n",
       "      <td>0</td>\n",
       "      <td>0</td>\n",
       "    </tr>\n",
       "    <tr>\n",
       "      <th>2</th>\n",
       "      <td>3</td>\n",
       "      <td>Aegon Targaryen</td>\n",
       "      <td>House Targaryen</td>\n",
       "      <td>NaN</td>\n",
       "      <td>NaN</td>\n",
       "      <td>NaN</td>\n",
       "      <td>5.0</td>\n",
       "      <td>1</td>\n",
       "      <td>1</td>\n",
       "      <td>0</td>\n",
       "      <td>0</td>\n",
       "      <td>0</td>\n",
       "      <td>0</td>\n",
       "      <td>1</td>\n",
       "    </tr>\n",
       "    <tr>\n",
       "      <th>3</th>\n",
       "      <td>4</td>\n",
       "      <td>Adrack Humble</td>\n",
       "      <td>House Greyjoy</td>\n",
       "      <td>300.0</td>\n",
       "      <td>5.0</td>\n",
       "      <td>20.0</td>\n",
       "      <td>20.0</td>\n",
       "      <td>1</td>\n",
       "      <td>1</td>\n",
       "      <td>0</td>\n",
       "      <td>0</td>\n",
       "      <td>0</td>\n",
       "      <td>0</td>\n",
       "      <td>1</td>\n",
       "    </tr>\n",
       "    <tr>\n",
       "      <th>4</th>\n",
       "      <td>5</td>\n",
       "      <td>Aemon Costayne</td>\n",
       "      <td>Lannister</td>\n",
       "      <td>NaN</td>\n",
       "      <td>NaN</td>\n",
       "      <td>NaN</td>\n",
       "      <td>NaN</td>\n",
       "      <td>1</td>\n",
       "      <td>1</td>\n",
       "      <td>0</td>\n",
       "      <td>0</td>\n",
       "      <td>1</td>\n",
       "      <td>0</td>\n",
       "      <td>0</td>\n",
       "    </tr>\n",
       "    <tr>\n",
       "      <th>5</th>\n",
       "      <td>6</td>\n",
       "      <td>Aemon Estermont</td>\n",
       "      <td>Baratheon</td>\n",
       "      <td>NaN</td>\n",
       "      <td>NaN</td>\n",
       "      <td>NaN</td>\n",
       "      <td>NaN</td>\n",
       "      <td>1</td>\n",
       "      <td>1</td>\n",
       "      <td>0</td>\n",
       "      <td>1</td>\n",
       "      <td>1</td>\n",
       "      <td>0</td>\n",
       "      <td>0</td>\n",
       "    </tr>\n",
       "    <tr>\n",
       "      <th>6</th>\n",
       "      <td>7</td>\n",
       "      <td>Aemon Targaryen (son of Maekar I)</td>\n",
       "      <td>Night's Watch</td>\n",
       "      <td>300.0</td>\n",
       "      <td>4.0</td>\n",
       "      <td>35.0</td>\n",
       "      <td>21.0</td>\n",
       "      <td>1</td>\n",
       "      <td>1</td>\n",
       "      <td>1</td>\n",
       "      <td>0</td>\n",
       "      <td>1</td>\n",
       "      <td>1</td>\n",
       "      <td>0</td>\n",
       "    </tr>\n",
       "    <tr>\n",
       "      <th>7</th>\n",
       "      <td>8</td>\n",
       "      <td>Aenys Frey</td>\n",
       "      <td>None</td>\n",
       "      <td>300.0</td>\n",
       "      <td>5.0</td>\n",
       "      <td>NaN</td>\n",
       "      <td>59.0</td>\n",
       "      <td>0</td>\n",
       "      <td>1</td>\n",
       "      <td>1</td>\n",
       "      <td>1</td>\n",
       "      <td>1</td>\n",
       "      <td>0</td>\n",
       "      <td>1</td>\n",
       "    </tr>\n",
       "    <tr>\n",
       "      <th>8</th>\n",
       "      <td>9</td>\n",
       "      <td>Aeron Greyjoy</td>\n",
       "      <td>House Greyjoy</td>\n",
       "      <td>NaN</td>\n",
       "      <td>NaN</td>\n",
       "      <td>NaN</td>\n",
       "      <td>11.0</td>\n",
       "      <td>1</td>\n",
       "      <td>1</td>\n",
       "      <td>0</td>\n",
       "      <td>1</td>\n",
       "      <td>0</td>\n",
       "      <td>1</td>\n",
       "      <td>0</td>\n",
       "    </tr>\n",
       "    <tr>\n",
       "      <th>9</th>\n",
       "      <td>10</td>\n",
       "      <td>Aethan</td>\n",
       "      <td>Night's Watch</td>\n",
       "      <td>NaN</td>\n",
       "      <td>NaN</td>\n",
       "      <td>NaN</td>\n",
       "      <td>0.0</td>\n",
       "      <td>1</td>\n",
       "      <td>0</td>\n",
       "      <td>0</td>\n",
       "      <td>0</td>\n",
       "      <td>1</td>\n",
       "      <td>0</td>\n",
       "      <td>0</td>\n",
       "    </tr>\n",
       "  </tbody>\n",
       "</table>\n",
       "</div>"
      ],
      "text/plain": [
       "   Unnamed: 0                               Name      Allegiances  Death Year  \\\n",
       "0           1                     Addam Marbrand        Lannister         NaN   \n",
       "1           2            Aegon Frey (Jinglebell)             None       299.0   \n",
       "2           3                    Aegon Targaryen  House Targaryen         NaN   \n",
       "3           4                      Adrack Humble    House Greyjoy       300.0   \n",
       "4           5                     Aemon Costayne        Lannister         NaN   \n",
       "5           6                    Aemon Estermont        Baratheon         NaN   \n",
       "6           7  Aemon Targaryen (son of Maekar I)    Night's Watch       300.0   \n",
       "7           8                         Aenys Frey             None       300.0   \n",
       "8           9                      Aeron Greyjoy    House Greyjoy         NaN   \n",
       "9          10                             Aethan    Night's Watch         NaN   \n",
       "\n",
       "   Book of Death  Death Chapter  Book Intro Chapter  Gender  Nobility  GoT  \\\n",
       "0            NaN            NaN                56.0       1         1    1   \n",
       "1            3.0           51.0                49.0       1         1    0   \n",
       "2            NaN            NaN                 5.0       1         1    0   \n",
       "3            5.0           20.0                20.0       1         1    0   \n",
       "4            NaN            NaN                 NaN       1         1    0   \n",
       "5            NaN            NaN                 NaN       1         1    0   \n",
       "6            4.0           35.0                21.0       1         1    1   \n",
       "7            5.0            NaN                59.0       0         1    1   \n",
       "8            NaN            NaN                11.0       1         1    0   \n",
       "9            NaN            NaN                 0.0       1         0    0   \n",
       "\n",
       "   CoK  SoS  FfC  DwD  \n",
       "0    1    1    1    0  \n",
       "1    0    1    0    0  \n",
       "2    0    0    0    1  \n",
       "3    0    0    0    1  \n",
       "4    0    1    0    0  \n",
       "5    1    1    0    0  \n",
       "6    0    1    1    0  \n",
       "7    1    1    0    1  \n",
       "8    1    0    1    0  \n",
       "9    0    1    0    0  "
      ]
     },
     "execution_count": 9,
     "metadata": {},
     "output_type": "execute_result"
    }
   ],
   "source": [
    "df3=pd.read_excel(\"result2.xls\")\n",
    "df3"
   ]
  },
  {
   "cell_type": "code",
   "execution_count": 10,
   "id": "b3f83e9b",
   "metadata": {},
   "outputs": [],
   "source": [
    "df3.to_csv(\"result3.csv\",index=False)"
   ]
  },
  {
   "cell_type": "markdown",
   "id": "22971554",
   "metadata": {},
   "source": [
    "## Setting a column as index"
   ]
  },
  {
   "cell_type": "code",
   "execution_count": 11,
   "id": "6d4e3fb3",
   "metadata": {},
   "outputs": [
    {
     "data": {
      "text/html": [
       "<div>\n",
       "<style scoped>\n",
       "    .dataframe tbody tr th:only-of-type {\n",
       "        vertical-align: middle;\n",
       "    }\n",
       "\n",
       "    .dataframe tbody tr th {\n",
       "        vertical-align: top;\n",
       "    }\n",
       "\n",
       "    .dataframe thead th {\n",
       "        text-align: right;\n",
       "    }\n",
       "</style>\n",
       "<table border=\"1\" class=\"dataframe\">\n",
       "  <thead>\n",
       "    <tr style=\"text-align: right;\">\n",
       "      <th></th>\n",
       "      <th>Name</th>\n",
       "      <th>Allegiances</th>\n",
       "      <th>Death Year</th>\n",
       "      <th>Book of Death</th>\n",
       "      <th>Death Chapter</th>\n",
       "      <th>Book Intro Chapter</th>\n",
       "      <th>Nobility</th>\n",
       "      <th>GoT</th>\n",
       "      <th>CoK</th>\n",
       "      <th>SoS</th>\n",
       "      <th>FfC</th>\n",
       "      <th>DwD</th>\n",
       "    </tr>\n",
       "    <tr>\n",
       "      <th>Gender</th>\n",
       "      <th></th>\n",
       "      <th></th>\n",
       "      <th></th>\n",
       "      <th></th>\n",
       "      <th></th>\n",
       "      <th></th>\n",
       "      <th></th>\n",
       "      <th></th>\n",
       "      <th></th>\n",
       "      <th></th>\n",
       "      <th></th>\n",
       "      <th></th>\n",
       "    </tr>\n",
       "  </thead>\n",
       "  <tbody>\n",
       "    <tr>\n",
       "      <th>1</th>\n",
       "      <td>Addam Marbrand</td>\n",
       "      <td>Lannister</td>\n",
       "      <td>NaN</td>\n",
       "      <td>NaN</td>\n",
       "      <td>NaN</td>\n",
       "      <td>56</td>\n",
       "      <td>1</td>\n",
       "      <td>1</td>\n",
       "      <td>1</td>\n",
       "      <td>1</td>\n",
       "      <td>1</td>\n",
       "      <td>0</td>\n",
       "    </tr>\n",
       "    <tr>\n",
       "      <th>1</th>\n",
       "      <td>Aegon Frey (Jinglebell)</td>\n",
       "      <td>None</td>\n",
       "      <td>299</td>\n",
       "      <td>3</td>\n",
       "      <td>51</td>\n",
       "      <td>49</td>\n",
       "      <td>1</td>\n",
       "      <td>0</td>\n",
       "      <td>0</td>\n",
       "      <td>1</td>\n",
       "      <td>0</td>\n",
       "      <td>0</td>\n",
       "    </tr>\n",
       "    <tr>\n",
       "      <th>1</th>\n",
       "      <td>Aegon Targaryen</td>\n",
       "      <td>House Targaryen</td>\n",
       "      <td>NaN</td>\n",
       "      <td>NaN</td>\n",
       "      <td>NaN</td>\n",
       "      <td>5</td>\n",
       "      <td>1</td>\n",
       "      <td>0</td>\n",
       "      <td>0</td>\n",
       "      <td>0</td>\n",
       "      <td>0</td>\n",
       "      <td>1</td>\n",
       "    </tr>\n",
       "    <tr>\n",
       "      <th>1</th>\n",
       "      <td>Adrack Humble</td>\n",
       "      <td>House Greyjoy</td>\n",
       "      <td>300</td>\n",
       "      <td>5</td>\n",
       "      <td>20</td>\n",
       "      <td>20</td>\n",
       "      <td>1</td>\n",
       "      <td>0</td>\n",
       "      <td>0</td>\n",
       "      <td>0</td>\n",
       "      <td>0</td>\n",
       "      <td>1</td>\n",
       "    </tr>\n",
       "    <tr>\n",
       "      <th>1</th>\n",
       "      <td>Aemon Costayne</td>\n",
       "      <td>Lannister</td>\n",
       "      <td>NaN</td>\n",
       "      <td>NaN</td>\n",
       "      <td>NaN</td>\n",
       "      <td>NaN</td>\n",
       "      <td>1</td>\n",
       "      <td>0</td>\n",
       "      <td>0</td>\n",
       "      <td>1</td>\n",
       "      <td>0</td>\n",
       "      <td>0</td>\n",
       "    </tr>\n",
       "    <tr>\n",
       "      <th>...</th>\n",
       "      <td>...</td>\n",
       "      <td>...</td>\n",
       "      <td>...</td>\n",
       "      <td>...</td>\n",
       "      <td>...</td>\n",
       "      <td>...</td>\n",
       "      <td>...</td>\n",
       "      <td>...</td>\n",
       "      <td>...</td>\n",
       "      <td>...</td>\n",
       "      <td>...</td>\n",
       "      <td>...</td>\n",
       "    </tr>\n",
       "    <tr>\n",
       "      <th>1</th>\n",
       "      <td>Zollo</td>\n",
       "      <td>None</td>\n",
       "      <td>NaN</td>\n",
       "      <td>NaN</td>\n",
       "      <td>NaN</td>\n",
       "      <td>21</td>\n",
       "      <td>0</td>\n",
       "      <td>0</td>\n",
       "      <td>0</td>\n",
       "      <td>1</td>\n",
       "      <td>0</td>\n",
       "      <td>0</td>\n",
       "    </tr>\n",
       "    <tr>\n",
       "      <th>1</th>\n",
       "      <td>Yurkhaz zo Yunzak</td>\n",
       "      <td>None</td>\n",
       "      <td>300</td>\n",
       "      <td>5</td>\n",
       "      <td>59</td>\n",
       "      <td>47</td>\n",
       "      <td>0</td>\n",
       "      <td>0</td>\n",
       "      <td>0</td>\n",
       "      <td>0</td>\n",
       "      <td>0</td>\n",
       "      <td>1</td>\n",
       "    </tr>\n",
       "    <tr>\n",
       "      <th>1</th>\n",
       "      <td>Yezzan Zo Qaggaz</td>\n",
       "      <td>None</td>\n",
       "      <td>300</td>\n",
       "      <td>5</td>\n",
       "      <td>57</td>\n",
       "      <td>25</td>\n",
       "      <td>1</td>\n",
       "      <td>0</td>\n",
       "      <td>0</td>\n",
       "      <td>0</td>\n",
       "      <td>0</td>\n",
       "      <td>1</td>\n",
       "    </tr>\n",
       "    <tr>\n",
       "      <th>1</th>\n",
       "      <td>Torwynd the Tame</td>\n",
       "      <td>Wildling</td>\n",
       "      <td>300</td>\n",
       "      <td>5</td>\n",
       "      <td>73</td>\n",
       "      <td>73</td>\n",
       "      <td>0</td>\n",
       "      <td>0</td>\n",
       "      <td>0</td>\n",
       "      <td>1</td>\n",
       "      <td>0</td>\n",
       "      <td>0</td>\n",
       "    </tr>\n",
       "    <tr>\n",
       "      <th>1</th>\n",
       "      <td>Talbert Serry</td>\n",
       "      <td>Tyrell</td>\n",
       "      <td>300</td>\n",
       "      <td>4</td>\n",
       "      <td>29</td>\n",
       "      <td>29</td>\n",
       "      <td>1</td>\n",
       "      <td>0</td>\n",
       "      <td>0</td>\n",
       "      <td>0</td>\n",
       "      <td>1</td>\n",
       "      <td>0</td>\n",
       "    </tr>\n",
       "  </tbody>\n",
       "</table>\n",
       "<p>917 rows × 12 columns</p>\n",
       "</div>"
      ],
      "text/plain": [
       "0                          Name      Allegiances Death Year Book of Death  \\\n",
       "Gender                                                                      \n",
       "1                Addam Marbrand        Lannister        NaN           NaN   \n",
       "1       Aegon Frey (Jinglebell)             None        299             3   \n",
       "1               Aegon Targaryen  House Targaryen        NaN           NaN   \n",
       "1                 Adrack Humble    House Greyjoy        300             5   \n",
       "1                Aemon Costayne        Lannister        NaN           NaN   \n",
       "...                         ...              ...        ...           ...   \n",
       "1                         Zollo             None        NaN           NaN   \n",
       "1             Yurkhaz zo Yunzak             None        300             5   \n",
       "1              Yezzan Zo Qaggaz             None        300             5   \n",
       "1              Torwynd the Tame         Wildling        300             5   \n",
       "1                 Talbert Serry           Tyrell        300             4   \n",
       "\n",
       "0      Death Chapter Book Intro Chapter Nobility GoT CoK SoS FfC DwD  \n",
       "Gender                                                                \n",
       "1                NaN                 56        1   1   1   1   1   0  \n",
       "1                 51                 49        1   0   0   1   0   0  \n",
       "1                NaN                  5        1   0   0   0   0   1  \n",
       "1                 20                 20        1   0   0   0   0   1  \n",
       "1                NaN                NaN        1   0   0   1   0   0  \n",
       "...              ...                ...      ...  ..  ..  ..  ..  ..  \n",
       "1                NaN                 21        0   0   0   1   0   0  \n",
       "1                 59                 47        0   0   0   0   0   1  \n",
       "1                 57                 25        1   0   0   0   0   1  \n",
       "1                 73                 73        0   0   0   1   0   0  \n",
       "1                 29                 29        1   0   0   0   1   0  \n",
       "\n",
       "[917 rows x 12 columns]"
      ]
     },
     "execution_count": 11,
     "metadata": {},
     "output_type": "execute_result"
    }
   ],
   "source": [
    "df=df2.copy(deep=True)\n",
    "df.set_index(\"Gender\",inplace=True)\n",
    "df"
   ]
  },
  {
   "cell_type": "markdown",
   "id": "98b606d0",
   "metadata": {},
   "source": [
    "## Information about the dataframe"
   ]
  },
  {
   "cell_type": "code",
   "execution_count": 12,
   "id": "23c6c0c5",
   "metadata": {},
   "outputs": [
    {
     "data": {
      "text/plain": [
       "<bound method DataFrame.info of 0                       Name      Allegiances Death Year Book of Death  \\\n",
       "1             Addam Marbrand        Lannister        NaN           NaN   \n",
       "2    Aegon Frey (Jinglebell)             None        299             3   \n",
       "3            Aegon Targaryen  House Targaryen        NaN           NaN   \n",
       "4              Adrack Humble    House Greyjoy        300             5   \n",
       "5             Aemon Costayne        Lannister        NaN           NaN   \n",
       "..                       ...              ...        ...           ...   \n",
       "913                    Zollo             None        NaN           NaN   \n",
       "914        Yurkhaz zo Yunzak             None        300             5   \n",
       "915         Yezzan Zo Qaggaz             None        300             5   \n",
       "916         Torwynd the Tame         Wildling        300             5   \n",
       "917            Talbert Serry           Tyrell        300             4   \n",
       "\n",
       "0   Death Chapter Book Intro Chapter Gender Nobility GoT CoK SoS FfC DwD  \n",
       "1             NaN                 56      1        1   1   1   1   1   0  \n",
       "2              51                 49      1        1   0   0   1   0   0  \n",
       "3             NaN                  5      1        1   0   0   0   0   1  \n",
       "4              20                 20      1        1   0   0   0   0   1  \n",
       "5             NaN                NaN      1        1   0   0   1   0   0  \n",
       "..            ...                ...    ...      ...  ..  ..  ..  ..  ..  \n",
       "913           NaN                 21      1        0   0   0   1   0   0  \n",
       "914            59                 47      1        0   0   0   0   0   1  \n",
       "915            57                 25      1        1   0   0   0   0   1  \n",
       "916            73                 73      1        0   0   0   1   0   0  \n",
       "917            29                 29      1        1   0   0   0   1   0  \n",
       "\n",
       "[917 rows x 13 columns]>"
      ]
     },
     "execution_count": 12,
     "metadata": {},
     "output_type": "execute_result"
    }
   ],
   "source": [
    "df2.info"
   ]
  },
  {
   "cell_type": "code",
   "execution_count": 13,
   "id": "7fbe560d",
   "metadata": {},
   "outputs": [
    {
     "data": {
      "text/plain": [
       "pandas.core.frame.DataFrame"
      ]
     },
     "execution_count": 13,
     "metadata": {},
     "output_type": "execute_result"
    }
   ],
   "source": [
    "type(df2)"
   ]
  },
  {
   "cell_type": "markdown",
   "id": "e1ae7408",
   "metadata": {},
   "source": [
    "## Appending data to dataframe"
   ]
  },
  {
   "cell_type": "code",
   "execution_count": 14,
   "id": "f2226177",
   "metadata": {
    "scrolled": false
   },
   "outputs": [
    {
     "data": {
      "text/html": [
       "<div>\n",
       "<style scoped>\n",
       "    .dataframe tbody tr th:only-of-type {\n",
       "        vertical-align: middle;\n",
       "    }\n",
       "\n",
       "    .dataframe tbody tr th {\n",
       "        vertical-align: top;\n",
       "    }\n",
       "\n",
       "    .dataframe thead th {\n",
       "        text-align: right;\n",
       "    }\n",
       "</style>\n",
       "<table border=\"1\" class=\"dataframe\">\n",
       "  <thead>\n",
       "    <tr style=\"text-align: right;\">\n",
       "      <th></th>\n",
       "      <th>Name</th>\n",
       "      <th>Allegiances</th>\n",
       "      <th>Death Year</th>\n",
       "      <th>Book of Death</th>\n",
       "      <th>Death Chapter</th>\n",
       "      <th>Book Intro Chapter</th>\n",
       "      <th>Gender</th>\n",
       "      <th>Nobility</th>\n",
       "      <th>GoT</th>\n",
       "      <th>CoK</th>\n",
       "      <th>SoS</th>\n",
       "      <th>FfC</th>\n",
       "      <th>DwD</th>\n",
       "    </tr>\n",
       "  </thead>\n",
       "  <tbody>\n",
       "    <tr>\n",
       "      <th>908</th>\n",
       "      <td>Yohn Royce</td>\n",
       "      <td>Arryn</td>\n",
       "      <td>NaN</td>\n",
       "      <td>NaN</td>\n",
       "      <td>NaN</td>\n",
       "      <td>29</td>\n",
       "      <td>1</td>\n",
       "      <td>1</td>\n",
       "      <td>1</td>\n",
       "      <td>0</td>\n",
       "      <td>0</td>\n",
       "      <td>1</td>\n",
       "      <td>0</td>\n",
       "    </tr>\n",
       "    <tr>\n",
       "      <th>909</th>\n",
       "      <td>Yoren</td>\n",
       "      <td>Night's Watch</td>\n",
       "      <td>299</td>\n",
       "      <td>2</td>\n",
       "      <td>19</td>\n",
       "      <td>13</td>\n",
       "      <td>1</td>\n",
       "      <td>0</td>\n",
       "      <td>1</td>\n",
       "      <td>1</td>\n",
       "      <td>0</td>\n",
       "      <td>0</td>\n",
       "      <td>0</td>\n",
       "    </tr>\n",
       "    <tr>\n",
       "      <th>910</th>\n",
       "      <td>Young Henly</td>\n",
       "      <td>Night's Watch</td>\n",
       "      <td>299</td>\n",
       "      <td>3</td>\n",
       "      <td>55</td>\n",
       "      <td>55</td>\n",
       "      <td>1</td>\n",
       "      <td>0</td>\n",
       "      <td>0</td>\n",
       "      <td>0</td>\n",
       "      <td>1</td>\n",
       "      <td>0</td>\n",
       "      <td>0</td>\n",
       "    </tr>\n",
       "    <tr>\n",
       "      <th>911</th>\n",
       "      <td>Ysilla</td>\n",
       "      <td>House Targaryen</td>\n",
       "      <td>NaN</td>\n",
       "      <td>NaN</td>\n",
       "      <td>NaN</td>\n",
       "      <td>8</td>\n",
       "      <td>1</td>\n",
       "      <td>0</td>\n",
       "      <td>0</td>\n",
       "      <td>0</td>\n",
       "      <td>0</td>\n",
       "      <td>0</td>\n",
       "      <td>1</td>\n",
       "    </tr>\n",
       "    <tr>\n",
       "      <th>912</th>\n",
       "      <td>Zei</td>\n",
       "      <td>Stark</td>\n",
       "      <td>NaN</td>\n",
       "      <td>NaN</td>\n",
       "      <td>NaN</td>\n",
       "      <td>64</td>\n",
       "      <td>0</td>\n",
       "      <td>0</td>\n",
       "      <td>0</td>\n",
       "      <td>0</td>\n",
       "      <td>1</td>\n",
       "      <td>0</td>\n",
       "      <td>0</td>\n",
       "    </tr>\n",
       "    <tr>\n",
       "      <th>913</th>\n",
       "      <td>Zollo</td>\n",
       "      <td>None</td>\n",
       "      <td>NaN</td>\n",
       "      <td>NaN</td>\n",
       "      <td>NaN</td>\n",
       "      <td>21</td>\n",
       "      <td>1</td>\n",
       "      <td>0</td>\n",
       "      <td>0</td>\n",
       "      <td>0</td>\n",
       "      <td>1</td>\n",
       "      <td>0</td>\n",
       "      <td>0</td>\n",
       "    </tr>\n",
       "    <tr>\n",
       "      <th>914</th>\n",
       "      <td>Yurkhaz zo Yunzak</td>\n",
       "      <td>None</td>\n",
       "      <td>300</td>\n",
       "      <td>5</td>\n",
       "      <td>59</td>\n",
       "      <td>47</td>\n",
       "      <td>1</td>\n",
       "      <td>0</td>\n",
       "      <td>0</td>\n",
       "      <td>0</td>\n",
       "      <td>0</td>\n",
       "      <td>0</td>\n",
       "      <td>1</td>\n",
       "    </tr>\n",
       "    <tr>\n",
       "      <th>915</th>\n",
       "      <td>Yezzan Zo Qaggaz</td>\n",
       "      <td>None</td>\n",
       "      <td>300</td>\n",
       "      <td>5</td>\n",
       "      <td>57</td>\n",
       "      <td>25</td>\n",
       "      <td>1</td>\n",
       "      <td>1</td>\n",
       "      <td>0</td>\n",
       "      <td>0</td>\n",
       "      <td>0</td>\n",
       "      <td>0</td>\n",
       "      <td>1</td>\n",
       "    </tr>\n",
       "    <tr>\n",
       "      <th>916</th>\n",
       "      <td>Torwynd the Tame</td>\n",
       "      <td>Wildling</td>\n",
       "      <td>300</td>\n",
       "      <td>5</td>\n",
       "      <td>73</td>\n",
       "      <td>73</td>\n",
       "      <td>1</td>\n",
       "      <td>0</td>\n",
       "      <td>0</td>\n",
       "      <td>0</td>\n",
       "      <td>1</td>\n",
       "      <td>0</td>\n",
       "      <td>0</td>\n",
       "    </tr>\n",
       "    <tr>\n",
       "      <th>917</th>\n",
       "      <td>Talbert Serry</td>\n",
       "      <td>Tyrell</td>\n",
       "      <td>300</td>\n",
       "      <td>4</td>\n",
       "      <td>29</td>\n",
       "      <td>29</td>\n",
       "      <td>1</td>\n",
       "      <td>1</td>\n",
       "      <td>0</td>\n",
       "      <td>0</td>\n",
       "      <td>0</td>\n",
       "      <td>1</td>\n",
       "      <td>0</td>\n",
       "    </tr>\n",
       "    <tr>\n",
       "      <th>908</th>\n",
       "      <td>Yohn Royce</td>\n",
       "      <td>Arryn</td>\n",
       "      <td>NaN</td>\n",
       "      <td>NaN</td>\n",
       "      <td>NaN</td>\n",
       "      <td>29</td>\n",
       "      <td>1</td>\n",
       "      <td>1</td>\n",
       "      <td>1</td>\n",
       "      <td>0</td>\n",
       "      <td>0</td>\n",
       "      <td>1</td>\n",
       "      <td>0</td>\n",
       "    </tr>\n",
       "    <tr>\n",
       "      <th>909</th>\n",
       "      <td>Yoren</td>\n",
       "      <td>Night's Watch</td>\n",
       "      <td>299</td>\n",
       "      <td>2</td>\n",
       "      <td>19</td>\n",
       "      <td>13</td>\n",
       "      <td>1</td>\n",
       "      <td>0</td>\n",
       "      <td>1</td>\n",
       "      <td>1</td>\n",
       "      <td>0</td>\n",
       "      <td>0</td>\n",
       "      <td>0</td>\n",
       "    </tr>\n",
       "    <tr>\n",
       "      <th>910</th>\n",
       "      <td>Young Henly</td>\n",
       "      <td>Night's Watch</td>\n",
       "      <td>299</td>\n",
       "      <td>3</td>\n",
       "      <td>55</td>\n",
       "      <td>55</td>\n",
       "      <td>1</td>\n",
       "      <td>0</td>\n",
       "      <td>0</td>\n",
       "      <td>0</td>\n",
       "      <td>1</td>\n",
       "      <td>0</td>\n",
       "      <td>0</td>\n",
       "    </tr>\n",
       "    <tr>\n",
       "      <th>911</th>\n",
       "      <td>Ysilla</td>\n",
       "      <td>House Targaryen</td>\n",
       "      <td>NaN</td>\n",
       "      <td>NaN</td>\n",
       "      <td>NaN</td>\n",
       "      <td>8</td>\n",
       "      <td>1</td>\n",
       "      <td>0</td>\n",
       "      <td>0</td>\n",
       "      <td>0</td>\n",
       "      <td>0</td>\n",
       "      <td>0</td>\n",
       "      <td>1</td>\n",
       "    </tr>\n",
       "    <tr>\n",
       "      <th>912</th>\n",
       "      <td>Zei</td>\n",
       "      <td>Stark</td>\n",
       "      <td>NaN</td>\n",
       "      <td>NaN</td>\n",
       "      <td>NaN</td>\n",
       "      <td>64</td>\n",
       "      <td>0</td>\n",
       "      <td>0</td>\n",
       "      <td>0</td>\n",
       "      <td>0</td>\n",
       "      <td>1</td>\n",
       "      <td>0</td>\n",
       "      <td>0</td>\n",
       "    </tr>\n",
       "    <tr>\n",
       "      <th>913</th>\n",
       "      <td>Zollo</td>\n",
       "      <td>None</td>\n",
       "      <td>NaN</td>\n",
       "      <td>NaN</td>\n",
       "      <td>NaN</td>\n",
       "      <td>21</td>\n",
       "      <td>1</td>\n",
       "      <td>0</td>\n",
       "      <td>0</td>\n",
       "      <td>0</td>\n",
       "      <td>1</td>\n",
       "      <td>0</td>\n",
       "      <td>0</td>\n",
       "    </tr>\n",
       "    <tr>\n",
       "      <th>914</th>\n",
       "      <td>Yurkhaz zo Yunzak</td>\n",
       "      <td>None</td>\n",
       "      <td>300</td>\n",
       "      <td>5</td>\n",
       "      <td>59</td>\n",
       "      <td>47</td>\n",
       "      <td>1</td>\n",
       "      <td>0</td>\n",
       "      <td>0</td>\n",
       "      <td>0</td>\n",
       "      <td>0</td>\n",
       "      <td>0</td>\n",
       "      <td>1</td>\n",
       "    </tr>\n",
       "    <tr>\n",
       "      <th>915</th>\n",
       "      <td>Yezzan Zo Qaggaz</td>\n",
       "      <td>None</td>\n",
       "      <td>300</td>\n",
       "      <td>5</td>\n",
       "      <td>57</td>\n",
       "      <td>25</td>\n",
       "      <td>1</td>\n",
       "      <td>1</td>\n",
       "      <td>0</td>\n",
       "      <td>0</td>\n",
       "      <td>0</td>\n",
       "      <td>0</td>\n",
       "      <td>1</td>\n",
       "    </tr>\n",
       "    <tr>\n",
       "      <th>916</th>\n",
       "      <td>Torwynd the Tame</td>\n",
       "      <td>Wildling</td>\n",
       "      <td>300</td>\n",
       "      <td>5</td>\n",
       "      <td>73</td>\n",
       "      <td>73</td>\n",
       "      <td>1</td>\n",
       "      <td>0</td>\n",
       "      <td>0</td>\n",
       "      <td>0</td>\n",
       "      <td>1</td>\n",
       "      <td>0</td>\n",
       "      <td>0</td>\n",
       "    </tr>\n",
       "    <tr>\n",
       "      <th>917</th>\n",
       "      <td>Talbert Serry</td>\n",
       "      <td>Tyrell</td>\n",
       "      <td>300</td>\n",
       "      <td>4</td>\n",
       "      <td>29</td>\n",
       "      <td>29</td>\n",
       "      <td>1</td>\n",
       "      <td>1</td>\n",
       "      <td>0</td>\n",
       "      <td>0</td>\n",
       "      <td>0</td>\n",
       "      <td>1</td>\n",
       "      <td>0</td>\n",
       "    </tr>\n",
       "  </tbody>\n",
       "</table>\n",
       "</div>"
      ],
      "text/plain": [
       "0                 Name      Allegiances Death Year Book of Death  \\\n",
       "908         Yohn Royce            Arryn        NaN           NaN   \n",
       "909              Yoren    Night's Watch        299             2   \n",
       "910        Young Henly    Night's Watch        299             3   \n",
       "911             Ysilla  House Targaryen        NaN           NaN   \n",
       "912                Zei            Stark        NaN           NaN   \n",
       "913              Zollo             None        NaN           NaN   \n",
       "914  Yurkhaz zo Yunzak             None        300             5   \n",
       "915   Yezzan Zo Qaggaz             None        300             5   \n",
       "916   Torwynd the Tame         Wildling        300             5   \n",
       "917      Talbert Serry           Tyrell        300             4   \n",
       "908         Yohn Royce            Arryn        NaN           NaN   \n",
       "909              Yoren    Night's Watch        299             2   \n",
       "910        Young Henly    Night's Watch        299             3   \n",
       "911             Ysilla  House Targaryen        NaN           NaN   \n",
       "912                Zei            Stark        NaN           NaN   \n",
       "913              Zollo             None        NaN           NaN   \n",
       "914  Yurkhaz zo Yunzak             None        300             5   \n",
       "915   Yezzan Zo Qaggaz             None        300             5   \n",
       "916   Torwynd the Tame         Wildling        300             5   \n",
       "917      Talbert Serry           Tyrell        300             4   \n",
       "\n",
       "0   Death Chapter Book Intro Chapter Gender Nobility GoT CoK SoS FfC DwD  \n",
       "908           NaN                 29      1        1   1   0   0   1   0  \n",
       "909            19                 13      1        0   1   1   0   0   0  \n",
       "910            55                 55      1        0   0   0   1   0   0  \n",
       "911           NaN                  8      1        0   0   0   0   0   1  \n",
       "912           NaN                 64      0        0   0   0   1   0   0  \n",
       "913           NaN                 21      1        0   0   0   1   0   0  \n",
       "914            59                 47      1        0   0   0   0   0   1  \n",
       "915            57                 25      1        1   0   0   0   0   1  \n",
       "916            73                 73      1        0   0   0   1   0   0  \n",
       "917            29                 29      1        1   0   0   0   1   0  \n",
       "908           NaN                 29      1        1   1   0   0   1   0  \n",
       "909            19                 13      1        0   1   1   0   0   0  \n",
       "910            55                 55      1        0   0   0   1   0   0  \n",
       "911           NaN                  8      1        0   0   0   0   0   1  \n",
       "912           NaN                 64      0        0   0   0   1   0   0  \n",
       "913           NaN                 21      1        0   0   0   1   0   0  \n",
       "914            59                 47      1        0   0   0   0   0   1  \n",
       "915            57                 25      1        1   0   0   0   0   1  \n",
       "916            73                 73      1        0   0   0   1   0   0  \n",
       "917            29                 29      1        1   0   0   0   1   0  "
      ]
     },
     "execution_count": 14,
     "metadata": {},
     "output_type": "execute_result"
    }
   ],
   "source": [
    "df=df2[-10:]\n",
    "df2=df2.append(df) #appending the last 10 rows of the dataframe to itself, thus reatng duplicate rows\n",
    "df2[-20:]"
   ]
  },
  {
   "cell_type": "code",
   "execution_count": 15,
   "id": "22725756",
   "metadata": {},
   "outputs": [
    {
     "data": {
      "text/plain": [
       "(927, 13)"
      ]
     },
     "execution_count": 15,
     "metadata": {},
     "output_type": "execute_result"
    }
   ],
   "source": [
    "df2.shape"
   ]
  },
  {
   "cell_type": "markdown",
   "id": "78ab2853",
   "metadata": {},
   "source": [
    "## Dropping duplicate rows"
   ]
  },
  {
   "cell_type": "code",
   "execution_count": 16,
   "id": "40c17b15",
   "metadata": {},
   "outputs": [
    {
     "data": {
      "text/plain": [
       "(917, 13)"
      ]
     },
     "execution_count": 16,
     "metadata": {},
     "output_type": "execute_result"
    }
   ],
   "source": [
    "df2.drop_duplicates(inplace=True)\n",
    "df2.shape"
   ]
  },
  {
   "cell_type": "markdown",
   "id": "c7441c0b",
   "metadata": {},
   "source": [
    "## Column names and renaming them"
   ]
  },
  {
   "cell_type": "code",
   "execution_count": 17,
   "id": "e6ab053c",
   "metadata": {},
   "outputs": [
    {
     "name": "stdout",
     "output_type": "stream",
     "text": [
      "Column names:  Index(['Name', 'Allegiances', 'Death Year', 'Book of Death', 'Death Chapter',\n",
      "       'Book Intro Chapter', 'Gender', 'Nobility', 'GoT', 'CoK', 'SoS', 'FfC',\n",
      "       'DwD'],\n",
      "      dtype='object', name=0)\n"
     ]
    }
   ],
   "source": [
    "print(\"Column names: \",df2.columns)"
   ]
  },
  {
   "cell_type": "code",
   "execution_count": 18,
   "id": "348bb498",
   "metadata": {},
   "outputs": [
    {
     "name": "stdout",
     "output_type": "stream",
     "text": [
      "Index(['Name', 'Allegiances', 'Death Year', 'BoD', 'Death Chapter',\n",
      "       'Book Intro Chapter', 'Gender', 'Nobility', 'GoT', 'CoK', 'SoS', 'FfC',\n",
      "       'DwD'],\n",
      "      dtype='object', name=0)\n"
     ]
    }
   ],
   "source": [
    "df2.rename(columns={'Book of Death':'BoD'},inplace=True)\n",
    "print(df2.columns)"
   ]
  },
  {
   "cell_type": "code",
   "execution_count": 19,
   "id": "623dcaf6",
   "metadata": {},
   "outputs": [
    {
     "data": {
      "text/html": [
       "<div>\n",
       "<style scoped>\n",
       "    .dataframe tbody tr th:only-of-type {\n",
       "        vertical-align: middle;\n",
       "    }\n",
       "\n",
       "    .dataframe tbody tr th {\n",
       "        vertical-align: top;\n",
       "    }\n",
       "\n",
       "    .dataframe thead th {\n",
       "        text-align: right;\n",
       "    }\n",
       "</style>\n",
       "<table border=\"1\" class=\"dataframe\">\n",
       "  <thead>\n",
       "    <tr style=\"text-align: right;\">\n",
       "      <th></th>\n",
       "      <th>Name</th>\n",
       "      <th>Allegiances</th>\n",
       "      <th>Death Year</th>\n",
       "      <th>BoD</th>\n",
       "      <th>Death Chapter</th>\n",
       "      <th>Book Intro Chapter</th>\n",
       "      <th>Gender</th>\n",
       "      <th>Nobility</th>\n",
       "      <th>GoT</th>\n",
       "      <th>CoK</th>\n",
       "      <th>SoS</th>\n",
       "      <th>FfC</th>\n",
       "      <th>DwD</th>\n",
       "    </tr>\n",
       "  </thead>\n",
       "  <tbody>\n",
       "    <tr>\n",
       "      <th>count</th>\n",
       "      <td>917</td>\n",
       "      <td>917</td>\n",
       "      <td>305</td>\n",
       "      <td>307</td>\n",
       "      <td>299</td>\n",
       "      <td>905</td>\n",
       "      <td>917</td>\n",
       "      <td>917</td>\n",
       "      <td>917</td>\n",
       "      <td>917</td>\n",
       "      <td>917</td>\n",
       "      <td>917</td>\n",
       "      <td>917</td>\n",
       "    </tr>\n",
       "    <tr>\n",
       "      <th>unique</th>\n",
       "      <td>916</td>\n",
       "      <td>21</td>\n",
       "      <td>4</td>\n",
       "      <td>5</td>\n",
       "      <td>71</td>\n",
       "      <td>79</td>\n",
       "      <td>2</td>\n",
       "      <td>2</td>\n",
       "      <td>2</td>\n",
       "      <td>2</td>\n",
       "      <td>2</td>\n",
       "      <td>2</td>\n",
       "      <td>2</td>\n",
       "    </tr>\n",
       "    <tr>\n",
       "      <th>top</th>\n",
       "      <td>Myles</td>\n",
       "      <td>None</td>\n",
       "      <td>299</td>\n",
       "      <td>3</td>\n",
       "      <td>34</td>\n",
       "      <td>0</td>\n",
       "      <td>1</td>\n",
       "      <td>0</td>\n",
       "      <td>0</td>\n",
       "      <td>0</td>\n",
       "      <td>0</td>\n",
       "      <td>0</td>\n",
       "      <td>0</td>\n",
       "    </tr>\n",
       "    <tr>\n",
       "      <th>freq</th>\n",
       "      <td>2</td>\n",
       "      <td>253</td>\n",
       "      <td>156</td>\n",
       "      <td>97</td>\n",
       "      <td>16</td>\n",
       "      <td>41</td>\n",
       "      <td>760</td>\n",
       "      <td>487</td>\n",
       "      <td>667</td>\n",
       "      <td>593</td>\n",
       "      <td>528</td>\n",
       "      <td>667</td>\n",
       "      <td>656</td>\n",
       "    </tr>\n",
       "  </tbody>\n",
       "</table>\n",
       "</div>"
      ],
      "text/plain": [
       "0        Name Allegiances Death Year  BoD Death Chapter Book Intro Chapter  \\\n",
       "count     917         917        305  307           299                905   \n",
       "unique    916          21          4    5            71                 79   \n",
       "top     Myles        None        299    3            34                  0   \n",
       "freq        2         253        156   97            16                 41   \n",
       "\n",
       "0      Gender Nobility  GoT  CoK  SoS  FfC  DwD  \n",
       "count     917      917  917  917  917  917  917  \n",
       "unique      2        2    2    2    2    2    2  \n",
       "top         1        0    0    0    0    0    0  \n",
       "freq      760      487  667  593  528  667  656  "
      ]
     },
     "execution_count": 19,
     "metadata": {},
     "output_type": "execute_result"
    }
   ],
   "source": [
    "df2.describe()"
   ]
  },
  {
   "cell_type": "code",
   "execution_count": 20,
   "id": "f952a6c5",
   "metadata": {},
   "outputs": [
    {
     "name": "stdout",
     "output_type": "stream",
     "text": [
      "No. of chapters talking about death:\t 299\n",
      "No. of unique chapters talking about death:\t 71\n",
      "Unique chapters talking about death:\t [nan '51' '20' '35' '56' '4' '46' '10' '34' '47' '41' '21' '33' '39' '52'\n",
      " '37' '24' '31' '27' '62' '65' '7' '49' '50' '42' '30' '66' '64' '29' '0'\n",
      " '53' '58' '76' '63' '55' '14' '61' '12' '68' '69' '80' '36' '1' '19' '72'\n",
      " '59' '43' '70' '75' '11' '3' '60' '26' '44' '67' '45' '18' '23' '57' '25'\n",
      " '16' '17' '48' '9' '2' '6' '32' '77' '74' '40' '38' '73']\n"
     ]
    }
   ],
   "source": [
    "print(\"No. of chapters talking about death:\\t\",df2['Death Chapter'].count())\n",
    "print(\"No. of unique chapters talking about death:\\t\",df2['Death Chapter'].nunique())\n",
    "print(\"Unique chapters talking about death:\\t\",df2['Death Chapter'].unique())"
   ]
  },
  {
   "cell_type": "markdown",
   "id": "6536a30b",
   "metadata": {},
   "source": [
    "## Accessing rows and columns"
   ]
  },
  {
   "cell_type": "markdown",
   "id": "c4bef129",
   "metadata": {},
   "source": [
    "iloc"
   ]
  },
  {
   "cell_type": "code",
   "execution_count": 21,
   "id": "0882f3c6",
   "metadata": {},
   "outputs": [
    {
     "name": "stdout",
     "output_type": "stream",
     "text": [
      "Row 0 with iloc[0]: \n",
      " 0\n",
      "Name                  Addam Marbrand\n",
      "Allegiances                Lannister\n",
      "Death Year                       NaN\n",
      "BoD                              NaN\n",
      "Death Chapter                    NaN\n",
      "Book Intro Chapter                56\n",
      "Gender                             1\n",
      "Nobility                           1\n",
      "GoT                                1\n",
      "CoK                                1\n",
      "SoS                                1\n",
      "FfC                                1\n",
      "DwD                                0\n",
      "Name: 1, dtype: object\n",
      "Rows 4 and 5 with columns 1,2 and 3\n",
      " 0 Allegiances Death Year  BoD\n",
      "5   Lannister        NaN  NaN\n",
      "6   Baratheon        NaN  NaN\n"
     ]
    }
   ],
   "source": [
    "print(\"Row 0 with iloc[0]: \\n\",df2.iloc[0]) #Row 0 with iloc[0] \n",
    "print(\"Rows 4 and 5 with columns 1,2 and 3\\n\",df2.iloc[[4,5],[1,2,3]]) #columns 1,2,3 of rows 4 and 5"
   ]
  },
  {
   "cell_type": "code",
   "execution_count": 22,
   "id": "ea0dfbb6",
   "metadata": {},
   "outputs": [
    {
     "name": "stdout",
     "output_type": "stream",
     "text": [
      "First five values of 'Allegiances' column\t:\n",
      " 1             Addam Marbrand\n",
      "2    Aegon Frey (Jinglebell)\n",
      "3            Aegon Targaryen\n",
      "4              Adrack Humble\n",
      "5             Aemon Costayne\n",
      "Name: Name, dtype: object\n"
     ]
    }
   ],
   "source": [
    "print(\"First five values of 'Allegiances' column\\t:\\n\",df2.iloc[0:5,0])"
   ]
  },
  {
   "cell_type": "markdown",
   "id": "261ca998",
   "metadata": {},
   "source": [
    "loc"
   ]
  },
  {
   "cell_type": "code",
   "execution_count": 23,
   "id": "3adf30bc",
   "metadata": {},
   "outputs": [],
   "source": [
    "df2.set_index('Name',inplace=True)"
   ]
  },
  {
   "cell_type": "code",
   "execution_count": 24,
   "id": "812c9988",
   "metadata": {},
   "outputs": [
    {
     "name": "stdout",
     "output_type": "stream",
     "text": [
      "\n",
      "\n",
      "Using loc method:\t 300\n"
     ]
    }
   ],
   "source": [
    "print(\"\\n\\nUsing loc method:\\t\",df2.loc['Adrack Humble','Death Year'])"
   ]
  },
  {
   "cell_type": "markdown",
   "id": "2591c7d7",
   "metadata": {},
   "source": [
    "## Creating subsets using relational Operators"
   ]
  },
  {
   "cell_type": "code",
   "execution_count": 25,
   "id": "600b88a3",
   "metadata": {},
   "outputs": [],
   "source": [
    "df3=df2.copy(deep=True)\n",
    "df3['Death Year']=df3['Death Year'].astype(float)"
   ]
  },
  {
   "cell_type": "code",
   "execution_count": 26,
   "id": "f84a028f",
   "metadata": {},
   "outputs": [
    {
     "name": "stdout",
     "output_type": "stream",
     "text": [
      "0                                    Allegiances  Death Year BoD  \\\n",
      "Name                                                               \n",
      "Aegon Frey (Jinglebell)                     None       299.0   3   \n",
      "Adrack Humble                      House Greyjoy       300.0   5   \n",
      "Aemon Targaryen (son of Maekar I)  Night's Watch       300.0   4   \n",
      "Aenys Frey                                  None       300.0   5   \n",
      "Aggar                              House Greyjoy       299.0   2   \n",
      "...                                          ...         ...  ..   \n",
      "Young Henly                        Night's Watch       299.0   3   \n",
      "Yurkhaz zo Yunzak                           None       300.0   5   \n",
      "Yezzan Zo Qaggaz                            None       300.0   5   \n",
      "Torwynd the Tame                        Wildling       300.0   5   \n",
      "Talbert Serry                             Tyrell       300.0   4   \n",
      "\n",
      "0                                 Death Chapter Book Intro Chapter Gender  \\\n",
      "Name                                                                        \n",
      "Aegon Frey (Jinglebell)                      51                 49      1   \n",
      "Adrack Humble                                20                 20      1   \n",
      "Aemon Targaryen (son of Maekar I)            35                 21      1   \n",
      "Aenys Frey                                  NaN                 59      0   \n",
      "Aggar                                        56                 50      1   \n",
      "...                                         ...                ...    ...   \n",
      "Young Henly                                  55                 55      1   \n",
      "Yurkhaz zo Yunzak                            59                 47      1   \n",
      "Yezzan Zo Qaggaz                             57                 25      1   \n",
      "Torwynd the Tame                             73                 73      1   \n",
      "Talbert Serry                                29                 29      1   \n",
      "\n",
      "0                                 Nobility GoT CoK SoS FfC DwD  \n",
      "Name                                                            \n",
      "Aegon Frey (Jinglebell)                  1   0   0   1   0   0  \n",
      "Adrack Humble                            1   0   0   0   0   1  \n",
      "Aemon Targaryen (son of Maekar I)        1   1   0   1   1   0  \n",
      "Aenys Frey                               1   1   1   1   0   1  \n",
      "Aggar                                    0   0   1   0   0   0  \n",
      "...                                    ...  ..  ..  ..  ..  ..  \n",
      "Young Henly                              0   0   0   1   0   0  \n",
      "Yurkhaz zo Yunzak                        0   0   0   0   0   1  \n",
      "Yezzan Zo Qaggaz                         1   0   0   0   0   1  \n",
      "Torwynd the Tame                         0   0   0   1   0   0  \n",
      "Talbert Serry                            1   0   0   0   1   0  \n",
      "\n",
      "[305 rows x 12 columns]\n"
     ]
    }
   ],
   "source": [
    "df3 = df3[df3['Death Year']<400]\n",
    "print(df3)"
   ]
  },
  {
   "cell_type": "code",
   "execution_count": 27,
   "id": "dac80508",
   "metadata": {},
   "outputs": [
    {
     "data": {
      "text/plain": [
       "(305, 12)"
      ]
     },
     "execution_count": 27,
     "metadata": {},
     "output_type": "execute_result"
    }
   ],
   "source": [
    "df3.shape"
   ]
  },
  {
   "cell_type": "markdown",
   "id": "56b05cda",
   "metadata": {},
   "source": [
    "## Group By"
   ]
  },
  {
   "cell_type": "code",
   "execution_count": 28,
   "id": "5bb8b265",
   "metadata": {},
   "outputs": [],
   "source": [
    "import numpy as np"
   ]
  },
  {
   "cell_type": "code",
   "execution_count": 29,
   "id": "e6f51f06",
   "metadata": {},
   "outputs": [
    {
     "data": {
      "text/html": [
       "<div>\n",
       "<style scoped>\n",
       "    .dataframe tbody tr th:only-of-type {\n",
       "        vertical-align: middle;\n",
       "    }\n",
       "\n",
       "    .dataframe tbody tr th {\n",
       "        vertical-align: top;\n",
       "    }\n",
       "\n",
       "    .dataframe thead th {\n",
       "        text-align: right;\n",
       "    }\n",
       "</style>\n",
       "<table border=\"1\" class=\"dataframe\">\n",
       "  <thead>\n",
       "    <tr style=\"text-align: right;\">\n",
       "      <th></th>\n",
       "      <th>Allegiances</th>\n",
       "      <th>BoD</th>\n",
       "      <th>Death Chapter</th>\n",
       "      <th>Book Intro Chapter</th>\n",
       "      <th>Gender</th>\n",
       "      <th>Nobility</th>\n",
       "      <th>GoT</th>\n",
       "      <th>CoK</th>\n",
       "      <th>SoS</th>\n",
       "      <th>FfC</th>\n",
       "      <th>DwD</th>\n",
       "    </tr>\n",
       "    <tr>\n",
       "      <th>Death Year</th>\n",
       "      <th></th>\n",
       "      <th></th>\n",
       "      <th></th>\n",
       "      <th></th>\n",
       "      <th></th>\n",
       "      <th></th>\n",
       "      <th></th>\n",
       "      <th></th>\n",
       "      <th></th>\n",
       "      <th></th>\n",
       "      <th></th>\n",
       "    </tr>\n",
       "  </thead>\n",
       "  <tbody>\n",
       "    <tr>\n",
       "      <th>297</th>\n",
       "      <td>3</td>\n",
       "      <td>3</td>\n",
       "      <td>3</td>\n",
       "      <td>3</td>\n",
       "      <td>3</td>\n",
       "      <td>3</td>\n",
       "      <td>3</td>\n",
       "      <td>3</td>\n",
       "      <td>3</td>\n",
       "      <td>3</td>\n",
       "      <td>3</td>\n",
       "    </tr>\n",
       "    <tr>\n",
       "      <th>298</th>\n",
       "      <td>46</td>\n",
       "      <td>46</td>\n",
       "      <td>46</td>\n",
       "      <td>46</td>\n",
       "      <td>46</td>\n",
       "      <td>46</td>\n",
       "      <td>46</td>\n",
       "      <td>46</td>\n",
       "      <td>46</td>\n",
       "      <td>46</td>\n",
       "      <td>46</td>\n",
       "    </tr>\n",
       "    <tr>\n",
       "      <th>299</th>\n",
       "      <td>156</td>\n",
       "      <td>156</td>\n",
       "      <td>154</td>\n",
       "      <td>154</td>\n",
       "      <td>156</td>\n",
       "      <td>156</td>\n",
       "      <td>156</td>\n",
       "      <td>156</td>\n",
       "      <td>156</td>\n",
       "      <td>156</td>\n",
       "      <td>156</td>\n",
       "    </tr>\n",
       "    <tr>\n",
       "      <th>300</th>\n",
       "      <td>100</td>\n",
       "      <td>100</td>\n",
       "      <td>92</td>\n",
       "      <td>97</td>\n",
       "      <td>100</td>\n",
       "      <td>100</td>\n",
       "      <td>100</td>\n",
       "      <td>100</td>\n",
       "      <td>100</td>\n",
       "      <td>100</td>\n",
       "      <td>100</td>\n",
       "    </tr>\n",
       "  </tbody>\n",
       "</table>\n",
       "</div>"
      ],
      "text/plain": [
       "0           Allegiances  BoD  Death Chapter  Book Intro Chapter  Gender  \\\n",
       "Death Year                                                                \n",
       "297                   3    3              3                   3       3   \n",
       "298                  46   46             46                  46      46   \n",
       "299                 156  156            154                 154     156   \n",
       "300                 100  100             92                  97     100   \n",
       "\n",
       "0           Nobility  GoT  CoK  SoS  FfC  DwD  \n",
       "Death Year                                     \n",
       "297                3    3    3    3    3    3  \n",
       "298               46   46   46   46   46   46  \n",
       "299              156  156  156  156  156  156  \n",
       "300              100  100  100  100  100  100  "
      ]
     },
     "execution_count": 29,
     "metadata": {},
     "output_type": "execute_result"
    }
   ],
   "source": [
    "df5 = df2.groupby('Death Year').count()\n",
    "df5"
   ]
  },
  {
   "cell_type": "code",
   "execution_count": 30,
   "id": "b52e008d",
   "metadata": {},
   "outputs": [
    {
     "data": {
      "text/html": [
       "<div>\n",
       "<style scoped>\n",
       "    .dataframe tbody tr th:only-of-type {\n",
       "        vertical-align: middle;\n",
       "    }\n",
       "\n",
       "    .dataframe tbody tr th {\n",
       "        vertical-align: top;\n",
       "    }\n",
       "\n",
       "    .dataframe thead th {\n",
       "        text-align: right;\n",
       "    }\n",
       "</style>\n",
       "<table border=\"1\" class=\"dataframe\">\n",
       "  <thead>\n",
       "    <tr style=\"text-align: right;\">\n",
       "      <th></th>\n",
       "      <th>Death Year</th>\n",
       "      <th>Gender</th>\n",
       "    </tr>\n",
       "    <tr>\n",
       "      <th>Death Year</th>\n",
       "      <th></th>\n",
       "      <th></th>\n",
       "    </tr>\n",
       "  </thead>\n",
       "  <tbody>\n",
       "    <tr>\n",
       "      <th>297.0</th>\n",
       "      <td>891.0</td>\n",
       "      <td>3</td>\n",
       "    </tr>\n",
       "    <tr>\n",
       "      <th>298.0</th>\n",
       "      <td>13708.0</td>\n",
       "      <td>43</td>\n",
       "    </tr>\n",
       "    <tr>\n",
       "      <th>299.0</th>\n",
       "      <td>46644.0</td>\n",
       "      <td>141</td>\n",
       "    </tr>\n",
       "    <tr>\n",
       "      <th>300.0</th>\n",
       "      <td>30000.0</td>\n",
       "      <td>82</td>\n",
       "    </tr>\n",
       "  </tbody>\n",
       "</table>\n",
       "</div>"
      ],
      "text/plain": [
       "0           Death Year  Gender\n",
       "Death Year                    \n",
       "297.0            891.0       3\n",
       "298.0          13708.0      43\n",
       "299.0          46644.0     141\n",
       "300.0          30000.0      82"
      ]
     },
     "execution_count": 30,
     "metadata": {},
     "output_type": "execute_result"
    }
   ],
   "source": [
    "df3=df2.copy(deep=True)\n",
    "df3.fillna(0)\n",
    "df3['Gender']=df3['Gender'].astype(int)\n",
    "df3['Death Year']=df3['Death Year'].astype(float)\n",
    "df5 = df3.groupby(\"Death Year\").agg({\"Death Year\":np.sum,\"Gender\":np.sum})\n",
    "df5"
   ]
  },
  {
   "cell_type": "markdown",
   "id": "c35809bb",
   "metadata": {},
   "source": [
    "## Visualization"
   ]
  },
  {
   "cell_type": "code",
   "execution_count": 35,
   "id": "41b499c3",
   "metadata": {},
   "outputs": [
    {
     "data": {
      "text/plain": [
       "<AxesSubplot:xlabel='Death Year', ylabel='Gender'>"
      ]
     },
     "execution_count": 35,
     "metadata": {},
     "output_type": "execute_result"
    }
   ],
   "source": [
    "import matplotlib.pyplot as plt\n",
    "df5.plot(x='Death Year',y='Gender',kind='scatter')"
   ]
  },
  {
   "cell_type": "code",
   "execution_count": 36,
   "id": "bd0626dc",
   "metadata": {},
   "outputs": [
    {
     "data": {
      "image/png": "[encoded data removed]",
      "text/plain": [
       "<Figure size 640x480 with 1 Axes>"
      ]
     },
     "metadata": {},
     "output_type": "display_data"
    }
   ],
   "source": [
    "plt.show()"
   ]
  },
  {
   "cell_type": "code",
   "execution_count": null,
   "id": "953ee8f6",
   "metadata": {},
   "outputs": [],
   "source": []
  }
 ],
 "metadata": {
  "kernelspec": {
   "display_name": "Python [conda env:MachineLearning] *",
   "language": "python",
   "name": "conda-env-MachineLearning-py"
  },
  "language_info": {
   "codemirror_mode": {
    "name": "ipython",
    "version": 3
   },
   "file_extension": ".py",
   "mimetype": "text/x-python",
   "name": "python",
   "nbconvert_exporter": "python",
   "pygments_lexer": "ipython3",
   "version": "3.7.11"
  }
 },
 "nbformat": 4,
 "nbformat_minor": 5
}
