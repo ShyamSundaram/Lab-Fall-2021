{
 "cells": [
  {
   "cell_type": "markdown",
   "id": "a010ecbc",
   "metadata": {},
   "source": [
    "# Machine Learning Lab \n",
    "## Lab 14 - K-Means and K-Modes\n",
    "---\n",
    "**S Shyam Sundaram** <br>\n",
    "**19BCE1560** <br>\n",
    "**November 22, 2021**<br>\n",
    "\n",
    "**Dr Abdul Quadir MD**<br>\n",
    "**L31+L32**"
   ]
  },
  {
   "cell_type": "code",
   "execution_count": 1,
   "id": "44c98f22",
   "metadata": {},
   "outputs": [],
   "source": [
    "import numpy as np\n",
    "import pandas as pd\n",
    "import matplotlib.pyplot as plt\n",
    "import seaborn as sb\n",
    "import math\n",
    "%matplotlib inline"
   ]
  },
  {
   "cell_type": "markdown",
   "id": "7eb3f9e3",
   "metadata": {},
   "source": [
    "# Generating Data\n",
    "---"
   ]
  },
  {
   "cell_type": "code",
   "execution_count": 2,
   "id": "e2232cf7",
   "metadata": {},
   "outputs": [],
   "source": [
    "x=np.array([2,2,5,4,8,6,5,5,6,4])\n",
    "y=np.array([4,6,6,7,3,6,2,7,3,4])"
   ]
  },
  {
   "cell_type": "code",
   "execution_count": 3,
   "id": "2b18e9e7",
   "metadata": {},
   "outputs": [
    {
     "data": {
      "text/html": [
       "<div>\n",
       "<style scoped>\n",
       "    .dataframe tbody tr th:only-of-type {\n",
       "        vertical-align: middle;\n",
       "    }\n",
       "\n",
       "    .dataframe tbody tr th {\n",
       "        vertical-align: top;\n",
       "    }\n",
       "\n",
       "    .dataframe thead th {\n",
       "        text-align: right;\n",
       "    }\n",
       "</style>\n",
       "<table border=\"1\" class=\"dataframe\">\n",
       "  <thead>\n",
       "    <tr style=\"text-align: right;\">\n",
       "      <th></th>\n",
       "      <th>x</th>\n",
       "      <th>y</th>\n",
       "    </tr>\n",
       "  </thead>\n",
       "  <tbody>\n",
       "    <tr>\n",
       "      <th>0</th>\n",
       "      <td>2</td>\n",
       "      <td>4</td>\n",
       "    </tr>\n",
       "    <tr>\n",
       "      <th>1</th>\n",
       "      <td>2</td>\n",
       "      <td>6</td>\n",
       "    </tr>\n",
       "    <tr>\n",
       "      <th>2</th>\n",
       "      <td>5</td>\n",
       "      <td>6</td>\n",
       "    </tr>\n",
       "    <tr>\n",
       "      <th>3</th>\n",
       "      <td>4</td>\n",
       "      <td>7</td>\n",
       "    </tr>\n",
       "    <tr>\n",
       "      <th>4</th>\n",
       "      <td>8</td>\n",
       "      <td>3</td>\n",
       "    </tr>\n",
       "    <tr>\n",
       "      <th>5</th>\n",
       "      <td>6</td>\n",
       "      <td>6</td>\n",
       "    </tr>\n",
       "    <tr>\n",
       "      <th>6</th>\n",
       "      <td>5</td>\n",
       "      <td>2</td>\n",
       "    </tr>\n",
       "    <tr>\n",
       "      <th>7</th>\n",
       "      <td>5</td>\n",
       "      <td>7</td>\n",
       "    </tr>\n",
       "    <tr>\n",
       "      <th>8</th>\n",
       "      <td>6</td>\n",
       "      <td>3</td>\n",
       "    </tr>\n",
       "    <tr>\n",
       "      <th>9</th>\n",
       "      <td>4</td>\n",
       "      <td>4</td>\n",
       "    </tr>\n",
       "  </tbody>\n",
       "</table>\n",
       "</div>"
      ],
      "text/plain": [
       "   x  y\n",
       "0  2  4\n",
       "1  2  6\n",
       "2  5  6\n",
       "3  4  7\n",
       "4  8  3\n",
       "5  6  6\n",
       "6  5  2\n",
       "7  5  7\n",
       "8  6  3\n",
       "9  4  4"
      ]
     },
     "execution_count": 3,
     "metadata": {},
     "output_type": "execute_result"
    }
   ],
   "source": [
    "df=pd.DataFrame(data=x,columns=['x'])\n",
    "df['y']=y.tolist()\n",
    "df"
   ]
  },
  {
   "cell_type": "markdown",
   "id": "40ee87e5",
   "metadata": {},
   "source": [
    "# Visualize data\n",
    "---"
   ]
  },
  {
   "cell_type": "code",
   "execution_count": 4,
   "id": "f03ba499",
   "metadata": {},
   "outputs": [
    {
     "data": {
      "image/png": "[encoded data removed]",
      "text/plain": [
       "<Figure size 432x288 with 1 Axes>"
      ]
     },
     "metadata": {
      "needs_background": "light"
     },
     "output_type": "display_data"
    }
   ],
   "source": [
    "plt.scatter(df.x,df.y)\n",
    "plt.show()"
   ]
  },
  {
   "cell_type": "markdown",
   "id": "b8c9b53c",
   "metadata": {},
   "source": [
    "# K-Means from Scratch\n",
    "---"
   ]
  },
  {
   "cell_type": "code",
   "execution_count": 5,
   "id": "ed158f04",
   "metadata": {},
   "outputs": [],
   "source": [
    "class Kmeans:\n",
    "    \n",
    "    def __init__(self,clusters=3):\n",
    "        self.clusters=clusters #number of clusters\n",
    "        self.centroid=[] #centroid\n",
    "        self.old_clusters=[]\n",
    "        \n",
    "    def update_centroid(self):\n",
    "        for i in range(self.clusters):\n",
    "            for j in range(self.attr):\n",
    "                temp=self.df[np.where(self.df[:,-1]==i)][:,j]\n",
    "                self.centroid[i][j]=np.mean(temp)\n",
    "        \n",
    "    def iterate(self):\n",
    "        #x=self.x\n",
    "        clusters=self.clusters\n",
    "        centroid=self.centroid\n",
    "        \n",
    "        for i in range(self.n):\n",
    "            dist=[]\n",
    "\n",
    "            for j in range(clusters):\n",
    "                dist.append(np.sqrt(np.sum((centroid[j]-self.df[i,:-1])**2))) #calculate distance of point from each centroid\n",
    "            \n",
    "            mindist=min(dist)\n",
    "            temp=[i for i,e in enumerate(dist) if e==mindist]\n",
    "            if self.df[i,-1] not in temp:\n",
    "                self.df[i,-1]=np.argmin(dist)\n",
    "            \n",
    "        self.update_centroid()\n",
    "    \n",
    "    def get_centroids(self):\n",
    "        return self.centroid\n",
    "    \n",
    "    def predict(self,X):\n",
    "        X=X.values\n",
    "        pred=[]\n",
    "        for i in range(X.shape[0]):\n",
    "            dist=[]\n",
    "            for j in range(self.clusters):\n",
    "                dist.append(np.sqrt(np.sum((self.centroid[j]-X[i,:])**2)))\n",
    "            pred.append(np.argmin(dist))\n",
    "        return np.array(pred)\n",
    "    \n",
    "    def plot(self):\n",
    "        df=self.df\n",
    "        colors=[\"orange\",\"green\",\"blue\",\"purple\",\"yellow\",\"orange\"]\n",
    "        for i in range(self.clusters):\n",
    "            plt.scatter(df[np.where(df[:,-1]==i)][:,0],df[np.where(df[:,-1]==i)][:,1],c=colors[i])\n",
    "            plt.scatter(self.centroid[i][0],self.centroid[i][1],c=\"red\")\n",
    "        plt.show()\n",
    "    \n",
    "    def fit(self,df,centroids=None,epochs=100,show_plot=True):\n",
    "        self.n=len(df)\n",
    "        temp=np.zeros(len(df))\n",
    "        self.df=df.copy()\n",
    "        self.df['CeNtRo']=temp.tolist()\n",
    "        self.df=self.df.values\n",
    "        \n",
    "        self.attr=self.df.shape[1]-1 #number of columns\n",
    "        \n",
    "        if centroids==None:\n",
    "            random_indices = np.random.choice(self.n, size=self.clusters, replace=False)\n",
    "            self.centroid=self.df[random_indices,:-1]\n",
    "#             print('Random are--------')\n",
    "#             print(self.centroid)\n",
    "        else:\n",
    "            self.centroid=np.array(centroids)# for example, centroids = [[1,5],[4,1],[8,4]] for 3 clusters\n",
    "            \n",
    "        self.centroid=self.centroid.astype('float64')\n",
    "        \n",
    "        old_clusters=self.df[:,-1].copy()\n",
    "#         print('old clus: ',old_clusters)\n",
    "        \n",
    "        for i in range(epochs):\n",
    "            self.iterate()\n",
    "            print('iteration ',i)\n",
    "#             print(self.centroid)\n",
    "#             print(self.df[:,-1])\n",
    "            comp = old_clusters==self.df[:,-1]\n",
    "            if (comp.all()):\n",
    "                print('No change in classes. Ending training...')\n",
    "                break\n",
    "            if show_plot==True:\n",
    "                self.plot()\n",
    "            old_clusters=self.df[:,-1].copy()"
   ]
  },
  {
   "cell_type": "code",
   "execution_count": 6,
   "id": "236f8f46",
   "metadata": {},
   "outputs": [
    {
     "data": {
      "text/html": [
       "<div>\n",
       "<style scoped>\n",
       "    .dataframe tbody tr th:only-of-type {\n",
       "        vertical-align: middle;\n",
       "    }\n",
       "\n",
       "    .dataframe tbody tr th {\n",
       "        vertical-align: top;\n",
       "    }\n",
       "\n",
       "    .dataframe thead th {\n",
       "        text-align: right;\n",
       "    }\n",
       "</style>\n",
       "<table border=\"1\" class=\"dataframe\">\n",
       "  <thead>\n",
       "    <tr style=\"text-align: right;\">\n",
       "      <th></th>\n",
       "      <th>x</th>\n",
       "      <th>y</th>\n",
       "    </tr>\n",
       "  </thead>\n",
       "  <tbody>\n",
       "    <tr>\n",
       "      <th>0</th>\n",
       "      <td>2</td>\n",
       "      <td>4</td>\n",
       "    </tr>\n",
       "    <tr>\n",
       "      <th>1</th>\n",
       "      <td>2</td>\n",
       "      <td>6</td>\n",
       "    </tr>\n",
       "    <tr>\n",
       "      <th>2</th>\n",
       "      <td>5</td>\n",
       "      <td>6</td>\n",
       "    </tr>\n",
       "    <tr>\n",
       "      <th>3</th>\n",
       "      <td>4</td>\n",
       "      <td>7</td>\n",
       "    </tr>\n",
       "    <tr>\n",
       "      <th>4</th>\n",
       "      <td>8</td>\n",
       "      <td>3</td>\n",
       "    </tr>\n",
       "    <tr>\n",
       "      <th>5</th>\n",
       "      <td>6</td>\n",
       "      <td>6</td>\n",
       "    </tr>\n",
       "    <tr>\n",
       "      <th>6</th>\n",
       "      <td>5</td>\n",
       "      <td>2</td>\n",
       "    </tr>\n",
       "    <tr>\n",
       "      <th>7</th>\n",
       "      <td>5</td>\n",
       "      <td>7</td>\n",
       "    </tr>\n",
       "    <tr>\n",
       "      <th>8</th>\n",
       "      <td>6</td>\n",
       "      <td>3</td>\n",
       "    </tr>\n",
       "    <tr>\n",
       "      <th>9</th>\n",
       "      <td>4</td>\n",
       "      <td>4</td>\n",
       "    </tr>\n",
       "  </tbody>\n",
       "</table>\n",
       "</div>"
      ],
      "text/plain": [
       "   x  y\n",
       "0  2  4\n",
       "1  2  6\n",
       "2  5  6\n",
       "3  4  7\n",
       "4  8  3\n",
       "5  6  6\n",
       "6  5  2\n",
       "7  5  7\n",
       "8  6  3\n",
       "9  4  4"
      ]
     },
     "execution_count": 6,
     "metadata": {},
     "output_type": "execute_result"
    }
   ],
   "source": [
    "df"
   ]
  },
  {
   "cell_type": "code",
   "execution_count": 7,
   "id": "9d619215",
   "metadata": {},
   "outputs": [],
   "source": [
    "kmeans=Kmeans()"
   ]
  },
  {
   "cell_type": "code",
   "execution_count": 8,
   "id": "5a8ab0ca",
   "metadata": {},
   "outputs": [
    {
     "name": "stdout",
     "output_type": "stream",
     "text": [
      "iteration  0\n"
     ]
    },
    {
     "data": {
      "image/png": "[encoded data removed]",
      "text/plain": [
       "<Figure size 432x288 with 1 Axes>"
      ]
     },
     "metadata": {
      "needs_background": "light"
     },
     "output_type": "display_data"
    },
    {
     "name": "stdout",
     "output_type": "stream",
     "text": [
      "iteration  1\n"
     ]
    },
    {
     "data": {
      "image/png": "[encoded data removed]",
      "text/plain": [
       "<Figure size 432x288 with 1 Axes>"
      ]
     },
     "metadata": {
      "needs_background": "light"
     },
     "output_type": "display_data"
    },
    {
     "name": "stdout",
     "output_type": "stream",
     "text": [
      "iteration  2\n",
      "No change in classes. Ending training...\n"
     ]
    }
   ],
   "source": [
    "kmeans.fit(df,epochs=6)"
   ]
  },
  {
   "cell_type": "code",
   "execution_count": 9,
   "id": "194b0b30",
   "metadata": {},
   "outputs": [],
   "source": [
    "pred=kmeans.predict(df)"
   ]
  },
  {
   "cell_type": "code",
   "execution_count": 10,
   "id": "f521f3af",
   "metadata": {
    "scrolled": true
   },
   "outputs": [
    {
     "data": {
      "text/html": [
       "<div>\n",
       "<style scoped>\n",
       "    .dataframe tbody tr th:only-of-type {\n",
       "        vertical-align: middle;\n",
       "    }\n",
       "\n",
       "    .dataframe tbody tr th {\n",
       "        vertical-align: top;\n",
       "    }\n",
       "\n",
       "    .dataframe thead th {\n",
       "        text-align: right;\n",
       "    }\n",
       "</style>\n",
       "<table border=\"1\" class=\"dataframe\">\n",
       "  <thead>\n",
       "    <tr style=\"text-align: right;\">\n",
       "      <th></th>\n",
       "      <th>x</th>\n",
       "      <th>y</th>\n",
       "      <th>cluster</th>\n",
       "    </tr>\n",
       "  </thead>\n",
       "  <tbody>\n",
       "    <tr>\n",
       "      <th>0</th>\n",
       "      <td>2</td>\n",
       "      <td>4</td>\n",
       "      <td>2</td>\n",
       "    </tr>\n",
       "    <tr>\n",
       "      <th>1</th>\n",
       "      <td>2</td>\n",
       "      <td>6</td>\n",
       "      <td>2</td>\n",
       "    </tr>\n",
       "    <tr>\n",
       "      <th>2</th>\n",
       "      <td>5</td>\n",
       "      <td>6</td>\n",
       "      <td>1</td>\n",
       "    </tr>\n",
       "    <tr>\n",
       "      <th>3</th>\n",
       "      <td>4</td>\n",
       "      <td>7</td>\n",
       "      <td>1</td>\n",
       "    </tr>\n",
       "    <tr>\n",
       "      <th>4</th>\n",
       "      <td>8</td>\n",
       "      <td>3</td>\n",
       "      <td>0</td>\n",
       "    </tr>\n",
       "    <tr>\n",
       "      <th>5</th>\n",
       "      <td>6</td>\n",
       "      <td>6</td>\n",
       "      <td>1</td>\n",
       "    </tr>\n",
       "    <tr>\n",
       "      <th>6</th>\n",
       "      <td>5</td>\n",
       "      <td>2</td>\n",
       "      <td>0</td>\n",
       "    </tr>\n",
       "    <tr>\n",
       "      <th>7</th>\n",
       "      <td>5</td>\n",
       "      <td>7</td>\n",
       "      <td>1</td>\n",
       "    </tr>\n",
       "    <tr>\n",
       "      <th>8</th>\n",
       "      <td>6</td>\n",
       "      <td>3</td>\n",
       "      <td>0</td>\n",
       "    </tr>\n",
       "    <tr>\n",
       "      <th>9</th>\n",
       "      <td>4</td>\n",
       "      <td>4</td>\n",
       "      <td>0</td>\n",
       "    </tr>\n",
       "  </tbody>\n",
       "</table>\n",
       "</div>"
      ],
      "text/plain": [
       "   x  y  cluster\n",
       "0  2  4        2\n",
       "1  2  6        2\n",
       "2  5  6        1\n",
       "3  4  7        1\n",
       "4  8  3        0\n",
       "5  6  6        1\n",
       "6  5  2        0\n",
       "7  5  7        1\n",
       "8  6  3        0\n",
       "9  4  4        0"
      ]
     },
     "execution_count": 10,
     "metadata": {},
     "output_type": "execute_result"
    }
   ],
   "source": [
    "Df=df.copy()\n",
    "Df['cluster']=pred.tolist()\n",
    "Df"
   ]
  },
  {
   "cell_type": "code",
   "execution_count": 11,
   "id": "000078be",
   "metadata": {},
   "outputs": [
    {
     "data": {
      "text/plain": [
       "array([[5.75, 3.  ],\n",
       "       [5.  , 6.5 ],\n",
       "       [2.  , 5.  ]])"
      ]
     },
     "execution_count": 11,
     "metadata": {},
     "output_type": "execute_result"
    }
   ],
   "source": [
    "kmeans.get_centroids()"
   ]
  },
  {
   "cell_type": "markdown",
   "id": "dcb5ba9d",
   "metadata": {},
   "source": [
    "## With different number of clusters"
   ]
  },
  {
   "cell_type": "markdown",
   "id": "0b92b451",
   "metadata": {},
   "source": [
    "### k=2"
   ]
  },
  {
   "cell_type": "code",
   "execution_count": 12,
   "id": "7532be3a",
   "metadata": {},
   "outputs": [
    {
     "name": "stdout",
     "output_type": "stream",
     "text": [
      "iteration  0\n"
     ]
    },
    {
     "data": {
      "image/png": "[encoded data removed]",
      "text/plain": [
       "<Figure size 432x288 with 1 Axes>"
      ]
     },
     "metadata": {
      "needs_background": "light"
     },
     "output_type": "display_data"
    },
    {
     "name": "stdout",
     "output_type": "stream",
     "text": [
      "iteration  1\n"
     ]
    },
    {
     "data": {
      "image/png": "[encoded data removed]",
      "text/plain": [
       "<Figure size 432x288 with 1 Axes>"
      ]
     },
     "metadata": {
      "needs_background": "light"
     },
     "output_type": "display_data"
    },
    {
     "name": "stdout",
     "output_type": "stream",
     "text": [
      "iteration  2\n",
      "No change in classes. Ending training...\n"
     ]
    }
   ],
   "source": [
    "kmeans2=Kmeans(2)\n",
    "kmeans2.fit(df,[[1,5],[4,1]],6)"
   ]
  },
  {
   "cell_type": "markdown",
   "id": "cbf6a630",
   "metadata": {},
   "source": [
    "### k=3"
   ]
  },
  {
   "cell_type": "code",
   "execution_count": 13,
   "id": "ecd9a91a",
   "metadata": {},
   "outputs": [
    {
     "name": "stdout",
     "output_type": "stream",
     "text": [
      "iteration  0\n"
     ]
    },
    {
     "data": {
      "image/png": "[encoded data removed]",
      "text/plain": [
       "<Figure size 432x288 with 1 Axes>"
      ]
     },
     "metadata": {
      "needs_background": "light"
     },
     "output_type": "display_data"
    },
    {
     "name": "stdout",
     "output_type": "stream",
     "text": [
      "iteration  1\n"
     ]
    },
    {
     "data": {
      "image/png": "[encoded data removed]",
      "text/plain": [
       "<Figure size 432x288 with 1 Axes>"
      ]
     },
     "metadata": {
      "needs_background": "light"
     },
     "output_type": "display_data"
    },
    {
     "name": "stdout",
     "output_type": "stream",
     "text": [
      "iteration  2\n"
     ]
    },
    {
     "data": {
      "image/png": "[encoded data removed]",
      "text/plain": [
       "<Figure size 432x288 with 1 Axes>"
      ]
     },
     "metadata": {
      "needs_background": "light"
     },
     "output_type": "display_data"
    },
    {
     "name": "stdout",
     "output_type": "stream",
     "text": [
      "iteration  3\n"
     ]
    },
    {
     "data": {
      "image/png": "[encoded data removed]",
      "text/plain": [
       "<Figure size 432x288 with 1 Axes>"
      ]
     },
     "metadata": {
      "needs_background": "light"
     },
     "output_type": "display_data"
    },
    {
     "name": "stdout",
     "output_type": "stream",
     "text": [
      "iteration  4\n",
      "No change in classes. Ending training...\n"
     ]
    }
   ],
   "source": [
    "kmeans3=Kmeans(3)\n",
    "kmeans3.fit(df,[[1,5],[4,1],[8,4]],6)"
   ]
  },
  {
   "cell_type": "markdown",
   "id": "0f9d5b49",
   "metadata": {},
   "source": [
    "### k=4"
   ]
  },
  {
   "cell_type": "code",
   "execution_count": 14,
   "id": "db156b0c",
   "metadata": {
    "scrolled": false
   },
   "outputs": [
    {
     "name": "stdout",
     "output_type": "stream",
     "text": [
      "iteration  0\n"
     ]
    },
    {
     "data": {
      "image/png": "[encoded data removed]",
      "text/plain": [
       "<Figure size 432x288 with 1 Axes>"
      ]
     },
     "metadata": {
      "needs_background": "light"
     },
     "output_type": "display_data"
    },
    {
     "name": "stdout",
     "output_type": "stream",
     "text": [
      "iteration  1\n"
     ]
    },
    {
     "data": {
      "image/png": "[encoded data removed]",
      "text/plain": [
       "<Figure size 432x288 with 1 Axes>"
      ]
     },
     "metadata": {
      "needs_background": "light"
     },
     "output_type": "display_data"
    },
    {
     "name": "stdout",
     "output_type": "stream",
     "text": [
      "iteration  2\n",
      "No change in classes. Ending training...\n"
     ]
    }
   ],
   "source": [
    "kmeans4=Kmeans(4)\n",
    "kmeans4.fit(df,[[1,5],[4,1],[8,4],[8,3]],6)"
   ]
  },
  {
   "cell_type": "markdown",
   "id": "ddfa3fe9",
   "metadata": {},
   "source": [
    "## Centroids"
   ]
  },
  {
   "cell_type": "code",
   "execution_count": 15,
   "id": "cc895f63",
   "metadata": {},
   "outputs": [
    {
     "name": "stdout",
     "output_type": "stream",
     "text": [
      "---K: 2---\n",
      "[[4.         5.71428571]\n",
      " [6.33333333 2.66666667]]\n",
      "---K: 3---\n",
      "[[2.   5.  ]\n",
      " [5.75 3.  ]\n",
      " [5.   6.5 ]]\n",
      "---K: 4---\n",
      "[[2.  5. ]\n",
      " [4.5 3. ]\n",
      " [5.  6.5]\n",
      " [7.  3. ]]\n"
     ]
    }
   ],
   "source": [
    "print('---K: 2---')\n",
    "print(kmeans2.get_centroids())\n",
    "print('---K: 3---')\n",
    "print(kmeans3.get_centroids())\n",
    "print('---K: 4---')\n",
    "print(kmeans4.get_centroids())"
   ]
  },
  {
   "cell_type": "markdown",
   "id": "70554647",
   "metadata": {},
   "source": [
    "# K-Means using SKLearn\n",
    "---"
   ]
  },
  {
   "cell_type": "code",
   "execution_count": 16,
   "id": "cfdfe1e4",
   "metadata": {},
   "outputs": [],
   "source": [
    "from sklearn.cluster import KMeans"
   ]
  },
  {
   "cell_type": "code",
   "execution_count": 17,
   "id": "cb43cda8",
   "metadata": {},
   "outputs": [
    {
     "data": {
      "text/plain": [
       "KMeans(init=array([[1, 5],\n",
       "       [4, 1],\n",
       "       [8, 4],\n",
       "       [8, 3]]),\n",
       "       n_clusters=4, n_init=1)"
      ]
     },
     "execution_count": 17,
     "metadata": {},
     "output_type": "execute_result"
    }
   ],
   "source": [
    "skmeans2=KMeans(n_clusters=2,init=np.array([[1,5],[4,1]]),n_init=1)\n",
    "skmeans2.fit(df)\n",
    "skmeans3=KMeans(n_clusters=3,init=np.array([[1,5],[4,1],[8,4]]),n_init=1)\n",
    "skmeans3.fit(df)\n",
    "skmeans4=KMeans(n_clusters=4,init=np.array([[1,5],[4,1],[8,4],[8,3]]),n_init=1)\n",
    "skmeans4.fit(df)"
   ]
  },
  {
   "cell_type": "markdown",
   "id": "89a519d5",
   "metadata": {},
   "source": [
    "## Centroids"
   ]
  },
  {
   "cell_type": "code",
   "execution_count": 18,
   "id": "3feb1caa",
   "metadata": {},
   "outputs": [
    {
     "name": "stdout",
     "output_type": "stream",
     "text": [
      "---K: 2---\n",
      "[[4.         5.71428571]\n",
      " [6.33333333 2.66666667]]\n",
      "---K: 3---\n",
      "[[2.   5.  ]\n",
      " [5.75 3.  ]\n",
      " [5.   6.5 ]]\n",
      "---K: 4---\n",
      "[[2.  5. ]\n",
      " [4.5 3. ]\n",
      " [5.  6.5]\n",
      " [7.  3. ]]\n"
     ]
    }
   ],
   "source": [
    "print('---K: 2---')\n",
    "print(skmeans2.cluster_centers_)\n",
    "print('---K: 3---')\n",
    "print(skmeans3.cluster_centers_)\n",
    "print('---K: 4---')\n",
    "print(skmeans4.cluster_centers_)"
   ]
  },
  {
   "cell_type": "markdown",
   "id": "94b3157e",
   "metadata": {},
   "source": [
    "We can see that the K-Means implemented from scratch and the SKLearn one gave the same centroids."
   ]
  },
  {
   "cell_type": "markdown",
   "id": "b6fbfa00",
   "metadata": {},
   "source": [
    "# K-Modes\n",
    "---"
   ]
  },
  {
   "cell_type": "code",
   "execution_count": null,
   "id": "1715d305",
   "metadata": {},
   "outputs": [],
   "source": []
  }
 ],
 "metadata": {
  "kernelspec": {
   "display_name": "Python [conda env:MachineLearning] *",
   "language": "python",
   "name": "conda-env-MachineLearning-py"
  },
  "language_info": {
   "codemirror_mode": {
    "name": "ipython",
    "version": 3
   },
   "file_extension": ".py",
   "mimetype": "text/x-python",
   "name": "python",
   "nbconvert_exporter": "python",
   "pygments_lexer": "ipython3",
   "version": "3.7.11"
  }
 },
 "nbformat": 4,
 "nbformat_minor": 5
}
