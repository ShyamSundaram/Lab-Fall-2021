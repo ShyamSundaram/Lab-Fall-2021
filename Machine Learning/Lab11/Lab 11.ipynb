{
 "cells": [
  {
   "cell_type": "markdown",
   "id": "a010ecbc",
   "metadata": {},
   "source": [
    "# Machine Learning Lab \n",
    "## Lab 11 - Support Vector Machine\n",
    "---\n",
    "**S Shyam Sundaram** <br>\n",
    "**19BCE1560** <br>\n",
    "**October 18, 2021**<br>\n",
    "\n",
    "**Dr Abdul Quadir MD**<br>\n",
    "**L31+L32**"
   ]
  },
  {
   "cell_type": "code",
   "execution_count": 41,
   "id": "44c98f22",
   "metadata": {},
   "outputs": [],
   "source": [
    "import numpy as np\n",
    "import pandas as pd\n",
    "import matplotlib.pyplot as plt\n",
    "import plotly.express as px\n",
    "%matplotlib inline"
   ]
  },
  {
   "cell_type": "markdown",
   "id": "1e85fcdb",
   "metadata": {},
   "source": [
    "# Generating non-linear separable data\n",
    "---"
   ]
  },
  {
   "cell_type": "code",
   "execution_count": 42,
   "id": "dca3f367",
   "metadata": {},
   "outputs": [],
   "source": [
    "from sklearn.datasets import make_circles"
   ]
  },
  {
   "cell_type": "code",
   "execution_count": 43,
   "id": "300a7b4d",
   "metadata": {},
   "outputs": [
    {
     "data": {
      "image/png": "[encoded data removed]",
      "text/plain": [
       "<Figure size 432x288 with 1 Axes>"
      ]
     },
     "metadata": {
      "needs_background": "light"
     },
     "output_type": "display_data"
    }
   ],
   "source": [
    "# generate 2d classification dataset\n",
    "X, y = make_circles(n_samples=200, noise=0.1)\n",
    "\n",
    "# scatter plot, dots colored by class value\n",
    "df = pd.DataFrame(dict(X1=X[:,0], X2=X[:,1], Y=y))\n",
    "\n",
    "colors = {0:'red', 1:'blue'}\n",
    "\n",
    "fig, ax = plt.subplots()\n",
    "\n",
    "grouped = df.groupby('Y')\n",
    "for key, group in grouped:\n",
    "    group.plot(ax=ax, kind='scatter', x='X1', y='X2', label=key, color=colors[key])\n",
    "plt.show()"
   ]
  },
  {
   "cell_type": "code",
   "execution_count": 44,
   "id": "974a0a0f",
   "metadata": {},
   "outputs": [],
   "source": [
    "from sklearn.model_selection import train_test_split\n",
    "X_train,X_test,y_train,y_test=train_test_split(X,y,test_size=0.3)"
   ]
  },
  {
   "cell_type": "markdown",
   "id": "73525a51",
   "metadata": {},
   "source": [
    "# Linear SVM\n",
    "---"
   ]
  },
  {
   "cell_type": "code",
   "execution_count": 45,
   "id": "5e54a673",
   "metadata": {},
   "outputs": [],
   "source": [
    "from sklearn.svm import SVC"
   ]
  },
  {
   "cell_type": "code",
   "execution_count": 46,
   "id": "137b1526",
   "metadata": {},
   "outputs": [
    {
     "data": {
      "text/plain": [
       "SVC(kernel='linear')"
      ]
     },
     "execution_count": 46,
     "metadata": {},
     "output_type": "execute_result"
    }
   ],
   "source": [
    "linear=SVC(kernel='linear')\n",
    "linear.fit(X_train,y_train)"
   ]
  },
  {
   "cell_type": "code",
   "execution_count": 47,
   "id": "f2053690",
   "metadata": {},
   "outputs": [],
   "source": [
    "from sklearn.metrics import accuracy_score"
   ]
  },
  {
   "cell_type": "code",
   "execution_count": 48,
   "id": "dab05258",
   "metadata": {},
   "outputs": [
    {
     "data": {
      "text/plain": [
       "0.36666666666666664"
      ]
     },
     "execution_count": 48,
     "metadata": {},
     "output_type": "execute_result"
    }
   ],
   "source": [
    "pred=linear.predict(X_test)\n",
    "accuracy_score(y_test,pred)"
   ]
  },
  {
   "cell_type": "markdown",
   "id": "ba11e31f",
   "metadata": {},
   "source": [
    "# Polynomial SVM kernel\n",
    "---"
   ]
  },
  {
   "cell_type": "code",
   "execution_count": 49,
   "id": "758401d6",
   "metadata": {},
   "outputs": [
    {
     "data": {
      "text/html": [
       "<div>\n",
       "<style scoped>\n",
       "    .dataframe tbody tr th:only-of-type {\n",
       "        vertical-align: middle;\n",
       "    }\n",
       "\n",
       "    .dataframe tbody tr th {\n",
       "        vertical-align: top;\n",
       "    }\n",
       "\n",
       "    .dataframe thead th {\n",
       "        text-align: right;\n",
       "    }\n",
       "</style>\n",
       "<table border=\"1\" class=\"dataframe\">\n",
       "  <thead>\n",
       "    <tr style=\"text-align: right;\">\n",
       "      <th></th>\n",
       "      <th>X1</th>\n",
       "      <th>X2</th>\n",
       "      <th>Y</th>\n",
       "    </tr>\n",
       "  </thead>\n",
       "  <tbody>\n",
       "    <tr>\n",
       "      <th>0</th>\n",
       "      <td>-0.714792</td>\n",
       "      <td>0.744511</td>\n",
       "      <td>0</td>\n",
       "    </tr>\n",
       "    <tr>\n",
       "      <th>1</th>\n",
       "      <td>-0.840725</td>\n",
       "      <td>0.251145</td>\n",
       "      <td>1</td>\n",
       "    </tr>\n",
       "    <tr>\n",
       "      <th>2</th>\n",
       "      <td>-1.158434</td>\n",
       "      <td>-0.081527</td>\n",
       "      <td>0</td>\n",
       "    </tr>\n",
       "    <tr>\n",
       "      <th>3</th>\n",
       "      <td>0.666726</td>\n",
       "      <td>0.726343</td>\n",
       "      <td>0</td>\n",
       "    </tr>\n",
       "    <tr>\n",
       "      <th>4</th>\n",
       "      <td>-0.199792</td>\n",
       "      <td>-0.578271</td>\n",
       "      <td>1</td>\n",
       "    </tr>\n",
       "    <tr>\n",
       "      <th>...</th>\n",
       "      <td>...</td>\n",
       "      <td>...</td>\n",
       "      <td>...</td>\n",
       "    </tr>\n",
       "    <tr>\n",
       "      <th>195</th>\n",
       "      <td>0.929673</td>\n",
       "      <td>0.004524</td>\n",
       "      <td>0</td>\n",
       "    </tr>\n",
       "    <tr>\n",
       "      <th>196</th>\n",
       "      <td>0.490172</td>\n",
       "      <td>-0.651180</td>\n",
       "      <td>1</td>\n",
       "    </tr>\n",
       "    <tr>\n",
       "      <th>197</th>\n",
       "      <td>0.549444</td>\n",
       "      <td>0.917475</td>\n",
       "      <td>1</td>\n",
       "    </tr>\n",
       "    <tr>\n",
       "      <th>198</th>\n",
       "      <td>0.175297</td>\n",
       "      <td>0.804812</td>\n",
       "      <td>1</td>\n",
       "    </tr>\n",
       "    <tr>\n",
       "      <th>199</th>\n",
       "      <td>-0.741976</td>\n",
       "      <td>0.426227</td>\n",
       "      <td>1</td>\n",
       "    </tr>\n",
       "  </tbody>\n",
       "</table>\n",
       "<p>200 rows × 3 columns</p>\n",
       "</div>"
      ],
      "text/plain": [
       "           X1        X2  Y\n",
       "0   -0.714792  0.744511  0\n",
       "1   -0.840725  0.251145  1\n",
       "2   -1.158434 -0.081527  0\n",
       "3    0.666726  0.726343  0\n",
       "4   -0.199792 -0.578271  1\n",
       "..        ...       ... ..\n",
       "195  0.929673  0.004524  0\n",
       "196  0.490172 -0.651180  1\n",
       "197  0.549444  0.917475  1\n",
       "198  0.175297  0.804812  1\n",
       "199 -0.741976  0.426227  1\n",
       "\n",
       "[200 rows x 3 columns]"
      ]
     },
     "execution_count": 49,
     "metadata": {},
     "output_type": "execute_result"
    }
   ],
   "source": [
    "df"
   ]
  },
  {
   "cell_type": "code",
   "execution_count": 50,
   "id": "d4f348ef",
   "metadata": {
    "scrolled": false
   },
   "outputs": [
    {
     "data": {
      "text/html": [
       "<div>\n",
       "<style scoped>\n",
       "    .dataframe tbody tr th:only-of-type {\n",
       "        vertical-align: middle;\n",
       "    }\n",
       "\n",
       "    .dataframe tbody tr th {\n",
       "        vertical-align: top;\n",
       "    }\n",
       "\n",
       "    .dataframe thead th {\n",
       "        text-align: right;\n",
       "    }\n",
       "</style>\n",
       "<table border=\"1\" class=\"dataframe\">\n",
       "  <thead>\n",
       "    <tr style=\"text-align: right;\">\n",
       "      <th></th>\n",
       "      <th>X1</th>\n",
       "      <th>X2</th>\n",
       "      <th>Y</th>\n",
       "      <th>X3</th>\n",
       "      <th>X4</th>\n",
       "      <th>X5</th>\n",
       "    </tr>\n",
       "  </thead>\n",
       "  <tbody>\n",
       "    <tr>\n",
       "      <th>0</th>\n",
       "      <td>-0.714792</td>\n",
       "      <td>0.744511</td>\n",
       "      <td>0</td>\n",
       "      <td>0.510927</td>\n",
       "      <td>0.554297</td>\n",
       "      <td>-0.532170</td>\n",
       "    </tr>\n",
       "    <tr>\n",
       "      <th>1</th>\n",
       "      <td>-0.840725</td>\n",
       "      <td>0.251145</td>\n",
       "      <td>1</td>\n",
       "      <td>0.706818</td>\n",
       "      <td>0.063074</td>\n",
       "      <td>-0.211144</td>\n",
       "    </tr>\n",
       "    <tr>\n",
       "      <th>2</th>\n",
       "      <td>-1.158434</td>\n",
       "      <td>-0.081527</td>\n",
       "      <td>0</td>\n",
       "      <td>1.341970</td>\n",
       "      <td>0.006647</td>\n",
       "      <td>0.094444</td>\n",
       "    </tr>\n",
       "    <tr>\n",
       "      <th>3</th>\n",
       "      <td>0.666726</td>\n",
       "      <td>0.726343</td>\n",
       "      <td>0</td>\n",
       "      <td>0.444524</td>\n",
       "      <td>0.527574</td>\n",
       "      <td>0.484272</td>\n",
       "    </tr>\n",
       "    <tr>\n",
       "      <th>4</th>\n",
       "      <td>-0.199792</td>\n",
       "      <td>-0.578271</td>\n",
       "      <td>1</td>\n",
       "      <td>0.039917</td>\n",
       "      <td>0.334397</td>\n",
       "      <td>0.115534</td>\n",
       "    </tr>\n",
       "    <tr>\n",
       "      <th>...</th>\n",
       "      <td>...</td>\n",
       "      <td>...</td>\n",
       "      <td>...</td>\n",
       "      <td>...</td>\n",
       "      <td>...</td>\n",
       "      <td>...</td>\n",
       "    </tr>\n",
       "    <tr>\n",
       "      <th>195</th>\n",
       "      <td>0.929673</td>\n",
       "      <td>0.004524</td>\n",
       "      <td>0</td>\n",
       "      <td>0.864291</td>\n",
       "      <td>0.000020</td>\n",
       "      <td>0.004206</td>\n",
       "    </tr>\n",
       "    <tr>\n",
       "      <th>196</th>\n",
       "      <td>0.490172</td>\n",
       "      <td>-0.651180</td>\n",
       "      <td>1</td>\n",
       "      <td>0.240268</td>\n",
       "      <td>0.424035</td>\n",
       "      <td>-0.319190</td>\n",
       "    </tr>\n",
       "    <tr>\n",
       "      <th>197</th>\n",
       "      <td>0.549444</td>\n",
       "      <td>0.917475</td>\n",
       "      <td>1</td>\n",
       "      <td>0.301889</td>\n",
       "      <td>0.841761</td>\n",
       "      <td>0.504101</td>\n",
       "    </tr>\n",
       "    <tr>\n",
       "      <th>198</th>\n",
       "      <td>0.175297</td>\n",
       "      <td>0.804812</td>\n",
       "      <td>1</td>\n",
       "      <td>0.030729</td>\n",
       "      <td>0.647723</td>\n",
       "      <td>0.141081</td>\n",
       "    </tr>\n",
       "    <tr>\n",
       "      <th>199</th>\n",
       "      <td>-0.741976</td>\n",
       "      <td>0.426227</td>\n",
       "      <td>1</td>\n",
       "      <td>0.550528</td>\n",
       "      <td>0.181669</td>\n",
       "      <td>-0.316250</td>\n",
       "    </tr>\n",
       "  </tbody>\n",
       "</table>\n",
       "<p>200 rows × 6 columns</p>\n",
       "</div>"
      ],
      "text/plain": [
       "           X1        X2  Y        X3        X4        X5\n",
       "0   -0.714792  0.744511  0  0.510927  0.554297 -0.532170\n",
       "1   -0.840725  0.251145  1  0.706818  0.063074 -0.211144\n",
       "2   -1.158434 -0.081527  0  1.341970  0.006647  0.094444\n",
       "3    0.666726  0.726343  0  0.444524  0.527574  0.484272\n",
       "4   -0.199792 -0.578271  1  0.039917  0.334397  0.115534\n",
       "..        ...       ... ..       ...       ...       ...\n",
       "195  0.929673  0.004524  0  0.864291  0.000020  0.004206\n",
       "196  0.490172 -0.651180  1  0.240268  0.424035 -0.319190\n",
       "197  0.549444  0.917475  1  0.301889  0.841761  0.504101\n",
       "198  0.175297  0.804812  1  0.030729  0.647723  0.141081\n",
       "199 -0.741976  0.426227  1  0.550528  0.181669 -0.316250\n",
       "\n",
       "[200 rows x 6 columns]"
      ]
     },
     "execution_count": 50,
     "metadata": {},
     "output_type": "execute_result"
    }
   ],
   "source": [
    "df['X3']=df['X1']**2\n",
    "df['X4']=df['X2']**2\n",
    "df['X5']=df['X1']*df['X2']\n",
    "df"
   ]
  },
  {
   "cell_type": "code",
   "execution_count": 51,
   "id": "13fe9143",
   "metadata": {},
   "outputs": [],
   "source": [
    "X=df.drop(['Y'],axis=1)\n",
    "y=df.Y"
   ]
  },
  {
   "cell_type": "code",
   "execution_count": 52,
   "id": "899da5c7",
   "metadata": {},
   "outputs": [],
   "source": [
    "X_train,X_test,y_train,y_test=train_test_split(X,y,test_size=0.25)"
   ]
  },
  {
   "cell_type": "code",
   "execution_count": 53,
   "id": "89a17ccf",
   "metadata": {},
   "outputs": [
    {
     "data": {
      "application/vnd.plotly.v1+json": {
       "config": {
        "plotlyServerURL": "https://plotly.com"
       },
       "data": [
        {
         "hovertemplate": "X1=%{x}<br>X2=%{y}<br>X5=%{z}<br>Y=%{marker.color}<extra></extra>",
         "legendgroup": "",
         "marker": {
          "color": [
           0,
           1,
           0,
           0,
           1,
           0,
           0,
           0,
           1,
           1,
           1,
           1,
           0,
           0,
           1,
           0,
           0,
           0,
           1,
           0,
           0,
           1,
           0,
           0,
           0,
           1,
           1,
           1,
           0,
           1,
           0,
           0,
           0,
           1,
           1,
           0,
           0,
           1,
           1,
           0,
           1,
           1,
           0,
           1,
           1,
           0,
           1,
           1,
           0,
           1,
           1,
           0,
           0,
           0,
           1,
           0,
           0,
           0,
           1,
           0,
           1,
           0,
           0,
           0,
           0,
           0,
           1,
           0,
           0,
           0,
           0,
           1,
           1,
           1,
           1,
           0,
           0,
           1,
           0,
           1,
           1,
           1,
           1,
           1,
           0,
           0,
           0,
           0,
           1,
           1,
           1,
           0,
           0,
           1,
           1,
           0,
           1,
           0,
           1,
           1,
           1,
           1,
           0,
           1,
           0,
           0,
           1,
           1,
           0,
           0,
           1,
           0,
           0,
           1,
           1,
           0,
           1,
           0,
           0,
           1,
           1,
           1,
           1,
           1,
           1,
           0,
           0,
           1,
           0,
           1,
           0,
           1,
           1,
           0,
           0,
           1,
           1,
           0,
           0,
           0,
           0,
           1,
           1,
           1,
           1,
           0,
           0,
           0,
           1,
           0,
           0,
           1,
           0,
           0,
           1,
           0,
           0,
           0,
           1,
           1,
           0,
           1,
           1,
           0,
           1,
           0,
           0,
           1,
           0,
           1,
           0,
           1,
           0,
           1,
           1,
           1,
           0,
           1,
           1,
           0,
           1,
           1,
           1,
           1,
           0,
           1,
           1,
           0,
           0,
           0,
           0,
           1,
           0,
           0,
           1,
           0,
           1,
           1,
           1,
           1
          ],
          "coloraxis": "coloraxis",
          "symbol": "circle"
         },
         "mode": "markers",
         "name": "",
         "scene": "scene",
         "showlegend": false,
         "type": "scatter3d",
         "x": [
          -0.7147918743409184,
          -0.8407249697481496,
          -1.15843421851837,
          0.666726048282665,
          -0.19979165019033285,
          -1.097206353397108,
          -0.8489288334332058,
          -0.47032783159267716,
          0.359968252620569,
          0.28048734574078493,
          -0.723771751639452,
          -0.8350092381318741,
          -0.22743371797641243,
          0.9169789946909038,
          0.7477507500665052,
          -0.8668393910655364,
          -0.05093687349711269,
          0.016267440217117485,
          0.4141552339002072,
          -0.6080470512656548,
          0.13381253370666474,
          -0.9525237372760933,
          0.39502095330559595,
          -0.34946670621668535,
          0.2291822862406152,
          0.2857819222167082,
          0.012329096071149528,
          -0.7076582217405513,
          -1.2462720138346988,
          0.18466732757963625,
          0.9473116602102559,
          0.7789239334544386,
          0.39520296079503137,
          0.7852723710201646,
          0.6066217505615454,
          -0.1956423082416477,
          -0.9165249561031171,
          -0.6447450782022938,
          0.6890392022341355,
          0.14845815413092736,
          0.6074799055619172,
          -0.5683486592416681,
          -0.7123817524396096,
          -0.09059175884218391,
          0.7374420077381537,
          0.3505586418873227,
          0.7225612599748804,
          -0.2639102673417914,
          1.0784429377340559,
          -0.9105882938146075,
          0.3859015534285559,
          0.6069584144056929,
          -0.5371642783878686,
          0.17499123621991874,
          0.6159146183820606,
          0.04513238866446494,
          0.6709128453270532,
          0.9681703761801822,
          0.01491819233672037,
          0.46345610943930066,
          -0.6253283636617172,
          -0.2450269092883901,
          -0.31125632895839894,
          -0.8831693959782427,
          -1.006143795706533,
          0.8745776447044316,
          -0.1626595425772542,
          1.049274161903209,
          0.6800548229718386,
          -0.15264500896643973,
          0.678918666248428,
          -0.5762602607731667,
          -0.8025395569934708,
          -0.7305338055899125,
          0.4711956338191361,
          0.8562464114068089,
          1.0750943901425425,
          -0.5734225393888044,
          -0.7294645393861797,
          0.8189908376082444,
          0.6416048340436726,
          -0.15721107806027054,
          -0.609755315349669,
          -0.12245242080116207,
          0.9662142962694292,
          -1.0104403817414398,
          -0.15216541095314312,
          -0.8947141136975427,
          0.0708441854671289,
          0.28225342088644506,
          -0.37883162714940444,
          -0.46880537842794834,
          0.8537385813989401,
          0.7967504904335635,
          0.7672640424351687,
          -1.0278180789474056,
          0.16717592058311584,
          0.7614331091685369,
          0.07653330225327223,
          0.341599143689313,
          0.708712858296962,
          0.6091899003494459,
          -0.5020996611790081,
          0.5957926207853068,
          1.1355431727109453,
          0.7429617703813687,
          0.010372660260158477,
          -0.8049410306620023,
          1.0761483271454775,
          -0.9853775923676155,
          -0.5849374720109832,
          -0.6863751281387807,
          0.953313180764686,
          -0.6567931087064385,
          -0.8032294002417385,
          -0.912350008584303,
          -0.8328126018981693,
          -0.5972536764623826,
          0.9042666208997892,
          -0.2859707918258541,
          -0.5734737307635187,
          0.024359935244605863,
          0.5632926898142175,
          -0.3596316845211173,
          -0.47475954983832197,
          -0.6097817277050321,
          -0.777977485825467,
          0.4924229165298315,
          -0.19162402993917543,
          0.9442060394832519,
          -0.8419070104830982,
          0.48089147858010384,
          0.8347186614924655,
          0.9134374968630978,
          0.12547187276661967,
          -0.6979890370712656,
          -0.48334820774464865,
          0.0763037406643118,
          0.5323194020971153,
          -0.7517186563913147,
          -0.3072931557867567,
          -0.18252369470241922,
          -0.7513970977628108,
          0.364240148538037,
          -0.20745424322039985,
          -0.17162369922638152,
          -0.06357649621700348,
          -0.42628413281056554,
          0.09587310033286636,
          1.0302465122801439,
          -0.9541790968449552,
          -0.10746744669951071,
          -0.8403071696921117,
          0.7892228399106157,
          -0.38476179728927373,
          0.6275305328564632,
          -0.8929282307183671,
          -0.9084800502931856,
          -0.02176901497004135,
          0.6070570999526601,
          -1.1869382089310352,
          -0.689834278684588,
          0.9678957268619885,
          0.28591500686416316,
          0.5119251070047692,
          0.20018528679250253,
          0.2054076280977145,
          0.719922568101092,
          -0.8010323101416961,
          0.37235779419440895,
          0.8890144855367548,
          -0.575395260776605,
          -0.8045853013570327,
          -0.42613526954904873,
          -0.6716457470220987,
          0.0626303921988523,
          0.379862246796175,
          0.7412065463798032,
          0.5348190371353134,
          -0.5742060152026109,
          -0.22678049596856728,
          0.746296407394807,
          -0.4227922087956795,
          0.7026052007628135,
          0.501378174400837,
          -0.7515049567780246,
          -1.01439229718723,
          -0.98854834430087,
          0.5939814086398587,
          0.09129656041848976,
          1.0378152271113819,
          0.5027034139731661,
          0.8899249715651512,
          -0.7246361882387391,
          -0.5797268332795241,
          0.9296726487000092,
          0.4901716520609391,
          0.549443849819392,
          0.17529667621889933,
          -0.7419758711287966
         ],
         "y": [
          0.7445109473838959,
          0.2511447597851021,
          -0.08152722248390133,
          0.7263427920001004,
          -0.5782707858289179,
          0.3246251169335448,
          -0.6523892955559438,
          -0.8833676372225633,
          -0.7257269536305825,
          0.6500014830877701,
          0.5032723940992858,
          -0.3740199940060641,
          1.0130875470569667,
          -0.2569689980356686,
          0.06421491483940182,
          -0.5426710377943841,
          -0.7638716882989663,
          -0.8771586944461578,
          0.7321599332049151,
          -0.7667377685008794,
          1.0349240527683186,
          -0.01713568026891467,
          -0.8756555315344,
          -1.0448583128923201,
          -0.8428323037534079,
          0.6373690083272548,
          0.7789050350021288,
          -0.28739120106419325,
          0.1536084445533792,
          -0.8445347092385378,
          0.35782884799837755,
          0.08838810972614741,
          -0.7879886339111305,
          0.3995466945621323,
          -0.35555402814950526,
          -0.8904914726573055,
          0.5756655110860618,
          -0.5749707969993668,
          0.4869391897595581,
          0.9115701758356964,
          -0.5763201428575991,
          0.5225495752440013,
          -0.8950890831296189,
          0.8802781692988738,
          0.18250951364675566,
          -0.9677491187022922,
          0.37702100963751645,
          0.7608926476600918,
          -0.26555151150551143,
          0.2936099041436104,
          0.7197973841873422,
          -0.8463799860376197,
          0.8882491305020119,
          -0.9331680354355746,
          -0.356373448727198,
          -0.9188905935947183,
          0.9503976776597252,
          -0.20881133480011077,
          -0.6845683243805507,
          0.9489136894230935,
          -0.4217824590633591,
          0.9614138072694762,
          1.0248957640536014,
          -0.3742662580922502,
          0.37931380789023067,
          -0.6037788905114683,
          0.9203179954418285,
          0.4026396558597132,
          -0.7246505330831761,
          -1.1561028578633168,
          -0.6450312202171377,
          0.09970149705018491,
          -0.3314567923615396,
          -0.3490072846050737,
          0.43548250659603405,
          -0.7513861427327351,
          -0.12032432719185329,
          0.6500370422645408,
          0.8685329872685601,
          0.16308153602663075,
          -0.0697418531545072,
          -0.792713673246129,
          -0.653648293747489,
          -0.8392032569481384,
          0.26943056691990536,
          -0.19219915907331547,
          0.8559337705799058,
          -0.34304535820933246,
          -0.7768594161534106,
          -0.6390004484661493,
          -0.9120079016794268,
          0.8462670871920408,
          -0.6943076625866748,
          -0.09375017271955252,
          -0.44653846837045824,
          0.017511350795398097,
          -0.5000189096080618,
          0.7393987597989934,
          -0.8721718843184826,
          -0.5287611859321724,
          -0.5118999319771932,
          0.19681026050732797,
          -1.0732017016024995,
          0.4423299964066248,
          0.6757376327810916,
          0.7984632633803033,
          0.8241302853064402,
          -0.049227831709974135,
          -0.16017433802070397,
          0.13092184535939955,
          0.020208153277531043,
          -0.7121653251123574,
          -0.39804985194213094,
          -0.4622069341204427,
          -0.2336514223374767,
          0.5664428835145547,
          0.17411976627093678,
          -0.8714429590690373,
          0.633647291027559,
          -0.807591377107504,
          0.4830806054838751,
          -0.8231427024490011,
          -0.5657851458110308,
          0.8985646057155633,
          -0.8370373319923267,
          -0.8939058926414973,
          0.7528364849250876,
          -0.17093194036219855,
          -0.9943442884348198,
          0.22786441971144503,
          0.5779549793905698,
          -0.2763691594039641,
          -0.2603539188160977,
          0.44001891638433077,
          1.1678961773802585,
          -0.36444987922069666,
          0.8285395672495698,
          1.0272290192171663,
          -0.8268392650974835,
          0.7003814487123025,
          0.9290090131179846,
          -0.8125300064051377,
          -0.20974027787154245,
          0.9010091875827746,
          0.8455776278740748,
          -0.953113507521215,
          1.0078817443189565,
          0.8614064111413635,
          0.7909301651830717,
          -0.010217545798637609,
          -0.19991271779244713,
          0.8332004830180978,
          -0.5304406413346904,
          0.3836548518493217,
          -0.7226762319243437,
          -0.8854148469677116,
          0.022589252244831076,
          -0.40766461417708877,
          -0.8440022225127163,
          -0.6175767110259989,
          -0.34016184229154445,
          -0.32385981394666447,
          0.4456999791979657,
          1.0390921872716876,
          -0.4368415722337384,
          0.9475930937026409,
          -0.9116191471157951,
          -0.10917756134906069,
          0.47943359468137897,
          0.7469580939124275,
          -0.3652495191858507,
          0.27797021866837734,
          0.6773078909929566,
          0.7561293859066194,
          -0.624460987535149,
          -0.7442205775269073,
          0.863319455032258,
          0.43977476607809396,
          0.6052708948839876,
          -0.593478964712947,
          0.5769823519217476,
          -0.4737708588883639,
          0.7473461849040872,
          0.038060949743738526,
          0.7945016022750115,
          -0.3459980304506612,
          0.3839146218385116,
          0.16100105435442574,
          0.8045390105710298,
          0.9405941564219543,
          0.6137304087782477,
          -0.5330173626544858,
          -0.42275905554392695,
          -0.6806276051437068,
          0.5564287725196901,
          0.00452411335367256,
          -0.6511800658945313,
          0.9174752503420878,
          0.8048123348001065,
          0.42622664728716375
         ],
         "z": [
          -0.5321703755478678,
          -0.21114367057273625,
          0.09444392426611152,
          0.48427165940882466,
          0.11553367455762005,
          -0.3561807407717644,
          0.5538320836206183,
          0.41547238531403485,
          -0.26123866337804946,
          0.18231719071886232,
          -0.3642543422290207,
          0.3123101502410917,
          -0.23041026746276963,
          -0.23563517348547622,
          0.048016750736619464,
          0.4704086319505866,
          0.03890923555491035,
          -0.014269126622827694,
          0.3032278683888417,
          0.466212639230968,
          0.1384858096948987,
          0.01632214221051481,
          -0.345902282834037,
          0.3651431930696019,
          -0.19316223429165066,
          0.18214854036111996,
          0.009603195006843332,
          0.2033747462889682,
          -0.19143790553555554,
          -0.1559579678033259,
          0.33897544006846636,
          0.06884761409849326,
          -0.3114154411945108,
          0.31375298017207515,
          -0.21568680697526188,
          0.17421780718017935,
          -0.5276118072782313,
          0.37070959147539195,
          0.33552019084846224,
          0.1353300256653724,
          -0.35010290595656496,
          -0.29699035047723127,
          0.6376451296294412,
          -0.07974594762716272,
          0.13459018217497745,
          -0.339252816739929,
          0.2724207757606854,
          -0.2008073820623783,
          -0.28638215218772267,
          -0.26735774166120063,
          0.27777092871170644,
          -0.5137174543101061,
          -0.477135703214765,
          -0.16329622812178413,
          -0.219495616674311,
          -0.04147172741023772,
          0.6376340101109097,
          -0.20216494856410921,
          -0.010212521930735437,
          0.4397798466937198,
          0.26375253494730555,
          -0.23557225374242372,
          -0.3190052930843374,
          0.3305405050943697,
          -0.3816442344345753,
          -0.5280515199857748,
          -0.14969850416418334,
          0.42247938745119706,
          -0.4928020899923278,
          0.1764733311046726,
          -0.43792373571841514,
          -0.05745401068961467,
          0.2660071873043068,
          0.2549616198011462,
          0.20519745571266437,
          -0.6433716882957087,
          -0.12936000916163726,
          -0.37274589147212056,
          -0.6335640154995629,
          0.1335622837888894,
          -0.044746710119095784,
          0.12462337116414098,
          0.3985655214817732,
          0.10276247035751918,
          0.2603276656099897,
          0.1942057916644246,
          -0.1302435139489647,
          0.30692752362831893,
          -0.05503597255985769,
          -0.1803600625275432,
          0.3454974373663313,
          -0.3967345620621822,
          -0.5927572389111616,
          -0.07469549609253476,
          -0.34261291034472646,
          -0.017998482934300196,
          -0.08359112152269352,
          0.5630026965891077,
          -0.06675019443935241,
          -0.18062436833057569,
          -0.362790063953577,
          0.11989482298620761,
          0.5388542107513499,
          0.26353694781105835,
          0.7673292554484243,
          0.5932276797455152,
          0.008548423459591179,
          0.03962550159388218,
          -0.17237134591261483,
          -0.1290074527685704,
          -0.011820506092169473,
          0.4888125662799907,
          -0.3794661704578652,
          0.30357432912663757,
          0.18767569182976057,
          -0.5167941696370214,
          -0.14500913558999995,
          0.5204725111312402,
          0.5729860946997961,
          0.23094754558316485,
          -0.2770340370863374,
          -0.02005170292872754,
          -0.3187026366408248,
          -0.32315230280454166,
          0.3973914669345471,
          0.5450874796206412,
          -0.5856898357797017,
          -0.08417080460125703,
          0.19054025969688201,
          0.21515096127489294,
          -0.4865843488925353,
          -0.1329035736997127,
          -0.21732227462849113,
          0.40192977755451587,
          0.14653812057287727,
          0.2543820202579931,
          -0.40047311487560633,
          0.07838141668520202,
          -0.4401425832271106,
          -0.5264898015874145,
          -0.28547811139536594,
          0.14830597882564608,
          0.1575982360766425,
          0.32818372031928583,
          -0.17541866687471705,
          0.16357686594342252,
          -0.06407758990488101,
          -0.36720388497085765,
          0.0758289270828872,
          -0.010526590923109034,
          0.1907525365110176,
          -0.089541928498754,
          0.44573307400962225,
          0.3027891717220082,
          0.2780582058534505,
          -0.5556248507166719,
          -0.020170581040227915,
          0.3703551691903537,
          0.01837309701662749,
          -0.3749043271937449,
          0.403751087836207,
          0.22340960114882216,
          0.4313911053281882,
          0.29709204985628285,
          -0.22363016860988813,
          0.18969419522545788,
          -0.1872535267375169,
          -0.0785993903454303,
          -0.3840417999071626,
          0.27813566820489166,
          -0.3247121133915561,
          -0.1599427464588209,
          -0.5449519735860643,
          -0.3222133996772739,
          0.4194165664592026,
          -0.04661082665296657,
          0.3279424678914029,
          0.32596393554972986,
          0.32371039720788375,
          0.3407791914343923,
          -0.13084834393392436,
          -0.35357348991673804,
          -0.31597214425062337,
          0.026741821235922763,
          0.39834576290718515,
          0.2600192349191058,
          -0.38944003517053444,
          -0.15915732571276195,
          0.4778812148046985,
          0.08587301123105535,
          0.6369387635713584,
          -0.2679496479133832,
          -0.37622384048383933,
          0.4932073934013973,
          -0.32257669023845265,
          0.00420594444452785,
          -0.3191900086886736,
          0.5041011336619672,
          0.14108092727043067,
          -0.31624988791919967
         ]
        }
       ],
       "layout": {
        "coloraxis": {
         "colorbar": {
          "title": {
           "text": "Y"
          }
         },
         "colorscale": [
          [
           0,
           "#0d0887"
          ],
          [
           0.1111111111111111,
           "#46039f"
          ],
          [
           0.2222222222222222,
           "#7201a8"
          ],
          [
           0.3333333333333333,
           "#9c179e"
          ],
          [
           0.4444444444444444,
           "#bd3786"
          ],
          [
           0.5555555555555556,
           "#d8576b"
          ],
          [
           0.6666666666666666,
           "#ed7953"
          ],
          [
           0.7777777777777778,
           "#fb9f3a"
          ],
          [
           0.8888888888888888,
           "#fdca26"
          ],
          [
           1,
           "#f0f921"
          ]
         ]
        },
        "legend": {
         "tracegroupgap": 0
        },
        "margin": {
         "t": 60
        },
        "scene": {
         "domain": {
          "x": [
           0,
           1
          ],
          "y": [
           0,
           1
          ]
         },
         "xaxis": {
          "title": {
           "text": "X1"
          }
         },
         "yaxis": {
          "title": {
           "text": "X2"
          }
         },
         "zaxis": {
          "title": {
           "text": "X5"
          }
         }
        },
        "template": {
         "data": {
          "bar": [
           {
            "error_x": {
             "color": "#2a3f5f"
            },
            "error_y": {
             "color": "#2a3f5f"
            },
            "marker": {
             "line": {
              "color": "#E5ECF6",
              "width": 0.5
             },
             "pattern": {
              "fillmode": "overlay",
              "size": 10,
              "solidity": 0.2
             }
            },
            "type": "bar"
           }
          ],
          "barpolar": [
           {
            "marker": {
             "line": {
              "color": "#E5ECF6",
              "width": 0.5
             },
             "pattern": {
              "fillmode": "overlay",
              "size": 10,
              "solidity": 0.2
             }
            },
            "type": "barpolar"
           }
          ],
          "carpet": [
           {
            "aaxis": {
             "endlinecolor": "#2a3f5f",
             "gridcolor": "white",
             "linecolor": "white",
             "minorgridcolor": "white",
             "startlinecolor": "#2a3f5f"
            },
            "baxis": {
             "endlinecolor": "#2a3f5f",
             "gridcolor": "white",
             "linecolor": "white",
             "minorgridcolor": "white",
             "startlinecolor": "#2a3f5f"
            },
            "type": "carpet"
           }
          ],
          "choropleth": [
           {
            "colorbar": {
             "outlinewidth": 0,
             "ticks": ""
            },
            "type": "choropleth"
           }
          ],
          "contour": [
           {
            "colorbar": {
             "outlinewidth": 0,
             "ticks": ""
            },
            "colorscale": [
             [
              0,
              "#0d0887"
             ],
             [
              0.1111111111111111,
              "#46039f"
             ],
             [
              0.2222222222222222,
              "#7201a8"
             ],
             [
              0.3333333333333333,
              "#9c179e"
             ],
             [
              0.4444444444444444,
              "#bd3786"
             ],
             [
              0.5555555555555556,
              "#d8576b"
             ],
             [
              0.6666666666666666,
              "#ed7953"
             ],
             [
              0.7777777777777778,
              "#fb9f3a"
             ],
             [
              0.8888888888888888,
              "#fdca26"
             ],
             [
              1,
              "#f0f921"
             ]
            ],
            "type": "contour"
           }
          ],
          "contourcarpet": [
           {
            "colorbar": {
             "outlinewidth": 0,
             "ticks": ""
            },
            "type": "contourcarpet"
           }
          ],
          "heatmap": [
           {
            "colorbar": {
             "outlinewidth": 0,
             "ticks": ""
            },
            "colorscale": [
             [
              0,
              "#0d0887"
             ],
             [
              0.1111111111111111,
              "#46039f"
             ],
             [
              0.2222222222222222,
              "#7201a8"
             ],
             [
              0.3333333333333333,
              "#9c179e"
             ],
             [
              0.4444444444444444,
              "#bd3786"
             ],
             [
              0.5555555555555556,
              "#d8576b"
             ],
             [
              0.6666666666666666,
              "#ed7953"
             ],
             [
              0.7777777777777778,
              "#fb9f3a"
             ],
             [
              0.8888888888888888,
              "#fdca26"
             ],
             [
              1,
              "#f0f921"
             ]
            ],
            "type": "heatmap"
           }
          ],
          "heatmapgl": [
           {
            "colorbar": {
             "outlinewidth": 0,
             "ticks": ""
            },
            "colorscale": [
             [
              0,
              "#0d0887"
             ],
             [
              0.1111111111111111,
              "#46039f"
             ],
             [
              0.2222222222222222,
              "#7201a8"
             ],
             [
              0.3333333333333333,
              "#9c179e"
             ],
             [
              0.4444444444444444,
              "#bd3786"
             ],
             [
              0.5555555555555556,
              "#d8576b"
             ],
             [
              0.6666666666666666,
              "#ed7953"
             ],
             [
              0.7777777777777778,
              "#fb9f3a"
             ],
             [
              0.8888888888888888,
              "#fdca26"
             ],
             [
              1,
              "#f0f921"
             ]
            ],
            "type": "heatmapgl"
           }
          ],
          "histogram": [
           {
            "marker": {
             "pattern": {
              "fillmode": "overlay",
              "size": 10,
              "solidity": 0.2
             }
            },
            "type": "histogram"
           }
          ],
          "histogram2d": [
           {
            "colorbar": {
             "outlinewidth": 0,
             "ticks": ""
            },
            "colorscale": [
             [
              0,
              "#0d0887"
             ],
             [
              0.1111111111111111,
              "#46039f"
             ],
             [
              0.2222222222222222,
              "#7201a8"
             ],
             [
              0.3333333333333333,
              "#9c179e"
             ],
             [
              0.4444444444444444,
              "#bd3786"
             ],
             [
              0.5555555555555556,
              "#d8576b"
             ],
             [
              0.6666666666666666,
              "#ed7953"
             ],
             [
              0.7777777777777778,
              "#fb9f3a"
             ],
             [
              0.8888888888888888,
              "#fdca26"
             ],
             [
              1,
              "#f0f921"
             ]
            ],
            "type": "histogram2d"
           }
          ],
          "histogram2dcontour": [
           {
            "colorbar": {
             "outlinewidth": 0,
             "ticks": ""
            },
            "colorscale": [
             [
              0,
              "#0d0887"
             ],
             [
              0.1111111111111111,
              "#46039f"
             ],
             [
              0.2222222222222222,
              "#7201a8"
             ],
             [
              0.3333333333333333,
              "#9c179e"
             ],
             [
              0.4444444444444444,
              "#bd3786"
             ],
             [
              0.5555555555555556,
              "#d8576b"
             ],
             [
              0.6666666666666666,
              "#ed7953"
             ],
             [
              0.7777777777777778,
              "#fb9f3a"
             ],
             [
              0.8888888888888888,
              "#fdca26"
             ],
             [
              1,
              "#f0f921"
             ]
            ],
            "type": "histogram2dcontour"
           }
          ],
          "mesh3d": [
           {
            "colorbar": {
             "outlinewidth": 0,
             "ticks": ""
            },
            "type": "mesh3d"
           }
          ],
          "parcoords": [
           {
            "line": {
             "colorbar": {
              "outlinewidth": 0,
              "ticks": ""
             }
            },
            "type": "parcoords"
           }
          ],
          "pie": [
           {
            "automargin": true,
            "type": "pie"
           }
          ],
          "scatter": [
           {
            "marker": {
             "colorbar": {
              "outlinewidth": 0,
              "ticks": ""
             }
            },
            "type": "scatter"
           }
          ],
          "scatter3d": [
           {
            "line": {
             "colorbar": {
              "outlinewidth": 0,
              "ticks": ""
             }
            },
            "marker": {
             "colorbar": {
              "outlinewidth": 0,
              "ticks": ""
             }
            },
            "type": "scatter3d"
           }
          ],
          "scattercarpet": [
           {
            "marker": {
             "colorbar": {
              "outlinewidth": 0,
              "ticks": ""
             }
            },
            "type": "scattercarpet"
           }
          ],
          "scattergeo": [
           {
            "marker": {
             "colorbar": {
              "outlinewidth": 0,
              "ticks": ""
             }
            },
            "type": "scattergeo"
           }
          ],
          "scattergl": [
           {
            "marker": {
             "colorbar": {
              "outlinewidth": 0,
              "ticks": ""
             }
            },
            "type": "scattergl"
           }
          ],
          "scattermapbox": [
           {
            "marker": {
             "colorbar": {
              "outlinewidth": 0,
              "ticks": ""
             }
            },
            "type": "scattermapbox"
           }
          ],
          "scatterpolar": [
           {
            "marker": {
             "colorbar": {
              "outlinewidth": 0,
              "ticks": ""
             }
            },
            "type": "scatterpolar"
           }
          ],
          "scatterpolargl": [
           {
            "marker": {
             "colorbar": {
              "outlinewidth": 0,
              "ticks": ""
             }
            },
            "type": "scatterpolargl"
           }
          ],
          "scatterternary": [
           {
            "marker": {
             "colorbar": {
              "outlinewidth": 0,
              "ticks": ""
             }
            },
            "type": "scatterternary"
           }
          ],
          "surface": [
           {
            "colorbar": {
             "outlinewidth": 0,
             "ticks": ""
            },
            "colorscale": [
             [
              0,
              "#0d0887"
             ],
             [
              0.1111111111111111,
              "#46039f"
             ],
             [
              0.2222222222222222,
              "#7201a8"
             ],
             [
              0.3333333333333333,
              "#9c179e"
             ],
             [
              0.4444444444444444,
              "#bd3786"
             ],
             [
              0.5555555555555556,
              "#d8576b"
             ],
             [
              0.6666666666666666,
              "#ed7953"
             ],
             [
              0.7777777777777778,
              "#fb9f3a"
             ],
             [
              0.8888888888888888,
              "#fdca26"
             ],
             [
              1,
              "#f0f921"
             ]
            ],
            "type": "surface"
           }
          ],
          "table": [
           {
            "cells": {
             "fill": {
              "color": "#EBF0F8"
             },
             "line": {
              "color": "white"
             }
            },
            "header": {
             "fill": {
              "color": "#C8D4E3"
             },
             "line": {
              "color": "white"
             }
            },
            "type": "table"
           }
          ]
         },
         "layout": {
          "annotationdefaults": {
           "arrowcolor": "#2a3f5f",
           "arrowhead": 0,
           "arrowwidth": 1
          },
          "autotypenumbers": "strict",
          "coloraxis": {
           "colorbar": {
            "outlinewidth": 0,
            "ticks": ""
           }
          },
          "colorscale": {
           "diverging": [
            [
             0,
             "#8e0152"
            ],
            [
             0.1,
             "#c51b7d"
            ],
            [
             0.2,
             "#de77ae"
            ],
            [
             0.3,
             "#f1b6da"
            ],
            [
             0.4,
             "#fde0ef"
            ],
            [
             0.5,
             "#f7f7f7"
            ],
            [
             0.6,
             "#e6f5d0"
            ],
            [
             0.7,
             "#b8e186"
            ],
            [
             0.8,
             "#7fbc41"
            ],
            [
             0.9,
             "#4d9221"
            ],
            [
             1,
             "#276419"
            ]
           ],
           "sequential": [
            [
             0,
             "#0d0887"
            ],
            [
             0.1111111111111111,
             "#46039f"
            ],
            [
             0.2222222222222222,
             "#7201a8"
            ],
            [
             0.3333333333333333,
             "#9c179e"
            ],
            [
             0.4444444444444444,
             "#bd3786"
            ],
            [
             0.5555555555555556,
             "#d8576b"
            ],
            [
             0.6666666666666666,
             "#ed7953"
            ],
            [
             0.7777777777777778,
             "#fb9f3a"
            ],
            [
             0.8888888888888888,
             "#fdca26"
            ],
            [
             1,
             "#f0f921"
            ]
           ],
           "sequentialminus": [
            [
             0,
             "#0d0887"
            ],
            [
             0.1111111111111111,
             "#46039f"
            ],
            [
             0.2222222222222222,
             "#7201a8"
            ],
            [
             0.3333333333333333,
             "#9c179e"
            ],
            [
             0.4444444444444444,
             "#bd3786"
            ],
            [
             0.5555555555555556,
             "#d8576b"
            ],
            [
             0.6666666666666666,
             "#ed7953"
            ],
            [
             0.7777777777777778,
             "#fb9f3a"
            ],
            [
             0.8888888888888888,
             "#fdca26"
            ],
            [
             1,
             "#f0f921"
            ]
           ]
          },
          "colorway": [
           "#636efa",
           "#EF553B",
           "#00cc96",
           "#ab63fa",
           "#FFA15A",
           "#19d3f3",
           "#FF6692",
           "#B6E880",
           "#FF97FF",
           "#FECB52"
          ],
          "font": {
           "color": "#2a3f5f"
          },
          "geo": {
           "bgcolor": "white",
           "lakecolor": "white",
           "landcolor": "#E5ECF6",
           "showlakes": true,
           "showland": true,
           "subunitcolor": "white"
          },
          "hoverlabel": {
           "align": "left"
          },
          "hovermode": "closest",
          "mapbox": {
           "style": "light"
          },
          "paper_bgcolor": "white",
          "plot_bgcolor": "#E5ECF6",
          "polar": {
           "angularaxis": {
            "gridcolor": "white",
            "linecolor": "white",
            "ticks": ""
           },
           "bgcolor": "#E5ECF6",
           "radialaxis": {
            "gridcolor": "white",
            "linecolor": "white",
            "ticks": ""
           }
          },
          "scene": {
           "xaxis": {
            "backgroundcolor": "#E5ECF6",
            "gridcolor": "white",
            "gridwidth": 2,
            "linecolor": "white",
            "showbackground": true,
            "ticks": "",
            "zerolinecolor": "white"
           },
           "yaxis": {
            "backgroundcolor": "#E5ECF6",
            "gridcolor": "white",
            "gridwidth": 2,
            "linecolor": "white",
            "showbackground": true,
            "ticks": "",
            "zerolinecolor": "white"
           },
           "zaxis": {
            "backgroundcolor": "#E5ECF6",
            "gridcolor": "white",
            "gridwidth": 2,
            "linecolor": "white",
            "showbackground": true,
            "ticks": "",
            "zerolinecolor": "white"
           }
          },
          "shapedefaults": {
           "line": {
            "color": "#2a3f5f"
           }
          },
          "ternary": {
           "aaxis": {
            "gridcolor": "white",
            "linecolor": "white",
            "ticks": ""
           },
           "baxis": {
            "gridcolor": "white",
            "linecolor": "white",
            "ticks": ""
           },
           "bgcolor": "#E5ECF6",
           "caxis": {
            "gridcolor": "white",
            "linecolor": "white",
            "ticks": ""
           }
          },
          "title": {
           "x": 0.05
          },
          "xaxis": {
           "automargin": true,
           "gridcolor": "white",
           "linecolor": "white",
           "ticks": "",
           "title": {
            "standoff": 15
           },
           "zerolinecolor": "white",
           "zerolinewidth": 2
          },
          "yaxis": {
           "automargin": true,
           "gridcolor": "white",
           "linecolor": "white",
           "ticks": "",
           "title": {
            "standoff": 15
           },
           "zerolinecolor": "white",
           "zerolinewidth": 2
          }
         }
        }
       }
      },
      "text/html": [
       "<div>                            <div id=\"defb60f3-3908-4a33-b831-3261c0a9c683\" class=\"plotly-graph-div\" style=\"height:525px; width:100%;\"></div>            <script type=\"text/javascript\">                require([\"plotly\"], function(Plotly) {                    window.PLOTLYENV=window.PLOTLYENV || {};                                    if (document.getElementById(\"defb60f3-3908-4a33-b831-3261c0a9c683\")) {                    Plotly.newPlot(                        \"defb60f3-3908-4a33-b831-3261c0a9c683\",                        [{\"hovertemplate\":\"X1=%{x}<br>X2=%{y}<br>X5=%{z}<br>Y=%{marker.color}<extra></extra>\",\"legendgroup\":\"\",\"marker\":{\"color\":[0,1,0,0,1,0,0,0,1,1,1,1,0,0,1,0,0,0,1,0,0,1,0,0,0,1,1,1,0,1,0,0,0,1,1,0,0,1,1,0,1,1,0,1,1,0,1,1,0,1,1,0,0,0,1,0,0,0,1,0,1,0,0,0,0,0,1,0,0,0,0,1,1,1,1,0,0,1,0,1,1,1,1,1,0,0,0,0,1,1,1,0,0,1,1,0,1,0,1,1,1,1,0,1,0,0,1,1,0,0,1,0,0,1,1,0,1,0,0,1,1,1,1,1,1,0,0,1,0,1,0,1,1,0,0,1,1,0,0,0,0,1,1,1,1,0,0,0,1,0,0,1,0,0,1,0,0,0,1,1,0,1,1,0,1,0,0,1,0,1,0,1,0,1,1,1,0,1,1,0,1,1,1,1,0,1,1,0,0,0,0,1,0,0,1,0,1,1,1,1],\"coloraxis\":\"coloraxis\",\"symbol\":\"circle\"},\"mode\":\"markers\",\"name\":\"\",\"scene\":\"scene\",\"showlegend\":false,\"type\":\"scatter3d\",\"x\":[-0.7147918743409184,-0.8407249697481496,-1.15843421851837,0.666726048282665,-0.19979165019033285,-1.097206353397108,-0.8489288334332058,-0.47032783159267716,0.359968252620569,0.28048734574078493,-0.723771751639452,-0.8350092381318741,-0.22743371797641243,0.9169789946909038,0.7477507500665052,-0.8668393910655364,-0.05093687349711269,0.016267440217117485,0.4141552339002072,-0.6080470512656548,0.13381253370666474,-0.9525237372760933,0.39502095330559595,-0.34946670621668535,0.2291822862406152,0.2857819222167082,0.012329096071149528,-0.7076582217405513,-1.2462720138346988,0.18466732757963625,0.9473116602102559,0.7789239334544386,0.39520296079503137,0.7852723710201646,0.6066217505615454,-0.1956423082416477,-0.9165249561031171,-0.6447450782022938,0.6890392022341355,0.14845815413092736,0.6074799055619172,-0.5683486592416681,-0.7123817524396096,-0.09059175884218391,0.7374420077381537,0.3505586418873227,0.7225612599748804,-0.2639102673417914,1.0784429377340559,-0.9105882938146075,0.3859015534285559,0.6069584144056929,-0.5371642783878686,0.17499123621991874,0.6159146183820606,0.04513238866446494,0.6709128453270532,0.9681703761801822,0.01491819233672037,0.46345610943930066,-0.6253283636617172,-0.2450269092883901,-0.31125632895839894,-0.8831693959782427,-1.006143795706533,0.8745776447044316,-0.1626595425772542,1.049274161903209,0.6800548229718386,-0.15264500896643973,0.678918666248428,-0.5762602607731667,-0.8025395569934708,-0.7305338055899125,0.4711956338191361,0.8562464114068089,1.0750943901425425,-0.5734225393888044,-0.7294645393861797,0.8189908376082444,0.6416048340436726,-0.15721107806027054,-0.609755315349669,-0.12245242080116207,0.9662142962694292,-1.0104403817414398,-0.15216541095314312,-0.8947141136975427,0.0708441854671289,0.28225342088644506,-0.37883162714940444,-0.46880537842794834,0.8537385813989401,0.7967504904335635,0.7672640424351687,-1.0278180789474056,0.16717592058311584,0.7614331091685369,0.07653330225327223,0.341599143689313,0.708712858296962,0.6091899003494459,-0.5020996611790081,0.5957926207853068,1.1355431727109453,0.7429617703813687,0.010372660260158477,-0.8049410306620023,1.0761483271454775,-0.9853775923676155,-0.5849374720109832,-0.6863751281387807,0.953313180764686,-0.6567931087064385,-0.8032294002417385,-0.912350008584303,-0.8328126018981693,-0.5972536764623826,0.9042666208997892,-0.2859707918258541,-0.5734737307635187,0.024359935244605863,0.5632926898142175,-0.3596316845211173,-0.47475954983832197,-0.6097817277050321,-0.777977485825467,0.4924229165298315,-0.19162402993917543,0.9442060394832519,-0.8419070104830982,0.48089147858010384,0.8347186614924655,0.9134374968630978,0.12547187276661967,-0.6979890370712656,-0.48334820774464865,0.0763037406643118,0.5323194020971153,-0.7517186563913147,-0.3072931557867567,-0.18252369470241922,-0.7513970977628108,0.364240148538037,-0.20745424322039985,-0.17162369922638152,-0.06357649621700348,-0.42628413281056554,0.09587310033286636,1.0302465122801439,-0.9541790968449552,-0.10746744669951071,-0.8403071696921117,0.7892228399106157,-0.38476179728927373,0.6275305328564632,-0.8929282307183671,-0.9084800502931856,-0.02176901497004135,0.6070570999526601,-1.1869382089310352,-0.689834278684588,0.9678957268619885,0.28591500686416316,0.5119251070047692,0.20018528679250253,0.2054076280977145,0.719922568101092,-0.8010323101416961,0.37235779419440895,0.8890144855367548,-0.575395260776605,-0.8045853013570327,-0.42613526954904873,-0.6716457470220987,0.0626303921988523,0.379862246796175,0.7412065463798032,0.5348190371353134,-0.5742060152026109,-0.22678049596856728,0.746296407394807,-0.4227922087956795,0.7026052007628135,0.501378174400837,-0.7515049567780246,-1.01439229718723,-0.98854834430087,0.5939814086398587,0.09129656041848976,1.0378152271113819,0.5027034139731661,0.8899249715651512,-0.7246361882387391,-0.5797268332795241,0.9296726487000092,0.4901716520609391,0.549443849819392,0.17529667621889933,-0.7419758711287966],\"y\":[0.7445109473838959,0.2511447597851021,-0.08152722248390133,0.7263427920001004,-0.5782707858289179,0.3246251169335448,-0.6523892955559438,-0.8833676372225633,-0.7257269536305825,0.6500014830877701,0.5032723940992858,-0.3740199940060641,1.0130875470569667,-0.2569689980356686,0.06421491483940182,-0.5426710377943841,-0.7638716882989663,-0.8771586944461578,0.7321599332049151,-0.7667377685008794,1.0349240527683186,-0.01713568026891467,-0.8756555315344,-1.0448583128923201,-0.8428323037534079,0.6373690083272548,0.7789050350021288,-0.28739120106419325,0.1536084445533792,-0.8445347092385378,0.35782884799837755,0.08838810972614741,-0.7879886339111305,0.3995466945621323,-0.35555402814950526,-0.8904914726573055,0.5756655110860618,-0.5749707969993668,0.4869391897595581,0.9115701758356964,-0.5763201428575991,0.5225495752440013,-0.8950890831296189,0.8802781692988738,0.18250951364675566,-0.9677491187022922,0.37702100963751645,0.7608926476600918,-0.26555151150551143,0.2936099041436104,0.7197973841873422,-0.8463799860376197,0.8882491305020119,-0.9331680354355746,-0.356373448727198,-0.9188905935947183,0.9503976776597252,-0.20881133480011077,-0.6845683243805507,0.9489136894230935,-0.4217824590633591,0.9614138072694762,1.0248957640536014,-0.3742662580922502,0.37931380789023067,-0.6037788905114683,0.9203179954418285,0.4026396558597132,-0.7246505330831761,-1.1561028578633168,-0.6450312202171377,0.09970149705018491,-0.3314567923615396,-0.3490072846050737,0.43548250659603405,-0.7513861427327351,-0.12032432719185329,0.6500370422645408,0.8685329872685601,0.16308153602663075,-0.0697418531545072,-0.792713673246129,-0.653648293747489,-0.8392032569481384,0.26943056691990536,-0.19219915907331547,0.8559337705799058,-0.34304535820933246,-0.7768594161534106,-0.6390004484661493,-0.9120079016794268,0.8462670871920408,-0.6943076625866748,-0.09375017271955252,-0.44653846837045824,0.017511350795398097,-0.5000189096080618,0.7393987597989934,-0.8721718843184826,-0.5287611859321724,-0.5118999319771932,0.19681026050732797,-1.0732017016024995,0.4423299964066248,0.6757376327810916,0.7984632633803033,0.8241302853064402,-0.049227831709974135,-0.16017433802070397,0.13092184535939955,0.020208153277531043,-0.7121653251123574,-0.39804985194213094,-0.4622069341204427,-0.2336514223374767,0.5664428835145547,0.17411976627093678,-0.8714429590690373,0.633647291027559,-0.807591377107504,0.4830806054838751,-0.8231427024490011,-0.5657851458110308,0.8985646057155633,-0.8370373319923267,-0.8939058926414973,0.7528364849250876,-0.17093194036219855,-0.9943442884348198,0.22786441971144503,0.5779549793905698,-0.2763691594039641,-0.2603539188160977,0.44001891638433077,1.1678961773802585,-0.36444987922069666,0.8285395672495698,1.0272290192171663,-0.8268392650974835,0.7003814487123025,0.9290090131179846,-0.8125300064051377,-0.20974027787154245,0.9010091875827746,0.8455776278740748,-0.953113507521215,1.0078817443189565,0.8614064111413635,0.7909301651830717,-0.010217545798637609,-0.19991271779244713,0.8332004830180978,-0.5304406413346904,0.3836548518493217,-0.7226762319243437,-0.8854148469677116,0.022589252244831076,-0.40766461417708877,-0.8440022225127163,-0.6175767110259989,-0.34016184229154445,-0.32385981394666447,0.4456999791979657,1.0390921872716876,-0.4368415722337384,0.9475930937026409,-0.9116191471157951,-0.10917756134906069,0.47943359468137897,0.7469580939124275,-0.3652495191858507,0.27797021866837734,0.6773078909929566,0.7561293859066194,-0.624460987535149,-0.7442205775269073,0.863319455032258,0.43977476607809396,0.6052708948839876,-0.593478964712947,0.5769823519217476,-0.4737708588883639,0.7473461849040872,0.038060949743738526,0.7945016022750115,-0.3459980304506612,0.3839146218385116,0.16100105435442574,0.8045390105710298,0.9405941564219543,0.6137304087782477,-0.5330173626544858,-0.42275905554392695,-0.6806276051437068,0.5564287725196901,0.00452411335367256,-0.6511800658945313,0.9174752503420878,0.8048123348001065,0.42622664728716375],\"z\":[-0.5321703755478678,-0.21114367057273625,0.09444392426611152,0.48427165940882466,0.11553367455762005,-0.3561807407717644,0.5538320836206183,0.41547238531403485,-0.26123866337804946,0.18231719071886232,-0.3642543422290207,0.3123101502410917,-0.23041026746276963,-0.23563517348547622,0.048016750736619464,0.4704086319505866,0.03890923555491035,-0.014269126622827694,0.3032278683888417,0.466212639230968,0.1384858096948987,0.01632214221051481,-0.345902282834037,0.3651431930696019,-0.19316223429165066,0.18214854036111996,0.009603195006843332,0.2033747462889682,-0.19143790553555554,-0.1559579678033259,0.33897544006846636,0.06884761409849326,-0.3114154411945108,0.31375298017207515,-0.21568680697526188,0.17421780718017935,-0.5276118072782313,0.37070959147539195,0.33552019084846224,0.1353300256653724,-0.35010290595656496,-0.29699035047723127,0.6376451296294412,-0.07974594762716272,0.13459018217497745,-0.339252816739929,0.2724207757606854,-0.2008073820623783,-0.28638215218772267,-0.26735774166120063,0.27777092871170644,-0.5137174543101061,-0.477135703214765,-0.16329622812178413,-0.219495616674311,-0.04147172741023772,0.6376340101109097,-0.20216494856410921,-0.010212521930735437,0.4397798466937198,0.26375253494730555,-0.23557225374242372,-0.3190052930843374,0.3305405050943697,-0.3816442344345753,-0.5280515199857748,-0.14969850416418334,0.42247938745119706,-0.4928020899923278,0.1764733311046726,-0.43792373571841514,-0.05745401068961467,0.2660071873043068,0.2549616198011462,0.20519745571266437,-0.6433716882957087,-0.12936000916163726,-0.37274589147212056,-0.6335640154995629,0.1335622837888894,-0.044746710119095784,0.12462337116414098,0.3985655214817732,0.10276247035751918,0.2603276656099897,0.1942057916644246,-0.1302435139489647,0.30692752362831893,-0.05503597255985769,-0.1803600625275432,0.3454974373663313,-0.3967345620621822,-0.5927572389111616,-0.07469549609253476,-0.34261291034472646,-0.017998482934300196,-0.08359112152269352,0.5630026965891077,-0.06675019443935241,-0.18062436833057569,-0.362790063953577,0.11989482298620761,0.5388542107513499,0.26353694781105835,0.7673292554484243,0.5932276797455152,0.008548423459591179,0.03962550159388218,-0.17237134591261483,-0.1290074527685704,-0.011820506092169473,0.4888125662799907,-0.3794661704578652,0.30357432912663757,0.18767569182976057,-0.5167941696370214,-0.14500913558999995,0.5204725111312402,0.5729860946997961,0.23094754558316485,-0.2770340370863374,-0.02005170292872754,-0.3187026366408248,-0.32315230280454166,0.3973914669345471,0.5450874796206412,-0.5856898357797017,-0.08417080460125703,0.19054025969688201,0.21515096127489294,-0.4865843488925353,-0.1329035736997127,-0.21732227462849113,0.40192977755451587,0.14653812057287727,0.2543820202579931,-0.40047311487560633,0.07838141668520202,-0.4401425832271106,-0.5264898015874145,-0.28547811139536594,0.14830597882564608,0.1575982360766425,0.32818372031928583,-0.17541866687471705,0.16357686594342252,-0.06407758990488101,-0.36720388497085765,0.0758289270828872,-0.010526590923109034,0.1907525365110176,-0.089541928498754,0.44573307400962225,0.3027891717220082,0.2780582058534505,-0.5556248507166719,-0.020170581040227915,0.3703551691903537,0.01837309701662749,-0.3749043271937449,0.403751087836207,0.22340960114882216,0.4313911053281882,0.29709204985628285,-0.22363016860988813,0.18969419522545788,-0.1872535267375169,-0.0785993903454303,-0.3840417999071626,0.27813566820489166,-0.3247121133915561,-0.1599427464588209,-0.5449519735860643,-0.3222133996772739,0.4194165664592026,-0.04661082665296657,0.3279424678914029,0.32596393554972986,0.32371039720788375,0.3407791914343923,-0.13084834393392436,-0.35357348991673804,-0.31597214425062337,0.026741821235922763,0.39834576290718515,0.2600192349191058,-0.38944003517053444,-0.15915732571276195,0.4778812148046985,0.08587301123105535,0.6369387635713584,-0.2679496479133832,-0.37622384048383933,0.4932073934013973,-0.32257669023845265,0.00420594444452785,-0.3191900086886736,0.5041011336619672,0.14108092727043067,-0.31624988791919967]}],                        {\"coloraxis\":{\"colorbar\":{\"title\":{\"text\":\"Y\"}},\"colorscale\":[[0.0,\"#0d0887\"],[0.1111111111111111,\"#46039f\"],[0.2222222222222222,\"#7201a8\"],[0.3333333333333333,\"#9c179e\"],[0.4444444444444444,\"#bd3786\"],[0.5555555555555556,\"#d8576b\"],[0.6666666666666666,\"#ed7953\"],[0.7777777777777778,\"#fb9f3a\"],[0.8888888888888888,\"#fdca26\"],[1.0,\"#f0f921\"]]},\"legend\":{\"tracegroupgap\":0},\"margin\":{\"t\":60},\"scene\":{\"domain\":{\"x\":[0.0,1.0],\"y\":[0.0,1.0]},\"xaxis\":{\"title\":{\"text\":\"X1\"}},\"yaxis\":{\"title\":{\"text\":\"X2\"}},\"zaxis\":{\"title\":{\"text\":\"X5\"}}},\"template\":{\"data\":{\"bar\":[{\"error_x\":{\"color\":\"#2a3f5f\"},\"error_y\":{\"color\":\"#2a3f5f\"},\"marker\":{\"line\":{\"color\":\"#E5ECF6\",\"width\":0.5},\"pattern\":{\"fillmode\":\"overlay\",\"size\":10,\"solidity\":0.2}},\"type\":\"bar\"}],\"barpolar\":[{\"marker\":{\"line\":{\"color\":\"#E5ECF6\",\"width\":0.5},\"pattern\":{\"fillmode\":\"overlay\",\"size\":10,\"solidity\":0.2}},\"type\":\"barpolar\"}],\"carpet\":[{\"aaxis\":{\"endlinecolor\":\"#2a3f5f\",\"gridcolor\":\"white\",\"linecolor\":\"white\",\"minorgridcolor\":\"white\",\"startlinecolor\":\"#2a3f5f\"},\"baxis\":{\"endlinecolor\":\"#2a3f5f\",\"gridcolor\":\"white\",\"linecolor\":\"white\",\"minorgridcolor\":\"white\",\"startlinecolor\":\"#2a3f5f\"},\"type\":\"carpet\"}],\"choropleth\":[{\"colorbar\":{\"outlinewidth\":0,\"ticks\":\"\"},\"type\":\"choropleth\"}],\"contour\":[{\"colorbar\":{\"outlinewidth\":0,\"ticks\":\"\"},\"colorscale\":[[0.0,\"#0d0887\"],[0.1111111111111111,\"#46039f\"],[0.2222222222222222,\"#7201a8\"],[0.3333333333333333,\"#9c179e\"],[0.4444444444444444,\"#bd3786\"],[0.5555555555555556,\"#d8576b\"],[0.6666666666666666,\"#ed7953\"],[0.7777777777777778,\"#fb9f3a\"],[0.8888888888888888,\"#fdca26\"],[1.0,\"#f0f921\"]],\"type\":\"contour\"}],\"contourcarpet\":[{\"colorbar\":{\"outlinewidth\":0,\"ticks\":\"\"},\"type\":\"contourcarpet\"}],\"heatmap\":[{\"colorbar\":{\"outlinewidth\":0,\"ticks\":\"\"},\"colorscale\":[[0.0,\"#0d0887\"],[0.1111111111111111,\"#46039f\"],[0.2222222222222222,\"#7201a8\"],[0.3333333333333333,\"#9c179e\"],[0.4444444444444444,\"#bd3786\"],[0.5555555555555556,\"#d8576b\"],[0.6666666666666666,\"#ed7953\"],[0.7777777777777778,\"#fb9f3a\"],[0.8888888888888888,\"#fdca26\"],[1.0,\"#f0f921\"]],\"type\":\"heatmap\"}],\"heatmapgl\":[{\"colorbar\":{\"outlinewidth\":0,\"ticks\":\"\"},\"colorscale\":[[0.0,\"#0d0887\"],[0.1111111111111111,\"#46039f\"],[0.2222222222222222,\"#7201a8\"],[0.3333333333333333,\"#9c179e\"],[0.4444444444444444,\"#bd3786\"],[0.5555555555555556,\"#d8576b\"],[0.6666666666666666,\"#ed7953\"],[0.7777777777777778,\"#fb9f3a\"],[0.8888888888888888,\"#fdca26\"],[1.0,\"#f0f921\"]],\"type\":\"heatmapgl\"}],\"histogram\":[{\"marker\":{\"pattern\":{\"fillmode\":\"overlay\",\"size\":10,\"solidity\":0.2}},\"type\":\"histogram\"}],\"histogram2d\":[{\"colorbar\":{\"outlinewidth\":0,\"ticks\":\"\"},\"colorscale\":[[0.0,\"#0d0887\"],[0.1111111111111111,\"#46039f\"],[0.2222222222222222,\"#7201a8\"],[0.3333333333333333,\"#9c179e\"],[0.4444444444444444,\"#bd3786\"],[0.5555555555555556,\"#d8576b\"],[0.6666666666666666,\"#ed7953\"],[0.7777777777777778,\"#fb9f3a\"],[0.8888888888888888,\"#fdca26\"],[1.0,\"#f0f921\"]],\"type\":\"histogram2d\"}],\"histogram2dcontour\":[{\"colorbar\":{\"outlinewidth\":0,\"ticks\":\"\"},\"colorscale\":[[0.0,\"#0d0887\"],[0.1111111111111111,\"#46039f\"],[0.2222222222222222,\"#7201a8\"],[0.3333333333333333,\"#9c179e\"],[0.4444444444444444,\"#bd3786\"],[0.5555555555555556,\"#d8576b\"],[0.6666666666666666,\"#ed7953\"],[0.7777777777777778,\"#fb9f3a\"],[0.8888888888888888,\"#fdca26\"],[1.0,\"#f0f921\"]],\"type\":\"histogram2dcontour\"}],\"mesh3d\":[{\"colorbar\":{\"outlinewidth\":0,\"ticks\":\"\"},\"type\":\"mesh3d\"}],\"parcoords\":[{\"line\":{\"colorbar\":{\"outlinewidth\":0,\"ticks\":\"\"}},\"type\":\"parcoords\"}],\"pie\":[{\"automargin\":true,\"type\":\"pie\"}],\"scatter\":[{\"marker\":{\"colorbar\":{\"outlinewidth\":0,\"ticks\":\"\"}},\"type\":\"scatter\"}],\"scatter3d\":[{\"line\":{\"colorbar\":{\"outlinewidth\":0,\"ticks\":\"\"}},\"marker\":{\"colorbar\":{\"outlinewidth\":0,\"ticks\":\"\"}},\"type\":\"scatter3d\"}],\"scattercarpet\":[{\"marker\":{\"colorbar\":{\"outlinewidth\":0,\"ticks\":\"\"}},\"type\":\"scattercarpet\"}],\"scattergeo\":[{\"marker\":{\"colorbar\":{\"outlinewidth\":0,\"ticks\":\"\"}},\"type\":\"scattergeo\"}],\"scattergl\":[{\"marker\":{\"colorbar\":{\"outlinewidth\":0,\"ticks\":\"\"}},\"type\":\"scattergl\"}],\"scattermapbox\":[{\"marker\":{\"colorbar\":{\"outlinewidth\":0,\"ticks\":\"\"}},\"type\":\"scattermapbox\"}],\"scatterpolar\":[{\"marker\":{\"colorbar\":{\"outlinewidth\":0,\"ticks\":\"\"}},\"type\":\"scatterpolar\"}],\"scatterpolargl\":[{\"marker\":{\"colorbar\":{\"outlinewidth\":0,\"ticks\":\"\"}},\"type\":\"scatterpolargl\"}],\"scatterternary\":[{\"marker\":{\"colorbar\":{\"outlinewidth\":0,\"ticks\":\"\"}},\"type\":\"scatterternary\"}],\"surface\":[{\"colorbar\":{\"outlinewidth\":0,\"ticks\":\"\"},\"colorscale\":[[0.0,\"#0d0887\"],[0.1111111111111111,\"#46039f\"],[0.2222222222222222,\"#7201a8\"],[0.3333333333333333,\"#9c179e\"],[0.4444444444444444,\"#bd3786\"],[0.5555555555555556,\"#d8576b\"],[0.6666666666666666,\"#ed7953\"],[0.7777777777777778,\"#fb9f3a\"],[0.8888888888888888,\"#fdca26\"],[1.0,\"#f0f921\"]],\"type\":\"surface\"}],\"table\":[{\"cells\":{\"fill\":{\"color\":\"#EBF0F8\"},\"line\":{\"color\":\"white\"}},\"header\":{\"fill\":{\"color\":\"#C8D4E3\"},\"line\":{\"color\":\"white\"}},\"type\":\"table\"}]},\"layout\":{\"annotationdefaults\":{\"arrowcolor\":\"#2a3f5f\",\"arrowhead\":0,\"arrowwidth\":1},\"autotypenumbers\":\"strict\",\"coloraxis\":{\"colorbar\":{\"outlinewidth\":0,\"ticks\":\"\"}},\"colorscale\":{\"diverging\":[[0,\"#8e0152\"],[0.1,\"#c51b7d\"],[0.2,\"#de77ae\"],[0.3,\"#f1b6da\"],[0.4,\"#fde0ef\"],[0.5,\"#f7f7f7\"],[0.6,\"#e6f5d0\"],[0.7,\"#b8e186\"],[0.8,\"#7fbc41\"],[0.9,\"#4d9221\"],[1,\"#276419\"]],\"sequential\":[[0.0,\"#0d0887\"],[0.1111111111111111,\"#46039f\"],[0.2222222222222222,\"#7201a8\"],[0.3333333333333333,\"#9c179e\"],[0.4444444444444444,\"#bd3786\"],[0.5555555555555556,\"#d8576b\"],[0.6666666666666666,\"#ed7953\"],[0.7777777777777778,\"#fb9f3a\"],[0.8888888888888888,\"#fdca26\"],[1.0,\"#f0f921\"]],\"sequentialminus\":[[0.0,\"#0d0887\"],[0.1111111111111111,\"#46039f\"],[0.2222222222222222,\"#7201a8\"],[0.3333333333333333,\"#9c179e\"],[0.4444444444444444,\"#bd3786\"],[0.5555555555555556,\"#d8576b\"],[0.6666666666666666,\"#ed7953\"],[0.7777777777777778,\"#fb9f3a\"],[0.8888888888888888,\"#fdca26\"],[1.0,\"#f0f921\"]]},\"colorway\":[\"#636efa\",\"#EF553B\",\"#00cc96\",\"#ab63fa\",\"#FFA15A\",\"#19d3f3\",\"#FF6692\",\"#B6E880\",\"#FF97FF\",\"#FECB52\"],\"font\":{\"color\":\"#2a3f5f\"},\"geo\":{\"bgcolor\":\"white\",\"lakecolor\":\"white\",\"landcolor\":\"#E5ECF6\",\"showlakes\":true,\"showland\":true,\"subunitcolor\":\"white\"},\"hoverlabel\":{\"align\":\"left\"},\"hovermode\":\"closest\",\"mapbox\":{\"style\":\"light\"},\"paper_bgcolor\":\"white\",\"plot_bgcolor\":\"#E5ECF6\",\"polar\":{\"angularaxis\":{\"gridcolor\":\"white\",\"linecolor\":\"white\",\"ticks\":\"\"},\"bgcolor\":\"#E5ECF6\",\"radialaxis\":{\"gridcolor\":\"white\",\"linecolor\":\"white\",\"ticks\":\"\"}},\"scene\":{\"xaxis\":{\"backgroundcolor\":\"#E5ECF6\",\"gridcolor\":\"white\",\"gridwidth\":2,\"linecolor\":\"white\",\"showbackground\":true,\"ticks\":\"\",\"zerolinecolor\":\"white\"},\"yaxis\":{\"backgroundcolor\":\"#E5ECF6\",\"gridcolor\":\"white\",\"gridwidth\":2,\"linecolor\":\"white\",\"showbackground\":true,\"ticks\":\"\",\"zerolinecolor\":\"white\"},\"zaxis\":{\"backgroundcolor\":\"#E5ECF6\",\"gridcolor\":\"white\",\"gridwidth\":2,\"linecolor\":\"white\",\"showbackground\":true,\"ticks\":\"\",\"zerolinecolor\":\"white\"}},\"shapedefaults\":{\"line\":{\"color\":\"#2a3f5f\"}},\"ternary\":{\"aaxis\":{\"gridcolor\":\"white\",\"linecolor\":\"white\",\"ticks\":\"\"},\"baxis\":{\"gridcolor\":\"white\",\"linecolor\":\"white\",\"ticks\":\"\"},\"bgcolor\":\"#E5ECF6\",\"caxis\":{\"gridcolor\":\"white\",\"linecolor\":\"white\",\"ticks\":\"\"}},\"title\":{\"x\":0.05},\"xaxis\":{\"automargin\":true,\"gridcolor\":\"white\",\"linecolor\":\"white\",\"ticks\":\"\",\"title\":{\"standoff\":15},\"zerolinecolor\":\"white\",\"zerolinewidth\":2},\"yaxis\":{\"automargin\":true,\"gridcolor\":\"white\",\"linecolor\":\"white\",\"ticks\":\"\",\"title\":{\"standoff\":15},\"zerolinecolor\":\"white\",\"zerolinewidth\":2}}}},                        {\"responsive\": true}                    ).then(function(){\n",
       "                            \n",
       "var gd = document.getElementById('defb60f3-3908-4a33-b831-3261c0a9c683');\n",
       "var x = new MutationObserver(function (mutations, observer) {{\n",
       "        var display = window.getComputedStyle(gd).display;\n",
       "        if (!display || display === 'none') {{\n",
       "            console.log([gd, 'removed!']);\n",
       "            Plotly.purge(gd);\n",
       "            observer.disconnect();\n",
       "        }}\n",
       "}});\n",
       "\n",
       "// Listen for the removal of the full notebook cells\n",
       "var notebookContainer = gd.closest('#notebook-container');\n",
       "if (notebookContainer) {{\n",
       "    x.observe(notebookContainer, {childList: true});\n",
       "}}\n",
       "\n",
       "// Listen for the clearing of the current output cell\n",
       "var outputEl = gd.closest('.output');\n",
       "if (outputEl) {{\n",
       "    x.observe(outputEl, {childList: true});\n",
       "}}\n",
       "\n",
       "                        })                };                });            </script>        </div>"
      ]
     },
     "metadata": {},
     "output_type": "display_data"
    }
   ],
   "source": [
    "fig = px.scatter_3d(df,x='X1',y='X2',z='X5',color='Y')\n",
    "fig.show()"
   ]
  },
  {
   "cell_type": "code",
   "execution_count": 54,
   "id": "1652bce7",
   "metadata": {},
   "outputs": [
    {
     "data": {
      "application/vnd.plotly.v1+json": {
       "config": {
        "plotlyServerURL": "https://plotly.com"
       },
       "data": [
        {
         "hovertemplate": "X3=%{x}<br>X4=%{y}<br>X5=%{z}<br>Y=%{marker.color}<extra></extra>",
         "legendgroup": "",
         "marker": {
          "color": [
           0,
           1,
           0,
           0,
           1,
           0,
           0,
           0,
           1,
           1,
           1,
           1,
           0,
           0,
           1,
           0,
           0,
           0,
           1,
           0,
           0,
           1,
           0,
           0,
           0,
           1,
           1,
           1,
           0,
           1,
           0,
           0,
           0,
           1,
           1,
           0,
           0,
           1,
           1,
           0,
           1,
           1,
           0,
           1,
           1,
           0,
           1,
           1,
           0,
           1,
           1,
           0,
           0,
           0,
           1,
           0,
           0,
           0,
           1,
           0,
           1,
           0,
           0,
           0,
           0,
           0,
           1,
           0,
           0,
           0,
           0,
           1,
           1,
           1,
           1,
           0,
           0,
           1,
           0,
           1,
           1,
           1,
           1,
           1,
           0,
           0,
           0,
           0,
           1,
           1,
           1,
           0,
           0,
           1,
           1,
           0,
           1,
           0,
           1,
           1,
           1,
           1,
           0,
           1,
           0,
           0,
           1,
           1,
           0,
           0,
           1,
           0,
           0,
           1,
           1,
           0,
           1,
           0,
           0,
           1,
           1,
           1,
           1,
           1,
           1,
           0,
           0,
           1,
           0,
           1,
           0,
           1,
           1,
           0,
           0,
           1,
           1,
           0,
           0,
           0,
           0,
           1,
           1,
           1,
           1,
           0,
           0,
           0,
           1,
           0,
           0,
           1,
           0,
           0,
           1,
           0,
           0,
           0,
           1,
           1,
           0,
           1,
           1,
           0,
           1,
           0,
           0,
           1,
           0,
           1,
           0,
           1,
           0,
           1,
           1,
           1,
           0,
           1,
           1,
           0,
           1,
           1,
           1,
           1,
           0,
           1,
           1,
           0,
           0,
           0,
           0,
           1,
           0,
           0,
           1,
           0,
           1,
           1,
           1,
           1
          ],
          "coloraxis": "coloraxis",
          "symbol": "circle"
         },
         "mode": "markers",
         "name": "",
         "scene": "scene",
         "showlegend": false,
         "type": "scatter3d",
         "x": [
          0.5109274236238033,
          0.7068184747580271,
          1.3419698386342667,
          0.44452362345861857,
          0.03991670348577633,
          1.2038617819349793,
          0.7206801642342636,
          0.22120826917066969,
          0.12957714289470576,
          0.07867315112071062,
          0.5238455484712405,
          0.6972404277655728,
          0.05172609607257431,
          0.8408504767043407,
          0.5591311842250211,
          0.7514105299028699,
          0.0025945650816608613,
          0.00026462961121749134,
          0.17152455776693534,
          0.3697212165528579,
          0.017905794176997288,
          0.907301470074416,
          0.15604155355046181,
          0.12212697875393907,
          0.05252452032647528,
          0.08167130706587664,
          0.00015200660993163473,
          0.5007801587969992,
          1.5531939324675956,
          0.03410202187540468,
          0.8973993815703114,
          0.6067224941081346,
          0.1561853802211591,
          0.616652696687631,
          0.3679899482543538,
          0.03827591277411989,
          0.8400179951598208,
          0.4156962158660819,
          0.47477502221545387,
          0.022039823527962184,
          0.3690318356615159,
          0.32302019846180174,
          0.5074877612089291,
          0.008206866770120407,
          0.5438207147768792,
          0.12289136140188417,
          0.5220947744164867,
          0.06964862920841582,
          1.1630391699484608,
          0.829171040832198,
          0.1489200089385726,
          0.3683985168178728,
          0.2885454619759596,
          0.0306219327537754,
          0.37935081713671936,
          0.002036932506560323,
          0.4501240460248424,
          0.9373538773128756,
          0.0002225524625953824,
          0.21479156537661304,
          0.39103556239984083,
          0.06003818627542095,
          0.09688050231665905,
          0.7799881819925741,
          1.0123253376387493,
          0.7648860566167509,
          0.026458126791441574,
          1.100976266837682,
          0.46247456224725875,
          0.023300498762364466,
          0.4609305553805444,
          0.33207588814635813,
          0.6440697405392763,
          0.5336796411096801,
          0.2220253253302174,
          0.7331579170470383,
          1.1558279477159654,
          0.3288134086791049,
          0.5321185142218914,
          0.6707459920862537,
          0.4116567630682087,
          0.024715323064872476,
          0.37180154459717424,
          0.01499459536006487,
          0.9335700663154284,
          1.0209897650537867,
          0.02315431229053893,
          0.8005133452495794,
          0.005018898614500957,
          0.0796669936021007,
          0.1435134017286654,
          0.21977848284297186,
          0.7288695653690747,
          0.6348113440061239,
          0.5886941108139563,
          1.0564100034111354,
          0.027947788422812255,
          0.5797803797380651,
          0.005857346353790724,
          0.1166899749692719,
          0.5022739155154496,
          0.3711123346877678,
          0.2521040697560747,
          0.3549688469822244,
          1.2894582970904398,
          0.5519921922482176,
          0.00010759208087267093,
          0.6479300628432065,
          1.1580952220180096,
          0.9709689995401986,
          0.3421518461625998,
          0.47111081652752756,
          0.9088060206196829,
          0.4313771876442675,
          0.6451774694127029,
          0.8323825381637778,
          0.6935768298803986,
          0.3567119540478324,
          0.817698121673523,
          0.08177929377750599,
          0.32887211987582876,
          0.0005934064451213909,
          0.3172986543981363,
          0.12933494851149646,
          0.22539663016268613,
          0.37183375544293396,
          0.6052489684513147,
          0.2424803287237454,
          0.03671976885013,
          0.8915250449966482,
          0.7088074143005877,
          0.23125661417095847,
          0.6967552438437733,
          0.8343680606755218,
          0.015743190855562795,
          0.4871886958716726,
          0.23362548992996404,
          0.0058222608393665495,
          0.2833639458490303,
          0.5650809383667635,
          0.09442908359338392,
          0.033314899127821936,
          0.5645975985263751,
          0.13267088580701125,
          0.04303726303014881,
          0.02945469413614747,
          0.004041970871230658,
          0.18171816188605588,
          0.00919165136743586,
          1.0614078760654007,
          0.9104577488558543,
          0.011549252100112175,
          0.7061161394359674,
          0.6228726910365774,
          0.14804164065327216,
          0.3937945696671166,
          0.7973208252138335,
          0.825336001780709,
          0.00047389001276588436,
          0.368518322602934,
          1.4088223118204137,
          0.47587133204828586,
          0.9368221380776971,
          0.08174739115013446,
          0.26206731518184445,
          0.040074149048196485,
          0.04219229368072899,
          0.5182885040612715,
          0.6416527618909423,
          0.13865032689732582,
          0.7903467554941808,
          0.33107970612417725,
          0.647357507159787,
          0.18159126795364042,
          0.45110800949287294,
          0.0039225660269820595,
          0.14429532654103813,
          0.5493871443962753,
          0.28603140248234377,
          0.32971254789486104,
          0.05142939335174936,
          0.5569583276903957,
          0.17875325181832946,
          0.4936540681389535,
          0.25138007376551613,
          0.5647597000619407,
          1.0289917325927853,
          0.9772278290199915,
          0.3528139138097908,
          0.008335061944246951,
          1.0770604456242492,
          0.2527107224202764,
          0.7919664550152351,
          0.5250976053051694,
          0.3360832012243052,
          0.8642912337408908,
          0.24026824848415035,
          0.30188854410435456,
          0.030728924693393625,
          0.5505281933373366
         ],
         "y": [
          0.5542965507744662,
          0.06307369036751663,
          0.006646688005939547,
          0.5275738514905012,
          0.3343971017431942,
          0.10538146654411763,
          0.4256117929559806,
          0.7803383824921741,
          0.5266796112259257,
          0.42250192801630065,
          0.2532831026624269,
          0.13989095591629624,
          1.0263463780019018,
          0.06603306595145544,
          0.004123555287831628,
          0.2944918552608338,
          0.5834999561847132,
          0.769407375242488,
          0.5360581677906258,
          0.587886805645708,
          1.0710677949984013,
          0.0002936315382784715,
          0.7667726099067926,
          1.0917288940201855,
          0.7103662922502768,
          0.40623925277606826,
          0.6066930535516675,
          0.08259370244911955,
          0.02359555423810857,
          0.7132388751086216,
          0.12804148445984598,
          0.007812457940961475,
          0.6209260871731297,
          0.15963756113552585,
          0.12641866693333917,
          0.7929750628753768,
          0.3313907806539767,
          0.3305914174020871,
          0.23710977452369492,
          0.8309601854731226,
          0.3321449070634035,
          0.2730580585876861,
          0.8011844667378217,
          0.7748896553441768,
          0.033309722571575294,
          0.9365383567490632,
          0.14214484170809227,
          0.5789576212631846,
          0.07051760526286177,
          0.08620677581122008,
          0.5181082742829403,
          0.7163590807650413,
          0.7889865178375802,
          0.8708025823586898,
          0.12700203495771684,
          0.8443599229968537,
          0.9032557457009989,
          0.04360217354100395,
          0.4686337907451949,
          0.9004371899745471,
          0.1779004427735342,
          0.9243165088083896,
          1.0504113271750153,
          0.14007523194637486,
          0.14387896485618681,
          0.36454894862725956,
          0.8469852127340654,
          0.16211869247082825,
          0.5251183950977313,
          1.3365738179597284,
          0.41606527505480956,
          0.009940388514048031,
          0.10986360520260076,
          0.1218060847074069,
          0.18964501355116484,
          0.5645811354907782,
          0.014477943714172166,
          0.42254815631603243,
          0.7543495499736488,
          0.026595587392805264,
          0.004863926081424846,
          0.6283949677513705,
          0.42725609191900366,
          0.7042621064723631,
          0.0725928303907816,
          0.036940516748489624,
          0.7326226196191349,
          0.11768011778896922,
          0.603510552466218,
          0.40832157313994,
          0.831758412725711,
          0.7161679828645012,
          0.4820631303265718,
          0.00878909488494593,
          0.19939660373463475,
          0.00030664740667948957,
          0.25001890996563514,
          0.5467105259922895,
          0.7606837957956526,
          0.27958839174839734,
          0.262041540358255,
          0.0387342786409623,
          1.1517618923225004,
          0.1956558257210847,
          0.45662134835659335,
          0.6375435829679236,
          0.6791907271592744,
          0.002423379414865535,
          0.025655818560370733,
          0.01714052959231053,
          0.00040836945888818863,
          0.5071794502923898,
          0.15844368463115235,
          0.21363524994901928,
          0.05459298716032591,
          0.3208575402842834,
          0.030317693006245653,
          0.7594128309109999,
          0.40150888942656404,
          0.6522038323783946,
          0.23336687139466739,
          0.6775639085950448,
          0.32011283122040934,
          0.8074183506447657,
          0.7006314951488325,
          0.7990677448991922,
          0.5667627730343616,
          0.029217728235986205,
          0.9887205639429482,
          0.051922193770433576,
          0.334031958202354,
          0.07637991226965372,
          0.06778416304289919,
          0.19361664677604068,
          1.3639814811394202,
          0.1328237144639804,
          0.6864778144981044,
          1.0551994579218613,
          0.6836631703069466,
          0.4905341737003436,
          0.8630577464544517,
          0.6602050113087331,
          0.043990984161631844,
          0.8118175561085715,
          0.7150015247611472,
          0.9084253582193933,
          1.0158256105314223,
          0.7420210051554438,
          0.6255705261965211,
          0.00010439824214725705,
          0.039965094735162604,
          0.6942230449015915,
          0.28136727397955763,
          0.14719104534752497,
          0.5222609361883678,
          0.7839594512308561,
          0.0005102743169806058,
          0.16619043765215463,
          0.7123397516064046,
          0.38140099400169014,
          0.11571007895117756,
          0.10488517908956813,
          0.19864847145706707,
          1.07971257364906,
          0.19083055923164446,
          0.897932671232942,
          0.8310494693881296,
          0.011919739902127911,
          0.22985657170910878,
          0.5579463940612869,
          0.13340721126549512,
          0.07726744246654552,
          0.4587459792013268,
          0.5717316482315213,
          0.38995152495337354,
          0.5538642680144834,
          0.745320481437195,
          0.19340184487904227,
          0.3663528561936631,
          0.3522172815567514,
          0.3329086344291514,
          0.22445882673181802,
          0.5585263200906941,
          0.0014486358953953898,
          0.6312327960175607,
          0.11971463707573667,
          0.14739043686140738,
          0.025921339503236752,
          0.6472830195306116,
          0.8847173670951278,
          0.376665014659115,
          0.28410750889114367,
          0.17872521904439312,
          0.4632539368836576,
          0.30961297888776906,
          2.0467601636878374e-05,
          0.4240354782184061,
          0.8417608349902767,
          0.6477228942463987,
          0.1816691548576563
         ],
         "z": [
          -0.5321703755478678,
          -0.21114367057273625,
          0.09444392426611152,
          0.48427165940882466,
          0.11553367455762005,
          -0.3561807407717644,
          0.5538320836206183,
          0.41547238531403485,
          -0.26123866337804946,
          0.18231719071886232,
          -0.3642543422290207,
          0.3123101502410917,
          -0.23041026746276963,
          -0.23563517348547622,
          0.048016750736619464,
          0.4704086319505866,
          0.03890923555491035,
          -0.014269126622827694,
          0.3032278683888417,
          0.466212639230968,
          0.1384858096948987,
          0.01632214221051481,
          -0.345902282834037,
          0.3651431930696019,
          -0.19316223429165066,
          0.18214854036111996,
          0.009603195006843332,
          0.2033747462889682,
          -0.19143790553555554,
          -0.1559579678033259,
          0.33897544006846636,
          0.06884761409849326,
          -0.3114154411945108,
          0.31375298017207515,
          -0.21568680697526188,
          0.17421780718017935,
          -0.5276118072782313,
          0.37070959147539195,
          0.33552019084846224,
          0.1353300256653724,
          -0.35010290595656496,
          -0.29699035047723127,
          0.6376451296294412,
          -0.07974594762716272,
          0.13459018217497745,
          -0.339252816739929,
          0.2724207757606854,
          -0.2008073820623783,
          -0.28638215218772267,
          -0.26735774166120063,
          0.27777092871170644,
          -0.5137174543101061,
          -0.477135703214765,
          -0.16329622812178413,
          -0.219495616674311,
          -0.04147172741023772,
          0.6376340101109097,
          -0.20216494856410921,
          -0.010212521930735437,
          0.4397798466937198,
          0.26375253494730555,
          -0.23557225374242372,
          -0.3190052930843374,
          0.3305405050943697,
          -0.3816442344345753,
          -0.5280515199857748,
          -0.14969850416418334,
          0.42247938745119706,
          -0.4928020899923278,
          0.1764733311046726,
          -0.43792373571841514,
          -0.05745401068961467,
          0.2660071873043068,
          0.2549616198011462,
          0.20519745571266437,
          -0.6433716882957087,
          -0.12936000916163726,
          -0.37274589147212056,
          -0.6335640154995629,
          0.1335622837888894,
          -0.044746710119095784,
          0.12462337116414098,
          0.3985655214817732,
          0.10276247035751918,
          0.2603276656099897,
          0.1942057916644246,
          -0.1302435139489647,
          0.30692752362831893,
          -0.05503597255985769,
          -0.1803600625275432,
          0.3454974373663313,
          -0.3967345620621822,
          -0.5927572389111616,
          -0.07469549609253476,
          -0.34261291034472646,
          -0.017998482934300196,
          -0.08359112152269352,
          0.5630026965891077,
          -0.06675019443935241,
          -0.18062436833057569,
          -0.362790063953577,
          0.11989482298620761,
          0.5388542107513499,
          0.26353694781105835,
          0.7673292554484243,
          0.5932276797455152,
          0.008548423459591179,
          0.03962550159388218,
          -0.17237134591261483,
          -0.1290074527685704,
          -0.011820506092169473,
          0.4888125662799907,
          -0.3794661704578652,
          0.30357432912663757,
          0.18767569182976057,
          -0.5167941696370214,
          -0.14500913558999995,
          0.5204725111312402,
          0.5729860946997961,
          0.23094754558316485,
          -0.2770340370863374,
          -0.02005170292872754,
          -0.3187026366408248,
          -0.32315230280454166,
          0.3973914669345471,
          0.5450874796206412,
          -0.5856898357797017,
          -0.08417080460125703,
          0.19054025969688201,
          0.21515096127489294,
          -0.4865843488925353,
          -0.1329035736997127,
          -0.21732227462849113,
          0.40192977755451587,
          0.14653812057287727,
          0.2543820202579931,
          -0.40047311487560633,
          0.07838141668520202,
          -0.4401425832271106,
          -0.5264898015874145,
          -0.28547811139536594,
          0.14830597882564608,
          0.1575982360766425,
          0.32818372031928583,
          -0.17541866687471705,
          0.16357686594342252,
          -0.06407758990488101,
          -0.36720388497085765,
          0.0758289270828872,
          -0.010526590923109034,
          0.1907525365110176,
          -0.089541928498754,
          0.44573307400962225,
          0.3027891717220082,
          0.2780582058534505,
          -0.5556248507166719,
          -0.020170581040227915,
          0.3703551691903537,
          0.01837309701662749,
          -0.3749043271937449,
          0.403751087836207,
          0.22340960114882216,
          0.4313911053281882,
          0.29709204985628285,
          -0.22363016860988813,
          0.18969419522545788,
          -0.1872535267375169,
          -0.0785993903454303,
          -0.3840417999071626,
          0.27813566820489166,
          -0.3247121133915561,
          -0.1599427464588209,
          -0.5449519735860643,
          -0.3222133996772739,
          0.4194165664592026,
          -0.04661082665296657,
          0.3279424678914029,
          0.32596393554972986,
          0.32371039720788375,
          0.3407791914343923,
          -0.13084834393392436,
          -0.35357348991673804,
          -0.31597214425062337,
          0.026741821235922763,
          0.39834576290718515,
          0.2600192349191058,
          -0.38944003517053444,
          -0.15915732571276195,
          0.4778812148046985,
          0.08587301123105535,
          0.6369387635713584,
          -0.2679496479133832,
          -0.37622384048383933,
          0.4932073934013973,
          -0.32257669023845265,
          0.00420594444452785,
          -0.3191900086886736,
          0.5041011336619672,
          0.14108092727043067,
          -0.31624988791919967
         ]
        }
       ],
       "layout": {
        "coloraxis": {
         "colorbar": {
          "title": {
           "text": "Y"
          }
         },
         "colorscale": [
          [
           0,
           "#0d0887"
          ],
          [
           0.1111111111111111,
           "#46039f"
          ],
          [
           0.2222222222222222,
           "#7201a8"
          ],
          [
           0.3333333333333333,
           "#9c179e"
          ],
          [
           0.4444444444444444,
           "#bd3786"
          ],
          [
           0.5555555555555556,
           "#d8576b"
          ],
          [
           0.6666666666666666,
           "#ed7953"
          ],
          [
           0.7777777777777778,
           "#fb9f3a"
          ],
          [
           0.8888888888888888,
           "#fdca26"
          ],
          [
           1,
           "#f0f921"
          ]
         ]
        },
        "legend": {
         "tracegroupgap": 0
        },
        "margin": {
         "t": 60
        },
        "scene": {
         "domain": {
          "x": [
           0,
           1
          ],
          "y": [
           0,
           1
          ]
         },
         "xaxis": {
          "title": {
           "text": "X3"
          }
         },
         "yaxis": {
          "title": {
           "text": "X4"
          }
         },
         "zaxis": {
          "title": {
           "text": "X5"
          }
         }
        },
        "template": {
         "data": {
          "bar": [
           {
            "error_x": {
             "color": "#2a3f5f"
            },
            "error_y": {
             "color": "#2a3f5f"
            },
            "marker": {
             "line": {
              "color": "#E5ECF6",
              "width": 0.5
             },
             "pattern": {
              "fillmode": "overlay",
              "size": 10,
              "solidity": 0.2
             }
            },
            "type": "bar"
           }
          ],
          "barpolar": [
           {
            "marker": {
             "line": {
              "color": "#E5ECF6",
              "width": 0.5
             },
             "pattern": {
              "fillmode": "overlay",
              "size": 10,
              "solidity": 0.2
             }
            },
            "type": "barpolar"
           }
          ],
          "carpet": [
           {
            "aaxis": {
             "endlinecolor": "#2a3f5f",
             "gridcolor": "white",
             "linecolor": "white",
             "minorgridcolor": "white",
             "startlinecolor": "#2a3f5f"
            },
            "baxis": {
             "endlinecolor": "#2a3f5f",
             "gridcolor": "white",
             "linecolor": "white",
             "minorgridcolor": "white",
             "startlinecolor": "#2a3f5f"
            },
            "type": "carpet"
           }
          ],
          "choropleth": [
           {
            "colorbar": {
             "outlinewidth": 0,
             "ticks": ""
            },
            "type": "choropleth"
           }
          ],
          "contour": [
           {
            "colorbar": {
             "outlinewidth": 0,
             "ticks": ""
            },
            "colorscale": [
             [
              0,
              "#0d0887"
             ],
             [
              0.1111111111111111,
              "#46039f"
             ],
             [
              0.2222222222222222,
              "#7201a8"
             ],
             [
              0.3333333333333333,
              "#9c179e"
             ],
             [
              0.4444444444444444,
              "#bd3786"
             ],
             [
              0.5555555555555556,
              "#d8576b"
             ],
             [
              0.6666666666666666,
              "#ed7953"
             ],
             [
              0.7777777777777778,
              "#fb9f3a"
             ],
             [
              0.8888888888888888,
              "#fdca26"
             ],
             [
              1,
              "#f0f921"
             ]
            ],
            "type": "contour"
           }
          ],
          "contourcarpet": [
           {
            "colorbar": {
             "outlinewidth": 0,
             "ticks": ""
            },
            "type": "contourcarpet"
           }
          ],
          "heatmap": [
           {
            "colorbar": {
             "outlinewidth": 0,
             "ticks": ""
            },
            "colorscale": [
             [
              0,
              "#0d0887"
             ],
             [
              0.1111111111111111,
              "#46039f"
             ],
             [
              0.2222222222222222,
              "#7201a8"
             ],
             [
              0.3333333333333333,
              "#9c179e"
             ],
             [
              0.4444444444444444,
              "#bd3786"
             ],
             [
              0.5555555555555556,
              "#d8576b"
             ],
             [
              0.6666666666666666,
              "#ed7953"
             ],
             [
              0.7777777777777778,
              "#fb9f3a"
             ],
             [
              0.8888888888888888,
              "#fdca26"
             ],
             [
              1,
              "#f0f921"
             ]
            ],
            "type": "heatmap"
           }
          ],
          "heatmapgl": [
           {
            "colorbar": {
             "outlinewidth": 0,
             "ticks": ""
            },
            "colorscale": [
             [
              0,
              "#0d0887"
             ],
             [
              0.1111111111111111,
              "#46039f"
             ],
             [
              0.2222222222222222,
              "#7201a8"
             ],
             [
              0.3333333333333333,
              "#9c179e"
             ],
             [
              0.4444444444444444,
              "#bd3786"
             ],
             [
              0.5555555555555556,
              "#d8576b"
             ],
             [
              0.6666666666666666,
              "#ed7953"
             ],
             [
              0.7777777777777778,
              "#fb9f3a"
             ],
             [
              0.8888888888888888,
              "#fdca26"
             ],
             [
              1,
              "#f0f921"
             ]
            ],
            "type": "heatmapgl"
           }
          ],
          "histogram": [
           {
            "marker": {
             "pattern": {
              "fillmode": "overlay",
              "size": 10,
              "solidity": 0.2
             }
            },
            "type": "histogram"
           }
          ],
          "histogram2d": [
           {
            "colorbar": {
             "outlinewidth": 0,
             "ticks": ""
            },
            "colorscale": [
             [
              0,
              "#0d0887"
             ],
             [
              0.1111111111111111,
              "#46039f"
             ],
             [
              0.2222222222222222,
              "#7201a8"
             ],
             [
              0.3333333333333333,
              "#9c179e"
             ],
             [
              0.4444444444444444,
              "#bd3786"
             ],
             [
              0.5555555555555556,
              "#d8576b"
             ],
             [
              0.6666666666666666,
              "#ed7953"
             ],
             [
              0.7777777777777778,
              "#fb9f3a"
             ],
             [
              0.8888888888888888,
              "#fdca26"
             ],
             [
              1,
              "#f0f921"
             ]
            ],
            "type": "histogram2d"
           }
          ],
          "histogram2dcontour": [
           {
            "colorbar": {
             "outlinewidth": 0,
             "ticks": ""
            },
            "colorscale": [
             [
              0,
              "#0d0887"
             ],
             [
              0.1111111111111111,
              "#46039f"
             ],
             [
              0.2222222222222222,
              "#7201a8"
             ],
             [
              0.3333333333333333,
              "#9c179e"
             ],
             [
              0.4444444444444444,
              "#bd3786"
             ],
             [
              0.5555555555555556,
              "#d8576b"
             ],
             [
              0.6666666666666666,
              "#ed7953"
             ],
             [
              0.7777777777777778,
              "#fb9f3a"
             ],
             [
              0.8888888888888888,
              "#fdca26"
             ],
             [
              1,
              "#f0f921"
             ]
            ],
            "type": "histogram2dcontour"
           }
          ],
          "mesh3d": [
           {
            "colorbar": {
             "outlinewidth": 0,
             "ticks": ""
            },
            "type": "mesh3d"
           }
          ],
          "parcoords": [
           {
            "line": {
             "colorbar": {
              "outlinewidth": 0,
              "ticks": ""
             }
            },
            "type": "parcoords"
           }
          ],
          "pie": [
           {
            "automargin": true,
            "type": "pie"
           }
          ],
          "scatter": [
           {
            "marker": {
             "colorbar": {
              "outlinewidth": 0,
              "ticks": ""
             }
            },
            "type": "scatter"
           }
          ],
          "scatter3d": [
           {
            "line": {
             "colorbar": {
              "outlinewidth": 0,
              "ticks": ""
             }
            },
            "marker": {
             "colorbar": {
              "outlinewidth": 0,
              "ticks": ""
             }
            },
            "type": "scatter3d"
           }
          ],
          "scattercarpet": [
           {
            "marker": {
             "colorbar": {
              "outlinewidth": 0,
              "ticks": ""
             }
            },
            "type": "scattercarpet"
           }
          ],
          "scattergeo": [
           {
            "marker": {
             "colorbar": {
              "outlinewidth": 0,
              "ticks": ""
             }
            },
            "type": "scattergeo"
           }
          ],
          "scattergl": [
           {
            "marker": {
             "colorbar": {
              "outlinewidth": 0,
              "ticks": ""
             }
            },
            "type": "scattergl"
           }
          ],
          "scattermapbox": [
           {
            "marker": {
             "colorbar": {
              "outlinewidth": 0,
              "ticks": ""
             }
            },
            "type": "scattermapbox"
           }
          ],
          "scatterpolar": [
           {
            "marker": {
             "colorbar": {
              "outlinewidth": 0,
              "ticks": ""
             }
            },
            "type": "scatterpolar"
           }
          ],
          "scatterpolargl": [
           {
            "marker": {
             "colorbar": {
              "outlinewidth": 0,
              "ticks": ""
             }
            },
            "type": "scatterpolargl"
           }
          ],
          "scatterternary": [
           {
            "marker": {
             "colorbar": {
              "outlinewidth": 0,
              "ticks": ""
             }
            },
            "type": "scatterternary"
           }
          ],
          "surface": [
           {
            "colorbar": {
             "outlinewidth": 0,
             "ticks": ""
            },
            "colorscale": [
             [
              0,
              "#0d0887"
             ],
             [
              0.1111111111111111,
              "#46039f"
             ],
             [
              0.2222222222222222,
              "#7201a8"
             ],
             [
              0.3333333333333333,
              "#9c179e"
             ],
             [
              0.4444444444444444,
              "#bd3786"
             ],
             [
              0.5555555555555556,
              "#d8576b"
             ],
             [
              0.6666666666666666,
              "#ed7953"
             ],
             [
              0.7777777777777778,
              "#fb9f3a"
             ],
             [
              0.8888888888888888,
              "#fdca26"
             ],
             [
              1,
              "#f0f921"
             ]
            ],
            "type": "surface"
           }
          ],
          "table": [
           {
            "cells": {
             "fill": {
              "color": "#EBF0F8"
             },
             "line": {
              "color": "white"
             }
            },
            "header": {
             "fill": {
              "color": "#C8D4E3"
             },
             "line": {
              "color": "white"
             }
            },
            "type": "table"
           }
          ]
         },
         "layout": {
          "annotationdefaults": {
           "arrowcolor": "#2a3f5f",
           "arrowhead": 0,
           "arrowwidth": 1
          },
          "autotypenumbers": "strict",
          "coloraxis": {
           "colorbar": {
            "outlinewidth": 0,
            "ticks": ""
           }
          },
          "colorscale": {
           "diverging": [
            [
             0,
             "#8e0152"
            ],
            [
             0.1,
             "#c51b7d"
            ],
            [
             0.2,
             "#de77ae"
            ],
            [
             0.3,
             "#f1b6da"
            ],
            [
             0.4,
             "#fde0ef"
            ],
            [
             0.5,
             "#f7f7f7"
            ],
            [
             0.6,
             "#e6f5d0"
            ],
            [
             0.7,
             "#b8e186"
            ],
            [
             0.8,
             "#7fbc41"
            ],
            [
             0.9,
             "#4d9221"
            ],
            [
             1,
             "#276419"
            ]
           ],
           "sequential": [
            [
             0,
             "#0d0887"
            ],
            [
             0.1111111111111111,
             "#46039f"
            ],
            [
             0.2222222222222222,
             "#7201a8"
            ],
            [
             0.3333333333333333,
             "#9c179e"
            ],
            [
             0.4444444444444444,
             "#bd3786"
            ],
            [
             0.5555555555555556,
             "#d8576b"
            ],
            [
             0.6666666666666666,
             "#ed7953"
            ],
            [
             0.7777777777777778,
             "#fb9f3a"
            ],
            [
             0.8888888888888888,
             "#fdca26"
            ],
            [
             1,
             "#f0f921"
            ]
           ],
           "sequentialminus": [
            [
             0,
             "#0d0887"
            ],
            [
             0.1111111111111111,
             "#46039f"
            ],
            [
             0.2222222222222222,
             "#7201a8"
            ],
            [
             0.3333333333333333,
             "#9c179e"
            ],
            [
             0.4444444444444444,
             "#bd3786"
            ],
            [
             0.5555555555555556,
             "#d8576b"
            ],
            [
             0.6666666666666666,
             "#ed7953"
            ],
            [
             0.7777777777777778,
             "#fb9f3a"
            ],
            [
             0.8888888888888888,
             "#fdca26"
            ],
            [
             1,
             "#f0f921"
            ]
           ]
          },
          "colorway": [
           "#636efa",
           "#EF553B",
           "#00cc96",
           "#ab63fa",
           "#FFA15A",
           "#19d3f3",
           "#FF6692",
           "#B6E880",
           "#FF97FF",
           "#FECB52"
          ],
          "font": {
           "color": "#2a3f5f"
          },
          "geo": {
           "bgcolor": "white",
           "lakecolor": "white",
           "landcolor": "#E5ECF6",
           "showlakes": true,
           "showland": true,
           "subunitcolor": "white"
          },
          "hoverlabel": {
           "align": "left"
          },
          "hovermode": "closest",
          "mapbox": {
           "style": "light"
          },
          "paper_bgcolor": "white",
          "plot_bgcolor": "#E5ECF6",
          "polar": {
           "angularaxis": {
            "gridcolor": "white",
            "linecolor": "white",
            "ticks": ""
           },
           "bgcolor": "#E5ECF6",
           "radialaxis": {
            "gridcolor": "white",
            "linecolor": "white",
            "ticks": ""
           }
          },
          "scene": {
           "xaxis": {
            "backgroundcolor": "#E5ECF6",
            "gridcolor": "white",
            "gridwidth": 2,
            "linecolor": "white",
            "showbackground": true,
            "ticks": "",
            "zerolinecolor": "white"
           },
           "yaxis": {
            "backgroundcolor": "#E5ECF6",
            "gridcolor": "white",
            "gridwidth": 2,
            "linecolor": "white",
            "showbackground": true,
            "ticks": "",
            "zerolinecolor": "white"
           },
           "zaxis": {
            "backgroundcolor": "#E5ECF6",
            "gridcolor": "white",
            "gridwidth": 2,
            "linecolor": "white",
            "showbackground": true,
            "ticks": "",
            "zerolinecolor": "white"
           }
          },
          "shapedefaults": {
           "line": {
            "color": "#2a3f5f"
           }
          },
          "ternary": {
           "aaxis": {
            "gridcolor": "white",
            "linecolor": "white",
            "ticks": ""
           },
           "baxis": {
            "gridcolor": "white",
            "linecolor": "white",
            "ticks": ""
           },
           "bgcolor": "#E5ECF6",
           "caxis": {
            "gridcolor": "white",
            "linecolor": "white",
            "ticks": ""
           }
          },
          "title": {
           "x": 0.05
          },
          "xaxis": {
           "automargin": true,
           "gridcolor": "white",
           "linecolor": "white",
           "ticks": "",
           "title": {
            "standoff": 15
           },
           "zerolinecolor": "white",
           "zerolinewidth": 2
          },
          "yaxis": {
           "automargin": true,
           "gridcolor": "white",
           "linecolor": "white",
           "ticks": "",
           "title": {
            "standoff": 15
           },
           "zerolinecolor": "white",
           "zerolinewidth": 2
          }
         }
        }
       }
      },
      "text/html": [
       "<div>                            <div id=\"b1886ebd-5fcf-41c4-a8d9-829e383e9e69\" class=\"plotly-graph-div\" style=\"height:525px; width:100%;\"></div>            <script type=\"text/javascript\">                require([\"plotly\"], function(Plotly) {                    window.PLOTLYENV=window.PLOTLYENV || {};                                    if (document.getElementById(\"b1886ebd-5fcf-41c4-a8d9-829e383e9e69\")) {                    Plotly.newPlot(                        \"b1886ebd-5fcf-41c4-a8d9-829e383e9e69\",                        [{\"hovertemplate\":\"X3=%{x}<br>X4=%{y}<br>X5=%{z}<br>Y=%{marker.color}<extra></extra>\",\"legendgroup\":\"\",\"marker\":{\"color\":[0,1,0,0,1,0,0,0,1,1,1,1,0,0,1,0,0,0,1,0,0,1,0,0,0,1,1,1,0,1,0,0,0,1,1,0,0,1,1,0,1,1,0,1,1,0,1,1,0,1,1,0,0,0,1,0,0,0,1,0,1,0,0,0,0,0,1,0,0,0,0,1,1,1,1,0,0,1,0,1,1,1,1,1,0,0,0,0,1,1,1,0,0,1,1,0,1,0,1,1,1,1,0,1,0,0,1,1,0,0,1,0,0,1,1,0,1,0,0,1,1,1,1,1,1,0,0,1,0,1,0,1,1,0,0,1,1,0,0,0,0,1,1,1,1,0,0,0,1,0,0,1,0,0,1,0,0,0,1,1,0,1,1,0,1,0,0,1,0,1,0,1,0,1,1,1,0,1,1,0,1,1,1,1,0,1,1,0,0,0,0,1,0,0,1,0,1,1,1,1],\"coloraxis\":\"coloraxis\",\"symbol\":\"circle\"},\"mode\":\"markers\",\"name\":\"\",\"scene\":\"scene\",\"showlegend\":false,\"type\":\"scatter3d\",\"x\":[0.5109274236238033,0.7068184747580271,1.3419698386342667,0.44452362345861857,0.03991670348577633,1.2038617819349793,0.7206801642342636,0.22120826917066969,0.12957714289470576,0.07867315112071062,0.5238455484712405,0.6972404277655728,0.05172609607257431,0.8408504767043407,0.5591311842250211,0.7514105299028699,0.0025945650816608613,0.00026462961121749134,0.17152455776693534,0.3697212165528579,0.017905794176997288,0.907301470074416,0.15604155355046181,0.12212697875393907,0.05252452032647528,0.08167130706587664,0.00015200660993163473,0.5007801587969992,1.5531939324675956,0.03410202187540468,0.8973993815703114,0.6067224941081346,0.1561853802211591,0.616652696687631,0.3679899482543538,0.03827591277411989,0.8400179951598208,0.4156962158660819,0.47477502221545387,0.022039823527962184,0.3690318356615159,0.32302019846180174,0.5074877612089291,0.008206866770120407,0.5438207147768792,0.12289136140188417,0.5220947744164867,0.06964862920841582,1.1630391699484608,0.829171040832198,0.1489200089385726,0.3683985168178728,0.2885454619759596,0.0306219327537754,0.37935081713671936,0.002036932506560323,0.4501240460248424,0.9373538773128756,0.0002225524625953824,0.21479156537661304,0.39103556239984083,0.06003818627542095,0.09688050231665905,0.7799881819925741,1.0123253376387493,0.7648860566167509,0.026458126791441574,1.100976266837682,0.46247456224725875,0.023300498762364466,0.4609305553805444,0.33207588814635813,0.6440697405392763,0.5336796411096801,0.2220253253302174,0.7331579170470383,1.1558279477159654,0.3288134086791049,0.5321185142218914,0.6707459920862537,0.4116567630682087,0.024715323064872476,0.37180154459717424,0.01499459536006487,0.9335700663154284,1.0209897650537867,0.02315431229053893,0.8005133452495794,0.005018898614500957,0.0796669936021007,0.1435134017286654,0.21977848284297186,0.7288695653690747,0.6348113440061239,0.5886941108139563,1.0564100034111354,0.027947788422812255,0.5797803797380651,0.005857346353790724,0.1166899749692719,0.5022739155154496,0.3711123346877678,0.2521040697560747,0.3549688469822244,1.2894582970904398,0.5519921922482176,0.00010759208087267093,0.6479300628432065,1.1580952220180096,0.9709689995401986,0.3421518461625998,0.47111081652752756,0.9088060206196829,0.4313771876442675,0.6451774694127029,0.8323825381637778,0.6935768298803986,0.3567119540478324,0.817698121673523,0.08177929377750599,0.32887211987582876,0.0005934064451213909,0.3172986543981363,0.12933494851149646,0.22539663016268613,0.37183375544293396,0.6052489684513147,0.2424803287237454,0.03671976885013,0.8915250449966482,0.7088074143005877,0.23125661417095847,0.6967552438437733,0.8343680606755218,0.015743190855562795,0.4871886958716726,0.23362548992996404,0.0058222608393665495,0.2833639458490303,0.5650809383667635,0.09442908359338392,0.033314899127821936,0.5645975985263751,0.13267088580701125,0.04303726303014881,0.02945469413614747,0.004041970871230658,0.18171816188605588,0.00919165136743586,1.0614078760654007,0.9104577488558543,0.011549252100112175,0.7061161394359674,0.6228726910365774,0.14804164065327216,0.3937945696671166,0.7973208252138335,0.825336001780709,0.00047389001276588436,0.368518322602934,1.4088223118204137,0.47587133204828586,0.9368221380776971,0.08174739115013446,0.26206731518184445,0.040074149048196485,0.04219229368072899,0.5182885040612715,0.6416527618909423,0.13865032689732582,0.7903467554941808,0.33107970612417725,0.647357507159787,0.18159126795364042,0.45110800949287294,0.0039225660269820595,0.14429532654103813,0.5493871443962753,0.28603140248234377,0.32971254789486104,0.05142939335174936,0.5569583276903957,0.17875325181832946,0.4936540681389535,0.25138007376551613,0.5647597000619407,1.0289917325927853,0.9772278290199915,0.3528139138097908,0.008335061944246951,1.0770604456242492,0.2527107224202764,0.7919664550152351,0.5250976053051694,0.3360832012243052,0.8642912337408908,0.24026824848415035,0.30188854410435456,0.030728924693393625,0.5505281933373366],\"y\":[0.5542965507744662,0.06307369036751663,0.006646688005939547,0.5275738514905012,0.3343971017431942,0.10538146654411763,0.4256117929559806,0.7803383824921741,0.5266796112259257,0.42250192801630065,0.2532831026624269,0.13989095591629624,1.0263463780019018,0.06603306595145544,0.004123555287831628,0.2944918552608338,0.5834999561847132,0.769407375242488,0.5360581677906258,0.587886805645708,1.0710677949984013,0.0002936315382784715,0.7667726099067926,1.0917288940201855,0.7103662922502768,0.40623925277606826,0.6066930535516675,0.08259370244911955,0.02359555423810857,0.7132388751086216,0.12804148445984598,0.007812457940961475,0.6209260871731297,0.15963756113552585,0.12641866693333917,0.7929750628753768,0.3313907806539767,0.3305914174020871,0.23710977452369492,0.8309601854731226,0.3321449070634035,0.2730580585876861,0.8011844667378217,0.7748896553441768,0.033309722571575294,0.9365383567490632,0.14214484170809227,0.5789576212631846,0.07051760526286177,0.08620677581122008,0.5181082742829403,0.7163590807650413,0.7889865178375802,0.8708025823586898,0.12700203495771684,0.8443599229968537,0.9032557457009989,0.04360217354100395,0.4686337907451949,0.9004371899745471,0.1779004427735342,0.9243165088083896,1.0504113271750153,0.14007523194637486,0.14387896485618681,0.36454894862725956,0.8469852127340654,0.16211869247082825,0.5251183950977313,1.3365738179597284,0.41606527505480956,0.009940388514048031,0.10986360520260076,0.1218060847074069,0.18964501355116484,0.5645811354907782,0.014477943714172166,0.42254815631603243,0.7543495499736488,0.026595587392805264,0.004863926081424846,0.6283949677513705,0.42725609191900366,0.7042621064723631,0.0725928303907816,0.036940516748489624,0.7326226196191349,0.11768011778896922,0.603510552466218,0.40832157313994,0.831758412725711,0.7161679828645012,0.4820631303265718,0.00878909488494593,0.19939660373463475,0.00030664740667948957,0.25001890996563514,0.5467105259922895,0.7606837957956526,0.27958839174839734,0.262041540358255,0.0387342786409623,1.1517618923225004,0.1956558257210847,0.45662134835659335,0.6375435829679236,0.6791907271592744,0.002423379414865535,0.025655818560370733,0.01714052959231053,0.00040836945888818863,0.5071794502923898,0.15844368463115235,0.21363524994901928,0.05459298716032591,0.3208575402842834,0.030317693006245653,0.7594128309109999,0.40150888942656404,0.6522038323783946,0.23336687139466739,0.6775639085950448,0.32011283122040934,0.8074183506447657,0.7006314951488325,0.7990677448991922,0.5667627730343616,0.029217728235986205,0.9887205639429482,0.051922193770433576,0.334031958202354,0.07637991226965372,0.06778416304289919,0.19361664677604068,1.3639814811394202,0.1328237144639804,0.6864778144981044,1.0551994579218613,0.6836631703069466,0.4905341737003436,0.8630577464544517,0.6602050113087331,0.043990984161631844,0.8118175561085715,0.7150015247611472,0.9084253582193933,1.0158256105314223,0.7420210051554438,0.6255705261965211,0.00010439824214725705,0.039965094735162604,0.6942230449015915,0.28136727397955763,0.14719104534752497,0.5222609361883678,0.7839594512308561,0.0005102743169806058,0.16619043765215463,0.7123397516064046,0.38140099400169014,0.11571007895117756,0.10488517908956813,0.19864847145706707,1.07971257364906,0.19083055923164446,0.897932671232942,0.8310494693881296,0.011919739902127911,0.22985657170910878,0.5579463940612869,0.13340721126549512,0.07726744246654552,0.4587459792013268,0.5717316482315213,0.38995152495337354,0.5538642680144834,0.745320481437195,0.19340184487904227,0.3663528561936631,0.3522172815567514,0.3329086344291514,0.22445882673181802,0.5585263200906941,0.0014486358953953898,0.6312327960175607,0.11971463707573667,0.14739043686140738,0.025921339503236752,0.6472830195306116,0.8847173670951278,0.376665014659115,0.28410750889114367,0.17872521904439312,0.4632539368836576,0.30961297888776906,2.0467601636878374e-05,0.4240354782184061,0.8417608349902767,0.6477228942463987,0.1816691548576563],\"z\":[-0.5321703755478678,-0.21114367057273625,0.09444392426611152,0.48427165940882466,0.11553367455762005,-0.3561807407717644,0.5538320836206183,0.41547238531403485,-0.26123866337804946,0.18231719071886232,-0.3642543422290207,0.3123101502410917,-0.23041026746276963,-0.23563517348547622,0.048016750736619464,0.4704086319505866,0.03890923555491035,-0.014269126622827694,0.3032278683888417,0.466212639230968,0.1384858096948987,0.01632214221051481,-0.345902282834037,0.3651431930696019,-0.19316223429165066,0.18214854036111996,0.009603195006843332,0.2033747462889682,-0.19143790553555554,-0.1559579678033259,0.33897544006846636,0.06884761409849326,-0.3114154411945108,0.31375298017207515,-0.21568680697526188,0.17421780718017935,-0.5276118072782313,0.37070959147539195,0.33552019084846224,0.1353300256653724,-0.35010290595656496,-0.29699035047723127,0.6376451296294412,-0.07974594762716272,0.13459018217497745,-0.339252816739929,0.2724207757606854,-0.2008073820623783,-0.28638215218772267,-0.26735774166120063,0.27777092871170644,-0.5137174543101061,-0.477135703214765,-0.16329622812178413,-0.219495616674311,-0.04147172741023772,0.6376340101109097,-0.20216494856410921,-0.010212521930735437,0.4397798466937198,0.26375253494730555,-0.23557225374242372,-0.3190052930843374,0.3305405050943697,-0.3816442344345753,-0.5280515199857748,-0.14969850416418334,0.42247938745119706,-0.4928020899923278,0.1764733311046726,-0.43792373571841514,-0.05745401068961467,0.2660071873043068,0.2549616198011462,0.20519745571266437,-0.6433716882957087,-0.12936000916163726,-0.37274589147212056,-0.6335640154995629,0.1335622837888894,-0.044746710119095784,0.12462337116414098,0.3985655214817732,0.10276247035751918,0.2603276656099897,0.1942057916644246,-0.1302435139489647,0.30692752362831893,-0.05503597255985769,-0.1803600625275432,0.3454974373663313,-0.3967345620621822,-0.5927572389111616,-0.07469549609253476,-0.34261291034472646,-0.017998482934300196,-0.08359112152269352,0.5630026965891077,-0.06675019443935241,-0.18062436833057569,-0.362790063953577,0.11989482298620761,0.5388542107513499,0.26353694781105835,0.7673292554484243,0.5932276797455152,0.008548423459591179,0.03962550159388218,-0.17237134591261483,-0.1290074527685704,-0.011820506092169473,0.4888125662799907,-0.3794661704578652,0.30357432912663757,0.18767569182976057,-0.5167941696370214,-0.14500913558999995,0.5204725111312402,0.5729860946997961,0.23094754558316485,-0.2770340370863374,-0.02005170292872754,-0.3187026366408248,-0.32315230280454166,0.3973914669345471,0.5450874796206412,-0.5856898357797017,-0.08417080460125703,0.19054025969688201,0.21515096127489294,-0.4865843488925353,-0.1329035736997127,-0.21732227462849113,0.40192977755451587,0.14653812057287727,0.2543820202579931,-0.40047311487560633,0.07838141668520202,-0.4401425832271106,-0.5264898015874145,-0.28547811139536594,0.14830597882564608,0.1575982360766425,0.32818372031928583,-0.17541866687471705,0.16357686594342252,-0.06407758990488101,-0.36720388497085765,0.0758289270828872,-0.010526590923109034,0.1907525365110176,-0.089541928498754,0.44573307400962225,0.3027891717220082,0.2780582058534505,-0.5556248507166719,-0.020170581040227915,0.3703551691903537,0.01837309701662749,-0.3749043271937449,0.403751087836207,0.22340960114882216,0.4313911053281882,0.29709204985628285,-0.22363016860988813,0.18969419522545788,-0.1872535267375169,-0.0785993903454303,-0.3840417999071626,0.27813566820489166,-0.3247121133915561,-0.1599427464588209,-0.5449519735860643,-0.3222133996772739,0.4194165664592026,-0.04661082665296657,0.3279424678914029,0.32596393554972986,0.32371039720788375,0.3407791914343923,-0.13084834393392436,-0.35357348991673804,-0.31597214425062337,0.026741821235922763,0.39834576290718515,0.2600192349191058,-0.38944003517053444,-0.15915732571276195,0.4778812148046985,0.08587301123105535,0.6369387635713584,-0.2679496479133832,-0.37622384048383933,0.4932073934013973,-0.32257669023845265,0.00420594444452785,-0.3191900086886736,0.5041011336619672,0.14108092727043067,-0.31624988791919967]}],                        {\"coloraxis\":{\"colorbar\":{\"title\":{\"text\":\"Y\"}},\"colorscale\":[[0.0,\"#0d0887\"],[0.1111111111111111,\"#46039f\"],[0.2222222222222222,\"#7201a8\"],[0.3333333333333333,\"#9c179e\"],[0.4444444444444444,\"#bd3786\"],[0.5555555555555556,\"#d8576b\"],[0.6666666666666666,\"#ed7953\"],[0.7777777777777778,\"#fb9f3a\"],[0.8888888888888888,\"#fdca26\"],[1.0,\"#f0f921\"]]},\"legend\":{\"tracegroupgap\":0},\"margin\":{\"t\":60},\"scene\":{\"domain\":{\"x\":[0.0,1.0],\"y\":[0.0,1.0]},\"xaxis\":{\"title\":{\"text\":\"X3\"}},\"yaxis\":{\"title\":{\"text\":\"X4\"}},\"zaxis\":{\"title\":{\"text\":\"X5\"}}},\"template\":{\"data\":{\"bar\":[{\"error_x\":{\"color\":\"#2a3f5f\"},\"error_y\":{\"color\":\"#2a3f5f\"},\"marker\":{\"line\":{\"color\":\"#E5ECF6\",\"width\":0.5},\"pattern\":{\"fillmode\":\"overlay\",\"size\":10,\"solidity\":0.2}},\"type\":\"bar\"}],\"barpolar\":[{\"marker\":{\"line\":{\"color\":\"#E5ECF6\",\"width\":0.5},\"pattern\":{\"fillmode\":\"overlay\",\"size\":10,\"solidity\":0.2}},\"type\":\"barpolar\"}],\"carpet\":[{\"aaxis\":{\"endlinecolor\":\"#2a3f5f\",\"gridcolor\":\"white\",\"linecolor\":\"white\",\"minorgridcolor\":\"white\",\"startlinecolor\":\"#2a3f5f\"},\"baxis\":{\"endlinecolor\":\"#2a3f5f\",\"gridcolor\":\"white\",\"linecolor\":\"white\",\"minorgridcolor\":\"white\",\"startlinecolor\":\"#2a3f5f\"},\"type\":\"carpet\"}],\"choropleth\":[{\"colorbar\":{\"outlinewidth\":0,\"ticks\":\"\"},\"type\":\"choropleth\"}],\"contour\":[{\"colorbar\":{\"outlinewidth\":0,\"ticks\":\"\"},\"colorscale\":[[0.0,\"#0d0887\"],[0.1111111111111111,\"#46039f\"],[0.2222222222222222,\"#7201a8\"],[0.3333333333333333,\"#9c179e\"],[0.4444444444444444,\"#bd3786\"],[0.5555555555555556,\"#d8576b\"],[0.6666666666666666,\"#ed7953\"],[0.7777777777777778,\"#fb9f3a\"],[0.8888888888888888,\"#fdca26\"],[1.0,\"#f0f921\"]],\"type\":\"contour\"}],\"contourcarpet\":[{\"colorbar\":{\"outlinewidth\":0,\"ticks\":\"\"},\"type\":\"contourcarpet\"}],\"heatmap\":[{\"colorbar\":{\"outlinewidth\":0,\"ticks\":\"\"},\"colorscale\":[[0.0,\"#0d0887\"],[0.1111111111111111,\"#46039f\"],[0.2222222222222222,\"#7201a8\"],[0.3333333333333333,\"#9c179e\"],[0.4444444444444444,\"#bd3786\"],[0.5555555555555556,\"#d8576b\"],[0.6666666666666666,\"#ed7953\"],[0.7777777777777778,\"#fb9f3a\"],[0.8888888888888888,\"#fdca26\"],[1.0,\"#f0f921\"]],\"type\":\"heatmap\"}],\"heatmapgl\":[{\"colorbar\":{\"outlinewidth\":0,\"ticks\":\"\"},\"colorscale\":[[0.0,\"#0d0887\"],[0.1111111111111111,\"#46039f\"],[0.2222222222222222,\"#7201a8\"],[0.3333333333333333,\"#9c179e\"],[0.4444444444444444,\"#bd3786\"],[0.5555555555555556,\"#d8576b\"],[0.6666666666666666,\"#ed7953\"],[0.7777777777777778,\"#fb9f3a\"],[0.8888888888888888,\"#fdca26\"],[1.0,\"#f0f921\"]],\"type\":\"heatmapgl\"}],\"histogram\":[{\"marker\":{\"pattern\":{\"fillmode\":\"overlay\",\"size\":10,\"solidity\":0.2}},\"type\":\"histogram\"}],\"histogram2d\":[{\"colorbar\":{\"outlinewidth\":0,\"ticks\":\"\"},\"colorscale\":[[0.0,\"#0d0887\"],[0.1111111111111111,\"#46039f\"],[0.2222222222222222,\"#7201a8\"],[0.3333333333333333,\"#9c179e\"],[0.4444444444444444,\"#bd3786\"],[0.5555555555555556,\"#d8576b\"],[0.6666666666666666,\"#ed7953\"],[0.7777777777777778,\"#fb9f3a\"],[0.8888888888888888,\"#fdca26\"],[1.0,\"#f0f921\"]],\"type\":\"histogram2d\"}],\"histogram2dcontour\":[{\"colorbar\":{\"outlinewidth\":0,\"ticks\":\"\"},\"colorscale\":[[0.0,\"#0d0887\"],[0.1111111111111111,\"#46039f\"],[0.2222222222222222,\"#7201a8\"],[0.3333333333333333,\"#9c179e\"],[0.4444444444444444,\"#bd3786\"],[0.5555555555555556,\"#d8576b\"],[0.6666666666666666,\"#ed7953\"],[0.7777777777777778,\"#fb9f3a\"],[0.8888888888888888,\"#fdca26\"],[1.0,\"#f0f921\"]],\"type\":\"histogram2dcontour\"}],\"mesh3d\":[{\"colorbar\":{\"outlinewidth\":0,\"ticks\":\"\"},\"type\":\"mesh3d\"}],\"parcoords\":[{\"line\":{\"colorbar\":{\"outlinewidth\":0,\"ticks\":\"\"}},\"type\":\"parcoords\"}],\"pie\":[{\"automargin\":true,\"type\":\"pie\"}],\"scatter\":[{\"marker\":{\"colorbar\":{\"outlinewidth\":0,\"ticks\":\"\"}},\"type\":\"scatter\"}],\"scatter3d\":[{\"line\":{\"colorbar\":{\"outlinewidth\":0,\"ticks\":\"\"}},\"marker\":{\"colorbar\":{\"outlinewidth\":0,\"ticks\":\"\"}},\"type\":\"scatter3d\"}],\"scattercarpet\":[{\"marker\":{\"colorbar\":{\"outlinewidth\":0,\"ticks\":\"\"}},\"type\":\"scattercarpet\"}],\"scattergeo\":[{\"marker\":{\"colorbar\":{\"outlinewidth\":0,\"ticks\":\"\"}},\"type\":\"scattergeo\"}],\"scattergl\":[{\"marker\":{\"colorbar\":{\"outlinewidth\":0,\"ticks\":\"\"}},\"type\":\"scattergl\"}],\"scattermapbox\":[{\"marker\":{\"colorbar\":{\"outlinewidth\":0,\"ticks\":\"\"}},\"type\":\"scattermapbox\"}],\"scatterpolar\":[{\"marker\":{\"colorbar\":{\"outlinewidth\":0,\"ticks\":\"\"}},\"type\":\"scatterpolar\"}],\"scatterpolargl\":[{\"marker\":{\"colorbar\":{\"outlinewidth\":0,\"ticks\":\"\"}},\"type\":\"scatterpolargl\"}],\"scatterternary\":[{\"marker\":{\"colorbar\":{\"outlinewidth\":0,\"ticks\":\"\"}},\"type\":\"scatterternary\"}],\"surface\":[{\"colorbar\":{\"outlinewidth\":0,\"ticks\":\"\"},\"colorscale\":[[0.0,\"#0d0887\"],[0.1111111111111111,\"#46039f\"],[0.2222222222222222,\"#7201a8\"],[0.3333333333333333,\"#9c179e\"],[0.4444444444444444,\"#bd3786\"],[0.5555555555555556,\"#d8576b\"],[0.6666666666666666,\"#ed7953\"],[0.7777777777777778,\"#fb9f3a\"],[0.8888888888888888,\"#fdca26\"],[1.0,\"#f0f921\"]],\"type\":\"surface\"}],\"table\":[{\"cells\":{\"fill\":{\"color\":\"#EBF0F8\"},\"line\":{\"color\":\"white\"}},\"header\":{\"fill\":{\"color\":\"#C8D4E3\"},\"line\":{\"color\":\"white\"}},\"type\":\"table\"}]},\"layout\":{\"annotationdefaults\":{\"arrowcolor\":\"#2a3f5f\",\"arrowhead\":0,\"arrowwidth\":1},\"autotypenumbers\":\"strict\",\"coloraxis\":{\"colorbar\":{\"outlinewidth\":0,\"ticks\":\"\"}},\"colorscale\":{\"diverging\":[[0,\"#8e0152\"],[0.1,\"#c51b7d\"],[0.2,\"#de77ae\"],[0.3,\"#f1b6da\"],[0.4,\"#fde0ef\"],[0.5,\"#f7f7f7\"],[0.6,\"#e6f5d0\"],[0.7,\"#b8e186\"],[0.8,\"#7fbc41\"],[0.9,\"#4d9221\"],[1,\"#276419\"]],\"sequential\":[[0.0,\"#0d0887\"],[0.1111111111111111,\"#46039f\"],[0.2222222222222222,\"#7201a8\"],[0.3333333333333333,\"#9c179e\"],[0.4444444444444444,\"#bd3786\"],[0.5555555555555556,\"#d8576b\"],[0.6666666666666666,\"#ed7953\"],[0.7777777777777778,\"#fb9f3a\"],[0.8888888888888888,\"#fdca26\"],[1.0,\"#f0f921\"]],\"sequentialminus\":[[0.0,\"#0d0887\"],[0.1111111111111111,\"#46039f\"],[0.2222222222222222,\"#7201a8\"],[0.3333333333333333,\"#9c179e\"],[0.4444444444444444,\"#bd3786\"],[0.5555555555555556,\"#d8576b\"],[0.6666666666666666,\"#ed7953\"],[0.7777777777777778,\"#fb9f3a\"],[0.8888888888888888,\"#fdca26\"],[1.0,\"#f0f921\"]]},\"colorway\":[\"#636efa\",\"#EF553B\",\"#00cc96\",\"#ab63fa\",\"#FFA15A\",\"#19d3f3\",\"#FF6692\",\"#B6E880\",\"#FF97FF\",\"#FECB52\"],\"font\":{\"color\":\"#2a3f5f\"},\"geo\":{\"bgcolor\":\"white\",\"lakecolor\":\"white\",\"landcolor\":\"#E5ECF6\",\"showlakes\":true,\"showland\":true,\"subunitcolor\":\"white\"},\"hoverlabel\":{\"align\":\"left\"},\"hovermode\":\"closest\",\"mapbox\":{\"style\":\"light\"},\"paper_bgcolor\":\"white\",\"plot_bgcolor\":\"#E5ECF6\",\"polar\":{\"angularaxis\":{\"gridcolor\":\"white\",\"linecolor\":\"white\",\"ticks\":\"\"},\"bgcolor\":\"#E5ECF6\",\"radialaxis\":{\"gridcolor\":\"white\",\"linecolor\":\"white\",\"ticks\":\"\"}},\"scene\":{\"xaxis\":{\"backgroundcolor\":\"#E5ECF6\",\"gridcolor\":\"white\",\"gridwidth\":2,\"linecolor\":\"white\",\"showbackground\":true,\"ticks\":\"\",\"zerolinecolor\":\"white\"},\"yaxis\":{\"backgroundcolor\":\"#E5ECF6\",\"gridcolor\":\"white\",\"gridwidth\":2,\"linecolor\":\"white\",\"showbackground\":true,\"ticks\":\"\",\"zerolinecolor\":\"white\"},\"zaxis\":{\"backgroundcolor\":\"#E5ECF6\",\"gridcolor\":\"white\",\"gridwidth\":2,\"linecolor\":\"white\",\"showbackground\":true,\"ticks\":\"\",\"zerolinecolor\":\"white\"}},\"shapedefaults\":{\"line\":{\"color\":\"#2a3f5f\"}},\"ternary\":{\"aaxis\":{\"gridcolor\":\"white\",\"linecolor\":\"white\",\"ticks\":\"\"},\"baxis\":{\"gridcolor\":\"white\",\"linecolor\":\"white\",\"ticks\":\"\"},\"bgcolor\":\"#E5ECF6\",\"caxis\":{\"gridcolor\":\"white\",\"linecolor\":\"white\",\"ticks\":\"\"}},\"title\":{\"x\":0.05},\"xaxis\":{\"automargin\":true,\"gridcolor\":\"white\",\"linecolor\":\"white\",\"ticks\":\"\",\"title\":{\"standoff\":15},\"zerolinecolor\":\"white\",\"zerolinewidth\":2},\"yaxis\":{\"automargin\":true,\"gridcolor\":\"white\",\"linecolor\":\"white\",\"ticks\":\"\",\"title\":{\"standoff\":15},\"zerolinecolor\":\"white\",\"zerolinewidth\":2}}}},                        {\"responsive\": true}                    ).then(function(){\n",
       "                            \n",
       "var gd = document.getElementById('b1886ebd-5fcf-41c4-a8d9-829e383e9e69');\n",
       "var x = new MutationObserver(function (mutations, observer) {{\n",
       "        var display = window.getComputedStyle(gd).display;\n",
       "        if (!display || display === 'none') {{\n",
       "            console.log([gd, 'removed!']);\n",
       "            Plotly.purge(gd);\n",
       "            observer.disconnect();\n",
       "        }}\n",
       "}});\n",
       "\n",
       "// Listen for the removal of the full notebook cells\n",
       "var notebookContainer = gd.closest('#notebook-container');\n",
       "if (notebookContainer) {{\n",
       "    x.observe(notebookContainer, {childList: true});\n",
       "}}\n",
       "\n",
       "// Listen for the clearing of the current output cell\n",
       "var outputEl = gd.closest('.output');\n",
       "if (outputEl) {{\n",
       "    x.observe(outputEl, {childList: true});\n",
       "}}\n",
       "\n",
       "                        })                };                });            </script>        </div>"
      ]
     },
     "metadata": {},
     "output_type": "display_data"
    }
   ],
   "source": [
    "fig = px.scatter_3d(df,x='X3',y='X4',z='X5',color='Y')\n",
    "fig.show()"
   ]
  },
  {
   "cell_type": "code",
   "execution_count": 55,
   "id": "45eb36dc",
   "metadata": {
    "scrolled": true
   },
   "outputs": [
    {
     "data": {
      "text/plain": [
       "SVC(kernel='poly')"
      ]
     },
     "execution_count": 55,
     "metadata": {},
     "output_type": "execute_result"
    }
   ],
   "source": [
    "poly=SVC(kernel='poly')\n",
    "poly.fit(X_train,y_train)"
   ]
  },
  {
   "cell_type": "code",
   "execution_count": 56,
   "id": "e513e668",
   "metadata": {},
   "outputs": [
    {
     "data": {
      "text/plain": [
       "0.86"
      ]
     },
     "execution_count": 56,
     "metadata": {},
     "output_type": "execute_result"
    }
   ],
   "source": [
    "pred=poly.predict(X_test)\n",
    "accuracy_score(y_test,pred)"
   ]
  },
  {
   "cell_type": "markdown",
   "id": "dfe5852d",
   "metadata": {},
   "source": [
    "# RBF kernel\n",
    "---"
   ]
  },
  {
   "cell_type": "code",
   "execution_count": 57,
   "id": "0bc4c695",
   "metadata": {},
   "outputs": [
    {
     "data": {
      "text/plain": [
       "SVC()"
      ]
     },
     "execution_count": 57,
     "metadata": {},
     "output_type": "execute_result"
    }
   ],
   "source": [
    "rbf=SVC(kernel='rbf')\n",
    "rbf.fit(X_train,y_train)"
   ]
  },
  {
   "cell_type": "code",
   "execution_count": 58,
   "id": "7a6cc7d8",
   "metadata": {},
   "outputs": [
    {
     "data": {
      "text/plain": [
       "0.88"
      ]
     },
     "execution_count": 58,
     "metadata": {},
     "output_type": "execute_result"
    }
   ],
   "source": [
    "pred=rbf.predict(X_test)\n",
    "accuracy_score(y_test,pred)"
   ]
  },
  {
   "cell_type": "markdown",
   "id": "f9d4c0a3",
   "metadata": {},
   "source": [
    "# Sigmoid kernel\n",
    "---"
   ]
  },
  {
   "cell_type": "code",
   "execution_count": 59,
   "id": "19578fac",
   "metadata": {},
   "outputs": [
    {
     "data": {
      "text/plain": [
       "SVC(kernel='sigmoid')"
      ]
     },
     "execution_count": 59,
     "metadata": {},
     "output_type": "execute_result"
    }
   ],
   "source": [
    "sig=SVC(kernel='sigmoid')\n",
    "sig.fit(X_train,y_train)"
   ]
  },
  {
   "cell_type": "code",
   "execution_count": 60,
   "id": "ba1b81a3",
   "metadata": {},
   "outputs": [
    {
     "data": {
      "text/plain": [
       "0.64"
      ]
     },
     "execution_count": 60,
     "metadata": {},
     "output_type": "execute_result"
    }
   ],
   "source": [
    "pred=sig.predict(X_test)\n",
    "accuracy_score(y_test,pred)"
   ]
  }
 ],
 "metadata": {
  "kernelspec": {
   "display_name": "Python [conda env:MachineLearning] *",
   "language": "python",
   "name": "conda-env-MachineLearning-py"
  },
  "language_info": {
   "codemirror_mode": {
    "name": "ipython",
    "version": 3
   },
   "file_extension": ".py",
   "mimetype": "text/x-python",
   "name": "python",
   "nbconvert_exporter": "python",
   "pygments_lexer": "ipython3",
   "version": "3.7.11"
  }
 },
 "nbformat": 4,
 "nbformat_minor": 5
}
