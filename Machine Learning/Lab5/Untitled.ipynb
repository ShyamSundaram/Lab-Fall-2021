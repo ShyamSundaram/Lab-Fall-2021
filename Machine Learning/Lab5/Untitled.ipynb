{
 "cells": [
  {
   "cell_type": "markdown",
   "id": "45eb6fd4",
   "metadata": {},
   "source": [
    "# Machine Learning Lab\n",
    "## Lab 4 - Synthetic Data Generation\n",
    "---\n",
    "**Shyam Sundaram<br>\n",
    "19BCE1560<br>\n",
    "August 30, 2021<br><br>\n",
    "Abdul Quadir Md<br>\n",
    "L31+L32**"
   ]
  },
  {
   "cell_type": "code",
   "execution_count": 1,
   "id": "ba85bed5",
   "metadata": {},
   "outputs": [],
   "source": [
    "import matplotlib.pyplot as plt\n",
    "import numpy as np\n",
    "import pandas as pd\n",
    "%matplotlib inline"
   ]
  },
  {
   "cell_type": "markdown",
   "id": "a1497502",
   "metadata": {},
   "source": [
    "# Creating data"
   ]
  },
  {
   "cell_type": "code",
   "execution_count": 27,
   "id": "d3296d08",
   "metadata": {},
   "outputs": [
    {
     "name": "stdout",
     "output_type": "stream",
     "text": [
      "    Year  Placement\n",
      "0   2000         64\n",
      "1   2001         54\n",
      "2   2002         62\n",
      "3   2003         78\n",
      "4   2004         66\n",
      "5   2005         69\n",
      "6   2006         72\n",
      "7   2007         77\n",
      "8   2008         82\n",
      "9   2009         88\n",
      "10  2010         85\n",
      "11  2011         87\n",
      "12  2012         84\n",
      "13  2013         85\n",
      "14  2014         88\n",
      "15  2015         75\n",
      "16  2016         90\n",
      "17  2017         93\n",
      "18  2018         95\n",
      "19  2019         98\n",
      "    Year  Placement\n",
      "0   2000         79\n",
      "1   2001         79\n",
      "2   2002         77\n",
      "3   2003         73\n",
      "4   2004         69\n",
      "5   2005         89\n",
      "6   2006         79\n",
      "7   2007         80\n",
      "8   2008         84\n",
      "9   2009         70\n",
      "10  2010         65\n",
      "11  2011         83\n",
      "12  2012         72\n",
      "13  2013         70\n",
      "14  2014         87\n",
      "15  2015         69\n",
      "16  2016         80\n",
      "17  2017         88\n",
      "18  2018         72\n",
      "19  2019         74\n"
     ]
    }
   ],
   "source": [
    "# Create our own data\n",
    "\n",
    "datafile = pd.DataFrame()\n",
    "datafile[0] = np.arange(2000,2020)\n",
    "datafile[1] = [64,54,62,78,66,69,72,77,82,88,85,87,84,85,88,75,90,93,95,98]\n",
    "datafile1 = pd.DataFrame()\n",
    "datafile1[0] = np.arange(2000,2020)\n",
    "datafile1[1] = np.random.randint(65,90,size=20)#[22,34,50,78,66,69,72,77,64,54,62,78,88,79,89,85,86,90,92,89]\n",
    "datafile.columns =[\"Year\",\"Placement\"]\n",
    "datafile1.columns =[\"Year\",\"Placement\"]\n",
    "print(datafile)\n",
    "print(datafile1)"
   ]
  },
  {
   "cell_type": "code",
   "execution_count": 28,
   "id": "3b57734e",
   "metadata": {},
   "outputs": [
    {
     "name": "stderr",
     "output_type": "stream",
     "text": [
      "No handles with labels found to put in legend.\n"
     ]
    },
    {
     "data": {
      "image/png": "[encoded data removed]",
      "text/plain": [
       "<Figure size 432x288 with 1 Axes>"
      ]
     },
     "metadata": {
      "needs_background": "light"
     },
     "output_type": "display_data"
    }
   ],
   "source": [
    "plt.scatter(datafile['Year'],datafile['Placement'])\n",
    "plt.title(\"Placement plot\")\n",
    "plt.xlim(2000,2020)\n",
    "plt.ylim(45,100)\n",
    "plt.xticks(np.arange(2000,2020,2))\n",
    "plt.legend()\n",
    "plt.xlabel(\"Year\")\n",
    "plt.ylabel(\"Placement\")\n",
    "plt.show()"
   ]
  },
  {
   "cell_type": "markdown",
   "id": "ee2c879e",
   "metadata": {},
   "source": [
    "# Correlation"
   ]
  },
  {
   "cell_type": "code",
   "execution_count": 16,
   "id": "ed8609ef",
   "metadata": {},
   "outputs": [],
   "source": [
    "import seaborn as sb"
   ]
  },
  {
   "cell_type": "code",
   "execution_count": 29,
   "id": "60ff3668",
   "metadata": {},
   "outputs": [
    {
     "data": {
      "text/plain": [
       "<AxesSubplot:>"
      ]
     },
     "execution_count": 29,
     "metadata": {},
     "output_type": "execute_result"
    },
    {
     "data": {
      "image/png": "[encoded data removed]",
      "text/plain": [
       "<Figure size 432x288 with 2 Axes>"
      ]
     },
     "metadata": {
      "needs_background": "light"
     },
     "output_type": "display_data"
    }
   ],
   "source": [
    "data_corr = datafile.corr()\n",
    "sb.heatmap(data_corr,annot=True)"
   ]
  },
  {
   "cell_type": "code",
   "execution_count": 49,
   "id": "bc0149cb",
   "metadata": {},
   "outputs": [
    {
     "data": {
      "text/plain": [
       "<AxesSubplot:>"
      ]
     },
     "execution_count": 49,
     "metadata": {},
     "output_type": "execute_result"
    },
    {
     "data": {
      "image/png": "[encoded data removed]",
      "text/plain": [
       "<Figure size 432x288 with 2 Axes>"
      ]
     },
     "metadata": {
      "needs_background": "light"
     },
     "output_type": "display_data"
    }
   ],
   "source": [
    "data_corr = datafile1.corr()\n",
    "sb.heatmap(data_corr,annot=True)"
   ]
  },
  {
   "cell_type": "markdown",
   "id": "d1a7b258",
   "metadata": {},
   "source": [
    "# Training Regression model\n",
    "---"
   ]
  },
  {
   "cell_type": "code",
   "execution_count": 30,
   "id": "ed61c3ae",
   "metadata": {},
   "outputs": [],
   "source": [
    "from sklearn import linear_model"
   ]
  },
  {
   "cell_type": "code",
   "execution_count": 31,
   "id": "4162ee93",
   "metadata": {},
   "outputs": [],
   "source": [
    "regress = linear_model.LinearRegression()"
   ]
  },
  {
   "cell_type": "markdown",
   "id": "f31d5628",
   "metadata": {},
   "source": [
    "## Separating attributes and target"
   ]
  },
  {
   "cell_type": "code",
   "execution_count": 32,
   "id": "e1ef0e91",
   "metadata": {},
   "outputs": [
    {
     "name": "stdout",
     "output_type": "stream",
     "text": [
      "[[2000]\n",
      " [2001]\n",
      " [2002]\n",
      " [2003]\n",
      " [2004]\n",
      " [2005]\n",
      " [2006]\n",
      " [2007]\n",
      " [2008]\n",
      " [2009]\n",
      " [2010]\n",
      " [2011]\n",
      " [2012]\n",
      " [2013]\n",
      " [2014]\n",
      " [2015]\n",
      " [2016]\n",
      " [2017]\n",
      " [2018]\n",
      " [2019]]\n",
      "[[64]\n",
      " [54]\n",
      " [62]\n",
      " [78]\n",
      " [66]\n",
      " [69]\n",
      " [72]\n",
      " [77]\n",
      " [82]\n",
      " [88]\n",
      " [85]\n",
      " [87]\n",
      " [84]\n",
      " [85]\n",
      " [88]\n",
      " [75]\n",
      " [90]\n",
      " [93]\n",
      " [95]\n",
      " [98]]\n"
     ]
    }
   ],
   "source": [
    "train_x = np.asanyarray(datafile[['Year']])\n",
    "train_y = np.asanyarray(datafile[['Placement']])\n",
    "print(train_x)\n",
    "print(train_y)"
   ]
  },
  {
   "cell_type": "markdown",
   "id": "677b6e25",
   "metadata": {},
   "source": [
    "## Training the model"
   ]
  },
  {
   "cell_type": "code",
   "execution_count": 33,
   "id": "7697611f",
   "metadata": {},
   "outputs": [
    {
     "data": {
      "text/plain": [
       "LinearRegression()"
      ]
     },
     "execution_count": 33,
     "metadata": {},
     "output_type": "execute_result"
    }
   ],
   "source": [
    "regress.fit (train_x,train_y)"
   ]
  },
  {
   "cell_type": "markdown",
   "id": "6537b751",
   "metadata": {},
   "source": [
    "## The coefficients: slope and intercept"
   ]
  },
  {
   "cell_type": "code",
   "execution_count": 34,
   "id": "5bd6590c",
   "metadata": {},
   "outputs": [
    {
     "name": "stdout",
     "output_type": "stream",
     "text": [
      "Coefficients:  [[1.78345865]]\n",
      "Intercept:  [-3504.26015038]\n"
     ]
    }
   ],
   "source": [
    "print ('Coefficients: ', regress.coef_)\n",
    "print ('Intercept: ',regress.intercept_)"
   ]
  },
  {
   "cell_type": "markdown",
   "id": "4163f874",
   "metadata": {},
   "source": [
    "## Plotting the regression line"
   ]
  },
  {
   "cell_type": "code",
   "execution_count": 35,
   "id": "e8154b9d",
   "metadata": {},
   "outputs": [
    {
     "data": {
      "image/png": "[encoded data removed]",
      "text/plain": [
       "<Figure size 432x288 with 1 Axes>"
      ]
     },
     "metadata": {
      "needs_background": "light"
     },
     "output_type": "display_data"
    }
   ],
   "source": [
    "plt.scatter(datafile.Year, datafile.Placement,  color='blue',label=\"Actual\")\n",
    "plt.plot(train_x, regress.coef_[0][0]*train_x + regress.intercept_[0], '-r',label=\"Predicted\")\n",
    "plt.title(\"Placement plot\")\n",
    "plt.xlim(2000,2020)\n",
    "plt.ylim(45,100)\n",
    "plt.xticks(np.arange(2000,2020,2))\n",
    "plt.legend()\n",
    "plt.xlabel(\"Year\")\n",
    "plt.ylabel(\"Placement\")\n",
    "plt.show()"
   ]
  },
  {
   "cell_type": "markdown",
   "id": "6eb4c4a1",
   "metadata": {},
   "source": [
    "## Regression model for second dataset"
   ]
  },
  {
   "cell_type": "code",
   "execution_count": 36,
   "id": "4cad9112",
   "metadata": {},
   "outputs": [
    {
     "name": "stdout",
     "output_type": "stream",
     "text": [
      "Coefficients:  [[-0.06541353]]\n",
      "Intercept:  [208.39849624]\n"
     ]
    }
   ],
   "source": [
    "regress1 = linear_model.LinearRegression()\n",
    "train_x1 = np.asanyarray(datafile1[['Year']])\n",
    "train_y1 = np.asanyarray(datafile1[['Placement']])\n",
    "# print(train_x)\n",
    "# print(train_y)\n",
    "\n",
    "regress1.fit (train_x1,train_y1)\n",
    "# The coefficients\n",
    "print ('Coefficients: ', regress1.coef_)\n",
    "print ('Intercept: ',regress1.intercept_)"
   ]
  },
  {
   "cell_type": "code",
   "execution_count": 37,
   "id": "be50b05d",
   "metadata": {},
   "outputs": [
    {
     "data": {
      "image/png": "[encoded data removed]",
      "text/plain": [
       "<Figure size 432x288 with 1 Axes>"
      ]
     },
     "metadata": {
      "needs_background": "light"
     },
     "output_type": "display_data"
    }
   ],
   "source": [
    "plt.scatter(datafile1.Year, datafile1.Placement,  color='blue',label=\"Actual\")\n",
    "plt.plot(train_x, regress1.coef_[0][0]*train_x1 + regress1.intercept_[0], '-r',label=\"Predicted\")\n",
    "plt.title(\"Placement plot\")\n",
    "plt.xlim(2000,2020)\n",
    "plt.ylim(45,100)\n",
    "plt.xticks(np.arange(2000,2020,2))\n",
    "plt.legend()\n",
    "plt.xlabel(\"Year\")\n",
    "plt.ylabel(\"Placement\")\n",
    "plt.show()"
   ]
  },
  {
   "cell_type": "markdown",
   "id": "8e84cd5c",
   "metadata": {},
   "source": [
    "# Predicting Values\n",
    "---"
   ]
  },
  {
   "cell_type": "code",
   "execution_count": 38,
   "id": "616f6a68",
   "metadata": {},
   "outputs": [
    {
     "name": "stdout",
     "output_type": "stream",
     "text": [
      "[64] [62.65714286]\n",
      "[54] [64.4406015]\n",
      "[62] [66.22406015]\n",
      "[78] [68.0075188]\n",
      "[66] [69.79097744]\n",
      "[69] [71.57443609]\n",
      "[72] [73.35789474]\n",
      "[77] [75.14135338]\n",
      "[82] [76.92481203]\n",
      "[88] [78.70827068]\n",
      "[85] [80.49172932]\n",
      "[87] [82.27518797]\n",
      "[84] [84.05864662]\n",
      "[85] [85.84210526]\n",
      "[88] [87.62556391]\n",
      "[75] [89.40902256]\n",
      "[90] [91.1924812]\n",
      "[93] [92.97593985]\n",
      "[95] [94.7593985]\n",
      "[98] [96.54285714]\n",
      "[[62.65714286]\n",
      " [64.4406015 ]\n",
      " [66.22406015]\n",
      " [68.0075188 ]\n",
      " [69.79097744]\n",
      " [71.57443609]\n",
      " [73.35789474]\n",
      " [75.14135338]\n",
      " [76.92481203]\n",
      " [78.70827068]\n",
      " [80.49172932]\n",
      " [82.27518797]\n",
      " [84.05864662]\n",
      " [85.84210526]\n",
      " [87.62556391]\n",
      " [89.40902256]\n",
      " [91.1924812 ]\n",
      " [92.97593985]\n",
      " [94.7593985 ]\n",
      " [96.54285714]]\n",
      "   Year  Placement  Predicted\n",
      "0  2000         64  62.657143\n",
      "1  2001         54  64.440602\n",
      "2  2002         62  66.224060\n",
      "3  2003         78  68.007519\n",
      "4  2004         66  69.790977\n"
     ]
    }
   ],
   "source": [
    "y_predicted = regress.predict(train_x)\n",
    "for i in range(0,len(train_x)):\n",
    "    print(train_y[i],y_predicted[i])\n",
    "datafile['Predicted'] = y_predicted\n",
    "print(y_predicted)\n",
    "print(datafile.head())"
   ]
  },
  {
   "cell_type": "markdown",
   "id": "dbd35797",
   "metadata": {},
   "source": [
    "## Measuring performance"
   ]
  },
  {
   "cell_type": "markdown",
   "id": "8d77d1c6",
   "metadata": {},
   "source": [
    "Any of the following metrics may be used:\n",
    "\n",
    "Mean absolute error: It is the average of the absolute value of all the errors.\n",
    "\n",
    "Mean Squared Error (MSE): Mean Squared Error (MSE) is the mean of the squared error. This is efficient since the focus is on large errors and doesnot consider sign of error.\n",
    "\n",
    "\n",
    "Root Mean Squared Error (RMSE): This is a metric to calculate the accuracy of the model. It represents how close the data are to the fitted regression line. The higher the R-squared, the better the model fits your data. Best possible score is 1.0 and it can be negative (because the model can be arbitrarily worse).\n",
    "\n",
    "\n",
    "\n",
    "\n",
    "accuracy - 10/20 is the accu==50%\n",
    "\n",
    "loss ---total errors happened in the system.\n",
    "\n",
    "\n",
    " reduce the loss automatically the model becomes more accurate"
   ]
  },
  {
   "cell_type": "code",
   "execution_count": 39,
   "id": "702a2961",
   "metadata": {},
   "outputs": [],
   "source": [
    "from sklearn import metrics"
   ]
  },
  {
   "cell_type": "code",
   "execution_count": 40,
   "id": "29c8872e",
   "metadata": {},
   "outputs": [
    {
     "name": "stdout",
     "output_type": "stream",
     "text": [
      "Mean Absolute Error: 3.8890225563910006\n",
      "Mean Squared Error: 31.08090225563971\n",
      "Root Mean Squared Error: 5.575024865921201\n"
     ]
    }
   ],
   "source": [
    "print('Mean Absolute Error:', metrics.mean_absolute_error(train_y, y_predicted))\n",
    "print('Mean Squared Error:', metrics.mean_squared_error(train_y, y_predicted))\n",
    "print('Root Mean Squared Error:', np.sqrt(metrics.mean_squared_error(train_y, y_predicted)))"
   ]
  },
  {
   "cell_type": "code",
   "execution_count": 41,
   "id": "13d71f8b",
   "metadata": {},
   "outputs": [],
   "source": [
    "from sklearn.metrics import r2_score"
   ]
  },
  {
   "cell_type": "code",
   "execution_count": 42,
   "id": "744f168a",
   "metadata": {},
   "outputs": [],
   "source": [
    "test_x = np.asanyarray(datafile[['Year']])\n",
    "test_y = np.asanyarray(datafile[['Placement']])\n",
    "test_y_predicted = regress.predict(test_x)"
   ]
  },
  {
   "cell_type": "code",
   "execution_count": 43,
   "id": "f951088f",
   "metadata": {},
   "outputs": [
    {
     "name": "stdout",
     "output_type": "stream",
     "text": [
      "Mean absolute error (MAE): 3.8890225563910006\n",
      "Mean square error (MSE):  31.08090225563971\n",
      "R2-score: %.2f (RMSE): 0.7728668353139454\n"
     ]
    }
   ],
   "source": [
    "print(\"Mean absolute error (MAE):\" , np.mean(np.absolute(test_y_predicted - test_y)))\n",
    "print(\"Mean square error (MSE): \" , np.mean((test_y_predicted - test_y) ** 2))\n",
    "print(\"R2-score: %.2f (RMSE):\" , r2_score(test_y, test_y_predicted) )"
   ]
  },
  {
   "cell_type": "markdown",
   "id": "2aee7120",
   "metadata": {},
   "source": [
    "# Splitting data: Training and testing\n",
    "---"
   ]
  },
  {
   "cell_type": "code",
   "execution_count": 44,
   "id": "5a9f30a5",
   "metadata": {},
   "outputs": [],
   "source": [
    "from sklearn.model_selection import train_test_split"
   ]
  },
  {
   "cell_type": "code",
   "execution_count": 45,
   "id": "8e50fcfe",
   "metadata": {},
   "outputs": [
    {
     "name": "stdout",
     "output_type": "stream",
     "text": [
      "    Year\n",
      "11  2011\n",
      "3   2003\n",
      "18  2018\n",
      "16  2016\n",
      "13  2013\n",
      "2   2002\n",
      "9   2009\n",
      "19  2019\n",
      "4   2004\n",
      "12  2012\n",
      "7   2007\n",
      "10  2010\n",
      "14  2014\n",
      "6   2006\n",
      "Testing\n",
      "    Year\n",
      "0   2000\n",
      "17  2017\n",
      "15  2015\n",
      "1   2001\n",
      "8   2008\n",
      "5   2005\n"
     ]
    }
   ],
   "source": [
    "train_x, test_x, train_y, test_y = train_test_split(datafile[['Year']], datafile[['Placement']], test_size=0.30, random_state=42)\n",
    "print(train_x)\n",
    "print(\"Testing\")\n",
    "print(test_x)"
   ]
  },
  {
   "cell_type": "markdown",
   "id": "9b706bc5",
   "metadata": {},
   "source": [
    "## Training on training data"
   ]
  },
  {
   "cell_type": "code",
   "execution_count": 46,
   "id": "33424b04",
   "metadata": {},
   "outputs": [
    {
     "name": "stdout",
     "output_type": "stream",
     "text": [
      "Coefficients:  [[1.73830735]]\n",
      "Intercept:  [-3411.99443207]\n"
     ]
    }
   ],
   "source": [
    "regress = linear_model.LinearRegression()\n",
    "regress.fit (train_x,train_y)\n",
    "# The coefficients\n",
    "print ('Coefficients: ', regress.coef_)\n",
    "print ('Intercept: ',regress.intercept_)"
   ]
  },
  {
   "cell_type": "markdown",
   "id": "21c904d2",
   "metadata": {},
   "source": [
    "## Evaluating with testing data"
   ]
  },
  {
   "cell_type": "code",
   "execution_count": 47,
   "id": "10dbbb9b",
   "metadata": {},
   "outputs": [
    {
     "name": "stdout",
     "output_type": "stream",
     "text": [
      "    Year\n",
      "0   2000\n",
      "17  2017\n",
      "15  2015\n",
      "1   2001\n",
      "8   2008\n",
      "5   2005\n",
      "    Placement\n",
      "0          64\n",
      "17         93\n",
      "15         75\n",
      "1          54\n",
      "8          82\n",
      "5          69\n",
      "[[64.62026726]\n",
      " [94.1714922 ]\n",
      " [90.69487751]\n",
      " [66.35857461]\n",
      " [78.52672606]\n",
      " [73.31180401]]\n"
     ]
    }
   ],
   "source": [
    "y_predicted = regress.predict(test_x)\n",
    "print(test_x)\n",
    "print(test_y)\n",
    "print(y_predicted)"
   ]
  },
  {
   "cell_type": "code",
   "execution_count": 48,
   "id": "167a3558",
   "metadata": {},
   "outputs": [
    {
     "name": "stdout",
     "output_type": "stream",
     "text": [
      "Mean Absolute Error: 6.271714922049114\n",
      "Mean Squared Error: 71.91265957675672\n",
      "Root Mean Squared Error: 8.480133228715026\n"
     ]
    }
   ],
   "source": [
    "print('Mean Absolute Error:', metrics.mean_absolute_error(test_y, y_predicted))\n",
    "print('Mean Squared Error:', metrics.mean_squared_error(test_y, y_predicted))\n",
    "print('Root Mean Squared Error:', np.sqrt(metrics.mean_squared_error(test_y, y_predicted)))"
   ]
  },
  {
   "cell_type": "code",
   "execution_count": null,
   "id": "bd5be661",
   "metadata": {},
   "outputs": [],
   "source": []
  }
 ],
 "metadata": {
  "kernelspec": {
   "display_name": "Python [conda env:MachineLearning] *",
   "language": "python",
   "name": "conda-env-MachineLearning-py"
  },
  "language_info": {
   "codemirror_mode": {
    "name": "ipython",
    "version": 3
   },
   "file_extension": ".py",
   "mimetype": "text/x-python",
   "name": "python",
   "nbconvert_exporter": "python",
   "pygments_lexer": "ipython3",
   "version": "3.7.11"
  }
 },
 "nbformat": 4,
 "nbformat_minor": 5
}
