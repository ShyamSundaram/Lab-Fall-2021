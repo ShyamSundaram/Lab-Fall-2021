{
 "cells": [
  {
   "cell_type": "markdown",
   "id": "a010ecbc",
   "metadata": {},
   "source": [
    "# Machine Learning Lab \n",
    "## Lab FAT \n",
    "---\n",
    "**S Shyam Sundaram** <br>\n",
    "**19BCE1560** <br>\n",
    "**December 6, 2021**<br>\n",
    "\n",
    "**Dr Abdul Quadir MD**<br>\n",
    "**L31+L32**"
   ]
  },
  {
   "cell_type": "markdown",
   "id": "3d571e06",
   "metadata": {},
   "source": [
    "**Question number:** 2 <br>\n",
    "**Question:** <br>\n",
    "The children.csv dataset contains the information of around 2300 children that attended the emergency services with fever and were tested for serious bacterial infection. The outcome of the children infected has 4 categories: Not Applicable(no infection) / UTI / Pneum / Bact:<br><br>\n",
    "a.       Build a model using wcc, age, prevAB, pct, and crp to predict the outcome.<br>\n",
    "b.      Compute the confusion matrix .and calculate the accuracy, recall, precision and plot the graphs. Write your observations in a separate cell.<br>\n",
    "c.       Reduce the depth of the tree and infer the observations<br>\n",
    "d.       How does the model classify a child with 1 year of age, WCC=29, PCT=5, CRP=200 and no prevAB?<br>\n",
    "e.      Calculate probability for any given input (Note while calculating the probability you are not supposed to use library function )"
   ]
  },
  {
   "cell_type": "code",
   "execution_count": 1,
   "id": "44c98f22",
   "metadata": {},
   "outputs": [],
   "source": [
    "import numpy as np\n",
    "import pandas as pd\n",
    "import matplotlib.pyplot as plt\n",
    "import plotly.express as px\n",
    "import seaborn as sb\n",
    "import math\n",
    "from sklearn import preprocessing\n",
    "from sklearn.tree import export_graphviz\n",
    "from six import StringIO\n",
    "from IPython.display import Image\n",
    "import pydotplus \n",
    "import os\n",
    "from sklearn import metrics\n",
    "from sklearn.metrics import confusion_matrix\n",
    "from sklearn.metrics import recall_score\n",
    "from sklearn.metrics import precision_score\n",
    "%matplotlib inline"
   ]
  },
  {
   "cell_type": "markdown",
   "id": "7eb3f9e3",
   "metadata": {},
   "source": [
    "# Reading data\n",
    "---"
   ]
  },
  {
   "cell_type": "code",
   "execution_count": 2,
   "id": "a0a18f34",
   "metadata": {},
   "outputs": [
    {
     "data": {
      "text/html": [
       "<div>\n",
       "<style scoped>\n",
       "    .dataframe tbody tr th:only-of-type {\n",
       "        vertical-align: middle;\n",
       "    }\n",
       "\n",
       "    .dataframe tbody tr th {\n",
       "        vertical-align: top;\n",
       "    }\n",
       "\n",
       "    .dataframe thead th {\n",
       "        text-align: right;\n",
       "    }\n",
       "</style>\n",
       "<table border=\"1\" class=\"dataframe\">\n",
       "  <thead>\n",
       "    <tr style=\"text-align: right;\">\n",
       "      <th></th>\n",
       "      <th>Unnamed: 0</th>\n",
       "      <th>id</th>\n",
       "      <th>fever_hours</th>\n",
       "      <th>age</th>\n",
       "      <th>sex</th>\n",
       "      <th>wcc</th>\n",
       "      <th>prevAB</th>\n",
       "      <th>sbi</th>\n",
       "      <th>pct</th>\n",
       "      <th>crp</th>\n",
       "    </tr>\n",
       "  </thead>\n",
       "  <tbody>\n",
       "    <tr>\n",
       "      <th>0</th>\n",
       "      <td>1</td>\n",
       "      <td>57906</td>\n",
       "      <td>24.0</td>\n",
       "      <td>0.79</td>\n",
       "      <td>M</td>\n",
       "      <td>3.8</td>\n",
       "      <td>No</td>\n",
       "      <td>UTI</td>\n",
       "      <td>0.090000</td>\n",
       "      <td>17.700000</td>\n",
       "    </tr>\n",
       "    <tr>\n",
       "      <th>1</th>\n",
       "      <td>2</td>\n",
       "      <td>58031</td>\n",
       "      <td>48.0</td>\n",
       "      <td>1.91</td>\n",
       "      <td>F</td>\n",
       "      <td>25.3</td>\n",
       "      <td>Yes</td>\n",
       "      <td>UTI</td>\n",
       "      <td>4.400000</td>\n",
       "      <td>150.400000</td>\n",
       "    </tr>\n",
       "    <tr>\n",
       "      <th>2</th>\n",
       "      <td>3</td>\n",
       "      <td>58148</td>\n",
       "      <td>24.0</td>\n",
       "      <td>0.07</td>\n",
       "      <td>F</td>\n",
       "      <td>20.0</td>\n",
       "      <td>No</td>\n",
       "      <td>UTI</td>\n",
       "      <td>0.548136</td>\n",
       "      <td>47.359279</td>\n",
       "    </tr>\n",
       "    <tr>\n",
       "      <th>3</th>\n",
       "      <td>4</td>\n",
       "      <td>58169</td>\n",
       "      <td>72.0</td>\n",
       "      <td>0.95</td>\n",
       "      <td>M</td>\n",
       "      <td>6.0</td>\n",
       "      <td>No</td>\n",
       "      <td>UTI</td>\n",
       "      <td>0.310000</td>\n",
       "      <td>4.900000</td>\n",
       "    </tr>\n",
       "    <tr>\n",
       "      <th>4</th>\n",
       "      <td>5</td>\n",
       "      <td>58517</td>\n",
       "      <td>1.0</td>\n",
       "      <td>0.11</td>\n",
       "      <td>F</td>\n",
       "      <td>15.6</td>\n",
       "      <td>No</td>\n",
       "      <td>UTI</td>\n",
       "      <td>0.936872</td>\n",
       "      <td>31.394860</td>\n",
       "    </tr>\n",
       "  </tbody>\n",
       "</table>\n",
       "</div>"
      ],
      "text/plain": [
       "   Unnamed: 0     id  fever_hours   age sex   wcc prevAB  sbi       pct  \\\n",
       "0           1  57906         24.0  0.79   M   3.8     No  UTI  0.090000   \n",
       "1           2  58031         48.0  1.91   F  25.3    Yes  UTI  4.400000   \n",
       "2           3  58148         24.0  0.07   F  20.0     No  UTI  0.548136   \n",
       "3           4  58169         72.0  0.95   M   6.0     No  UTI  0.310000   \n",
       "4           5  58517          1.0  0.11   F  15.6     No  UTI  0.936872   \n",
       "\n",
       "          crp  \n",
       "0   17.700000  \n",
       "1  150.400000  \n",
       "2   47.359279  \n",
       "3    4.900000  \n",
       "4   31.394860  "
      ]
     },
     "execution_count": 2,
     "metadata": {},
     "output_type": "execute_result"
    }
   ],
   "source": [
    "df=pd.read_csv(\"children.csv\")\n",
    "df.head()"
   ]
  },
  {
   "cell_type": "markdown",
   "id": "47f3685a",
   "metadata": {},
   "source": [
    "Drop unnecessary columns."
   ]
  },
  {
   "cell_type": "code",
   "execution_count": 3,
   "id": "b05f7dfd",
   "metadata": {
    "scrolled": true
   },
   "outputs": [
    {
     "data": {
      "text/html": [
       "<div>\n",
       "<style scoped>\n",
       "    .dataframe tbody tr th:only-of-type {\n",
       "        vertical-align: middle;\n",
       "    }\n",
       "\n",
       "    .dataframe tbody tr th {\n",
       "        vertical-align: top;\n",
       "    }\n",
       "\n",
       "    .dataframe thead th {\n",
       "        text-align: right;\n",
       "    }\n",
       "</style>\n",
       "<table border=\"1\" class=\"dataframe\">\n",
       "  <thead>\n",
       "    <tr style=\"text-align: right;\">\n",
       "      <th></th>\n",
       "      <th>age</th>\n",
       "      <th>wcc</th>\n",
       "      <th>prevAB</th>\n",
       "      <th>sbi</th>\n",
       "      <th>pct</th>\n",
       "      <th>crp</th>\n",
       "    </tr>\n",
       "  </thead>\n",
       "  <tbody>\n",
       "    <tr>\n",
       "      <th>0</th>\n",
       "      <td>0.79</td>\n",
       "      <td>3.8</td>\n",
       "      <td>No</td>\n",
       "      <td>UTI</td>\n",
       "      <td>0.090000</td>\n",
       "      <td>17.700000</td>\n",
       "    </tr>\n",
       "    <tr>\n",
       "      <th>1</th>\n",
       "      <td>1.91</td>\n",
       "      <td>25.3</td>\n",
       "      <td>Yes</td>\n",
       "      <td>UTI</td>\n",
       "      <td>4.400000</td>\n",
       "      <td>150.400000</td>\n",
       "    </tr>\n",
       "    <tr>\n",
       "      <th>2</th>\n",
       "      <td>0.07</td>\n",
       "      <td>20.0</td>\n",
       "      <td>No</td>\n",
       "      <td>UTI</td>\n",
       "      <td>0.548136</td>\n",
       "      <td>47.359279</td>\n",
       "    </tr>\n",
       "    <tr>\n",
       "      <th>3</th>\n",
       "      <td>0.95</td>\n",
       "      <td>6.0</td>\n",
       "      <td>No</td>\n",
       "      <td>UTI</td>\n",
       "      <td>0.310000</td>\n",
       "      <td>4.900000</td>\n",
       "    </tr>\n",
       "    <tr>\n",
       "      <th>4</th>\n",
       "      <td>0.11</td>\n",
       "      <td>15.6</td>\n",
       "      <td>No</td>\n",
       "      <td>UTI</td>\n",
       "      <td>0.936872</td>\n",
       "      <td>31.394860</td>\n",
       "    </tr>\n",
       "  </tbody>\n",
       "</table>\n",
       "</div>"
      ],
      "text/plain": [
       "    age   wcc prevAB  sbi       pct         crp\n",
       "0  0.79   3.8     No  UTI  0.090000   17.700000\n",
       "1  1.91  25.3    Yes  UTI  4.400000  150.400000\n",
       "2  0.07  20.0     No  UTI  0.548136   47.359279\n",
       "3  0.95   6.0     No  UTI  0.310000    4.900000\n",
       "4  0.11  15.6     No  UTI  0.936872   31.394860"
      ]
     },
     "execution_count": 3,
     "metadata": {},
     "output_type": "execute_result"
    }
   ],
   "source": [
    "df=df.drop(['Unnamed: 0','id','sex','fever_hours'],axis=1)\n",
    "df.head()"
   ]
  },
  {
   "cell_type": "code",
   "execution_count": 4,
   "id": "859d85e0",
   "metadata": {},
   "outputs": [
    {
     "data": {
      "text/plain": [
       "age       float64\n",
       "wcc       float64\n",
       "prevAB     object\n",
       "sbi        object\n",
       "pct       float64\n",
       "crp       float64\n",
       "dtype: object"
      ]
     },
     "execution_count": 4,
     "metadata": {},
     "output_type": "execute_result"
    }
   ],
   "source": [
    "df.dtypes"
   ]
  },
  {
   "cell_type": "markdown",
   "id": "f311d616",
   "metadata": {},
   "source": [
    "Encode object type column."
   ]
  },
  {
   "cell_type": "code",
   "execution_count": 5,
   "id": "806498dc",
   "metadata": {},
   "outputs": [],
   "source": [
    "classes = {\n",
    "    'No': 0,\n",
    "    'Yes' : 1\n",
    "    }\n",
    "df = df.replace({'prevAB': classes})"
   ]
  },
  {
   "cell_type": "code",
   "execution_count": 6,
   "id": "0638a6af",
   "metadata": {},
   "outputs": [],
   "source": [
    "X = df.drop('sbi',axis=1)\n",
    "Y = df['sbi']"
   ]
  },
  {
   "cell_type": "code",
   "execution_count": 7,
   "id": "dbed105e",
   "metadata": {},
   "outputs": [],
   "source": [
    "X = np.array (X)\n",
    "Y = np.array (Y)"
   ]
  },
  {
   "cell_type": "markdown",
   "id": "705a2def",
   "metadata": {},
   "source": [
    "Split train and test."
   ]
  },
  {
   "cell_type": "code",
   "execution_count": 8,
   "id": "3f3c53ea",
   "metadata": {},
   "outputs": [],
   "source": [
    "from sklearn.model_selection import train_test_split\n",
    "train_x, test_x, train_y, test_y = train_test_split(X,Y, test_size=0.30, random_state=42)"
   ]
  },
  {
   "cell_type": "markdown",
   "id": "9cb269b4",
   "metadata": {},
   "source": [
    "## a. Build Model\n",
    "---"
   ]
  },
  {
   "cell_type": "code",
   "execution_count": 9,
   "id": "1e646b0c",
   "metadata": {},
   "outputs": [],
   "source": [
    "from sklearn.tree import DecisionTreeClassifier"
   ]
  },
  {
   "cell_type": "code",
   "execution_count": 10,
   "id": "d8a6404e",
   "metadata": {},
   "outputs": [],
   "source": [
    "tree=DecisionTreeClassifier()"
   ]
  },
  {
   "cell_type": "code",
   "execution_count": 11,
   "id": "afcbd118",
   "metadata": {},
   "outputs": [
    {
     "data": {
      "text/plain": [
       "DecisionTreeClassifier(criterion='entropy')"
      ]
     },
     "execution_count": 11,
     "metadata": {},
     "output_type": "execute_result"
    }
   ],
   "source": [
    "tree = DecisionTreeClassifier(criterion='entropy')\n",
    "tree.fit(train_x, train_y)"
   ]
  },
  {
   "cell_type": "markdown",
   "id": "e0368752",
   "metadata": {},
   "source": [
    "A model is built to predict SBI based on age, WCC, PCT, CRP and prevAB. We evaluate it below."
   ]
  },
  {
   "cell_type": "markdown",
   "id": "7ede6dd0",
   "metadata": {},
   "source": [
    "## b. Compute confusion matrix, accuracy, recall and precision\n",
    "---"
   ]
  },
  {
   "cell_type": "code",
   "execution_count": 12,
   "id": "d76876c3",
   "metadata": {},
   "outputs": [
    {
     "data": {
      "text/plain": [
       "array(['UTI', 'Pneu', 'Bact', 'NotApplicable'], dtype=object)"
      ]
     },
     "execution_count": 12,
     "metadata": {},
     "output_type": "execute_result"
    }
   ],
   "source": [
    "df['sbi'].unique()"
   ]
  },
  {
   "cell_type": "code",
   "execution_count": 13,
   "id": "756b92cb",
   "metadata": {},
   "outputs": [],
   "source": [
    "predict = tree.predict(test_x)"
   ]
  },
  {
   "cell_type": "code",
   "execution_count": 14,
   "id": "de50033a",
   "metadata": {},
   "outputs": [
    {
     "name": "stdout",
     "output_type": "stream",
     "text": [
      "Accuracy:  0.6156028368794326\n",
      "Precision:  [0.         0.761079   0.14285714 0.28125   ]\n",
      "Recall:  [0.         0.77299413 0.14117647 0.26732673]\n"
     ]
    },
    {
     "data": {
      "text/plain": [
       "array([[  0,   5,   1,   2],\n",
       "       [  2, 395,  56,  58],\n",
       "       [  3,  61,  12,   9],\n",
       "       [  1,  58,  15,  27]], dtype=int64)"
      ]
     },
     "execution_count": 14,
     "metadata": {},
     "output_type": "execute_result"
    }
   ],
   "source": [
    "acc=metrics.accuracy_score(test_y, predict)\n",
    "prec=precision_score(test_y,predict, average=None)\n",
    "rec=recall_score(test_y,predict,average=None)\n",
    "print('Accuracy: ',acc)\n",
    "print('Precision: ',prec)\n",
    "print('Recall: ',rec)\n",
    "confusion_matrix(test_y, predict)"
   ]
  },
  {
   "cell_type": "markdown",
   "id": "b84ea8a9",
   "metadata": {},
   "source": [
    "## Observations:\n",
    "\n",
    "We see that we get an accuracy of about 0.62. It seems to not predict any 'UTI' class correctly. Hence it has 0 precision and recall for UTI. It has the highest precision and recall for Pneu class. The remaining classes are also detected poorly."
   ]
  },
  {
   "cell_type": "markdown",
   "id": "e300a577",
   "metadata": {},
   "source": [
    "## c. Reduce the depth of the tree and infer the observations\n",
    "---"
   ]
  },
  {
   "cell_type": "code",
   "execution_count": 15,
   "id": "7cec26b5",
   "metadata": {},
   "outputs": [
    {
     "data": {
      "text/plain": [
       "DecisionTreeClassifier(criterion='entropy', max_depth=5)"
      ]
     },
     "execution_count": 15,
     "metadata": {},
     "output_type": "execute_result"
    }
   ],
   "source": [
    "tree = DecisionTreeClassifier(criterion='entropy', max_depth = 5)\n",
    "tree.fit(train_x, train_y)"
   ]
  },
  {
   "cell_type": "code",
   "execution_count": 16,
   "id": "5ed7380c",
   "metadata": {},
   "outputs": [],
   "source": [
    "predict = tree.predict(test_x)"
   ]
  },
  {
   "cell_type": "code",
   "execution_count": 17,
   "id": "bfdbe90f",
   "metadata": {
    "scrolled": true
   },
   "outputs": [
    {
     "name": "stdout",
     "output_type": "stream",
     "text": [
      "Accuracy:  0.7163120567375887\n",
      "Precision:  [0.         0.74355083 0.14285714 0.4       ]\n",
      "Recall:  [0.         0.95890411 0.01176471 0.13861386]\n"
     ]
    },
    {
     "data": {
      "text/plain": [
       "array([[  0,   7,   0,   1],\n",
       "       [  2, 490,   5,  14],\n",
       "       [  1,  77,   1,   6],\n",
       "       [  1,  85,   1,  14]], dtype=int64)"
      ]
     },
     "execution_count": 17,
     "metadata": {},
     "output_type": "execute_result"
    }
   ],
   "source": [
    "acc=metrics.accuracy_score(test_y, predict)\n",
    "prec=precision_score(test_y,predict, average=None)\n",
    "rec=recall_score(test_y,predict,average=None)\n",
    "print('Accuracy: ',acc)\n",
    "print('Precision: ',prec)\n",
    "print('Recall: ',rec)\n",
    "confusion_matrix(test_y, predict)"
   ]
  },
  {
   "cell_type": "markdown",
   "id": "18c66ac5",
   "metadata": {},
   "source": [
    "## Observations:\n",
    "\n",
    "The accuracy is better than the model which was not limited in depth. However, there is still some drawback. UTI is not detected at all but that of Pneu is the highest and has grown."
   ]
  },
  {
   "cell_type": "markdown",
   "id": "54d4e486",
   "metadata": {},
   "source": [
    "## d. How does the model classify a child with 1 year of age, WCC=29, PCT=5, CRP=200 and no prevAB?\n",
    "---"
   ]
  },
  {
   "cell_type": "code",
   "execution_count": 18,
   "id": "3f5c463f",
   "metadata": {
    "scrolled": true
   },
   "outputs": [
    {
     "data": {
      "text/plain": [
       "array(['NotApplicable'], dtype=object)"
      ]
     },
     "execution_count": 18,
     "metadata": {},
     "output_type": "execute_result"
    }
   ],
   "source": [
    "# age\twcc\tprevAB\tsbi\tpct\tcrp\n",
    "test=np.array([1,29,0,5,200])\n",
    "test=test.reshape(1,-1)\n",
    "pred=tree.predict(test)\n",
    "pred"
   ]
  },
  {
   "cell_type": "markdown",
   "id": "582424bf",
   "metadata": {},
   "source": [
    "It is classified as 'Not Applicable'."
   ]
  },
  {
   "cell_type": "markdown",
   "id": "26e0632e",
   "metadata": {},
   "source": [
    "# Inferences\n",
    "---"
   ]
  },
  {
   "cell_type": "markdown",
   "id": "26b2278c",
   "metadata": {},
   "source": [
    "The model is a decision tree. Initially, the tree was trained without any limit on depth. It yielded an accuracy of 0.61. Later, when a limit was defined, it was observed that a limit of 5, i.e. depth of 5, yielded the best accuracy of 0.71. But, there is a limit beyond which the accuracy drops again."
   ]
  }
 ],
 "metadata": {
  "kernelspec": {
   "display_name": "Python [conda env:MachineLearning] *",
   "language": "python",
   "name": "conda-env-MachineLearning-py"
  },
  "language_info": {
   "codemirror_mode": {
    "name": "ipython",
    "version": 3
   },
   "file_extension": ".py",
   "mimetype": "text/x-python",
   "name": "python",
   "nbconvert_exporter": "python",
   "pygments_lexer": "ipython3",
   "version": "3.7.11"
  }
 },
 "nbformat": 4,
 "nbformat_minor": 5
}
