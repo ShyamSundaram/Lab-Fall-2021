{
 "cells": [
  {
   "cell_type": "markdown",
   "id": "a010ecbc",
   "metadata": {},
   "source": [
    "# Machine Learning Lab \n",
    "## Lab 13 - K-Fold Cross Validation and Stacking\n",
    "---\n",
    "**S Shyam Sundaram** <br>\n",
    "**19BCE1560** <br>\n",
    "**November 15, 2021**<br>\n",
    "\n",
    "**Dr Abdul Quadir MD**<br>\n",
    "**L31+L32**"
   ]
  },
  {
   "cell_type": "code",
   "execution_count": 19,
   "id": "44c98f22",
   "metadata": {},
   "outputs": [],
   "source": [
    "import numpy as np\n",
    "import pandas as pd\n",
    "import matplotlib.pyplot as plt\n",
    "import plotly.express as px\n",
    "import seaborn as sb\n",
    "import math\n",
    "%matplotlib inline\n",
    "\n",
    "from sklearn.datasets import make_classification\n",
    "from sklearn.model_selection import train_test_split\n",
    "from sklearn.metrics import accuracy_score\n",
    "from sklearn.neighbors import KNeighborsClassifier\n",
    "from sklearn.model_selection import cross_val_score\n",
    "from sklearn.naive_bayes import GaussianNB\n",
    "from sklearn.ensemble import StackingClassifier\n",
    "from sklearn.linear_model import LogisticRegression\n",
    "from sklearn.model_selection import KFold"
   ]
  },
  {
   "cell_type": "markdown",
   "id": "7eb3f9e3",
   "metadata": {},
   "source": [
    "# Generating Synthetic data\n",
    "---"
   ]
  },
  {
   "cell_type": "code",
   "execution_count": 20,
   "id": "3796b92a",
   "metadata": {},
   "outputs": [],
   "source": [
    "X,y=make_classification(200, 2, n_redundant=0, n_classes=2)"
   ]
  },
  {
   "cell_type": "code",
   "execution_count": 21,
   "id": "83f2772c",
   "metadata": {
    "scrolled": true
   },
   "outputs": [
    {
     "data": {
      "text/plain": [
       "(200, 2)"
      ]
     },
     "execution_count": 21,
     "metadata": {},
     "output_type": "execute_result"
    }
   ],
   "source": [
    "X.shape"
   ]
  },
  {
   "cell_type": "code",
   "execution_count": 22,
   "id": "2b18e9e7",
   "metadata": {},
   "outputs": [
    {
     "data": {
      "text/html": [
       "<div>\n",
       "<style scoped>\n",
       "    .dataframe tbody tr th:only-of-type {\n",
       "        vertical-align: middle;\n",
       "    }\n",
       "\n",
       "    .dataframe tbody tr th {\n",
       "        vertical-align: top;\n",
       "    }\n",
       "\n",
       "    .dataframe thead th {\n",
       "        text-align: right;\n",
       "    }\n",
       "</style>\n",
       "<table border=\"1\" class=\"dataframe\">\n",
       "  <thead>\n",
       "    <tr style=\"text-align: right;\">\n",
       "      <th></th>\n",
       "      <th>x1</th>\n",
       "      <th>x2</th>\n",
       "      <th>y</th>\n",
       "    </tr>\n",
       "  </thead>\n",
       "  <tbody>\n",
       "    <tr>\n",
       "      <th>0</th>\n",
       "      <td>-2.579844</td>\n",
       "      <td>-2.442654</td>\n",
       "      <td>0</td>\n",
       "    </tr>\n",
       "    <tr>\n",
       "      <th>1</th>\n",
       "      <td>1.191018</td>\n",
       "      <td>-0.579595</td>\n",
       "      <td>0</td>\n",
       "    </tr>\n",
       "    <tr>\n",
       "      <th>2</th>\n",
       "      <td>0.717133</td>\n",
       "      <td>1.845260</td>\n",
       "      <td>1</td>\n",
       "    </tr>\n",
       "    <tr>\n",
       "      <th>3</th>\n",
       "      <td>1.387556</td>\n",
       "      <td>-0.775678</td>\n",
       "      <td>0</td>\n",
       "    </tr>\n",
       "    <tr>\n",
       "      <th>4</th>\n",
       "      <td>-2.031756</td>\n",
       "      <td>-1.879621</td>\n",
       "      <td>0</td>\n",
       "    </tr>\n",
       "    <tr>\n",
       "      <th>...</th>\n",
       "      <td>...</td>\n",
       "      <td>...</td>\n",
       "      <td>...</td>\n",
       "    </tr>\n",
       "    <tr>\n",
       "      <th>195</th>\n",
       "      <td>-0.009918</td>\n",
       "      <td>1.763236</td>\n",
       "      <td>1</td>\n",
       "    </tr>\n",
       "    <tr>\n",
       "      <th>196</th>\n",
       "      <td>-0.276510</td>\n",
       "      <td>-0.538719</td>\n",
       "      <td>0</td>\n",
       "    </tr>\n",
       "    <tr>\n",
       "      <th>197</th>\n",
       "      <td>-0.830076</td>\n",
       "      <td>-0.651048</td>\n",
       "      <td>0</td>\n",
       "    </tr>\n",
       "    <tr>\n",
       "      <th>198</th>\n",
       "      <td>-1.049117</td>\n",
       "      <td>-1.131500</td>\n",
       "      <td>0</td>\n",
       "    </tr>\n",
       "    <tr>\n",
       "      <th>199</th>\n",
       "      <td>-0.371145</td>\n",
       "      <td>-0.622025</td>\n",
       "      <td>0</td>\n",
       "    </tr>\n",
       "  </tbody>\n",
       "</table>\n",
       "<p>200 rows × 3 columns</p>\n",
       "</div>"
      ],
      "text/plain": [
       "           x1        x2  y\n",
       "0   -2.579844 -2.442654  0\n",
       "1    1.191018 -0.579595  0\n",
       "2    0.717133  1.845260  1\n",
       "3    1.387556 -0.775678  0\n",
       "4   -2.031756 -1.879621  0\n",
       "..        ...       ... ..\n",
       "195 -0.009918  1.763236  1\n",
       "196 -0.276510 -0.538719  0\n",
       "197 -0.830076 -0.651048  0\n",
       "198 -1.049117 -1.131500  0\n",
       "199 -0.371145 -0.622025  0\n",
       "\n",
       "[200 rows x 3 columns]"
      ]
     },
     "execution_count": 22,
     "metadata": {},
     "output_type": "execute_result"
    }
   ],
   "source": [
    "df=pd.DataFrame(data=X,columns=['x1','x2'])\n",
    "df['y']=y.tolist()\n",
    "df"
   ]
  },
  {
   "cell_type": "markdown",
   "id": "40ee87e5",
   "metadata": {},
   "source": [
    "# Visualize data\n",
    "---"
   ]
  },
  {
   "cell_type": "code",
   "execution_count": 23,
   "id": "f03ba499",
   "metadata": {},
   "outputs": [
    {
     "data": {
      "image/png": "[encoded data removed]",
      "text/plain": [
       "<Figure size 432x288 with 1 Axes>"
      ]
     },
     "metadata": {
      "needs_background": "light"
     },
     "output_type": "display_data"
    }
   ],
   "source": [
    "plt.scatter(df[df[\"y\"]==0][\"x1\"],df[df[\"y\"]==0][\"x2\"],c='orange')\n",
    "plt.scatter(df[df[\"y\"]==1][\"x1\"],df[df[\"y\"]==1][\"x2\"],c='green')\n",
    "plt.show()"
   ]
  },
  {
   "cell_type": "code",
   "execution_count": 24,
   "id": "7f818c1e",
   "metadata": {},
   "outputs": [],
   "source": [
    "X=df.drop(\"y\",axis=1)\n",
    "y=df[\"y\"]"
   ]
  },
  {
   "cell_type": "markdown",
   "id": "b8c9b53c",
   "metadata": {},
   "source": [
    "# K-Fold Cross Validation Experiment\n",
    "---"
   ]
  },
  {
   "cell_type": "code",
   "execution_count": 25,
   "id": "1c2c6dc6",
   "metadata": {},
   "outputs": [],
   "source": [
    "from sklearn.model_selection import train_test_split"
   ]
  },
  {
   "cell_type": "code",
   "execution_count": 26,
   "id": "de8d1139",
   "metadata": {},
   "outputs": [],
   "source": [
    "X_train, X_test, y_train, y_test = train_test_split(X,y,test_size=0.2)"
   ]
  },
  {
   "cell_type": "markdown",
   "id": "e44c7ca5",
   "metadata": {},
   "source": [
    "## Naive Bayes with regular train test split"
   ]
  },
  {
   "cell_type": "code",
   "execution_count": 27,
   "id": "d4e74645",
   "metadata": {},
   "outputs": [
    {
     "name": "stdout",
     "output_type": "stream",
     "text": [
      "0.8\n"
     ]
    }
   ],
   "source": [
    "gnb=GaussianNB()\n",
    "gnb.fit(X_train,y_train)\n",
    "pred=gnb.predict(X_test)\n",
    "print(accuracy_score(y_test,pred))"
   ]
  },
  {
   "cell_type": "markdown",
   "id": "869917bb",
   "metadata": {},
   "source": [
    "## Naive Bayes with K-Fold cross validation"
   ]
  },
  {
   "cell_type": "code",
   "execution_count": 28,
   "id": "ed92a3d8",
   "metadata": {},
   "outputs": [
    {
     "name": "stdout",
     "output_type": "stream",
     "text": [
      "Cross validation accuracy measures:  [0.875 0.825 0.95  0.925 0.825]\n",
      "Average accuracy:  0.8800000000000001\n"
     ]
    }
   ],
   "source": [
    "gnb = GaussianNB()\n",
    "cv_scores=cross_val_score(gnb,X,y,cv=5)\n",
    "print('Cross validation accuracy measures: ',cv_scores)\n",
    "print('Average accuracy: ',np.mean(cv_scores))"
   ]
  },
  {
   "cell_type": "markdown",
   "id": "a1e3a320",
   "metadata": {},
   "source": [
    "We see that the one with K-Fold gave a higher accuracy."
   ]
  },
  {
   "cell_type": "markdown",
   "id": "3925a98a",
   "metadata": {},
   "source": [
    "# Stacking\n",
    "---"
   ]
  },
  {
   "cell_type": "code",
   "execution_count": 29,
   "id": "8c3de026",
   "metadata": {},
   "outputs": [
    {
     "data": {
      "image/png": "[encoded data removed]",
      "text/plain": [
       "<Figure size 432x288 with 1 Axes>"
      ]
     },
     "metadata": {
      "needs_background": "light"
     },
     "output_type": "display_data"
    }
   ],
   "source": [
    "X,y=make_classification(200, 2, n_redundant=0, n_classes=2)\n",
    "df=pd.DataFrame(data=X,columns=['x1','x2'])\n",
    "df['y']=y.tolist()\n",
    "\n",
    "X=df.drop(\"y\",axis=1)\n",
    "y=df[\"y\"]\n",
    "\n",
    "plt.scatter(df[df[\"y\"]==0][\"x1\"],df[df[\"y\"]==0][\"x2\"],c='orange')\n",
    "plt.scatter(df[df[\"y\"]==1][\"x1\"],df[df[\"y\"]==1][\"x2\"],c='green')\n",
    "plt.show()"
   ]
  },
  {
   "cell_type": "markdown",
   "id": "5f41a947",
   "metadata": {},
   "source": [
    "## KNN with cross validation"
   ]
  },
  {
   "cell_type": "code",
   "execution_count": 30,
   "id": "572fd8ae",
   "metadata": {
    "scrolled": false
   },
   "outputs": [
    {
     "name": "stdout",
     "output_type": "stream",
     "text": [
      "For k:  3\n",
      "Cross validation accuracy measures:  [0.95522388 0.98507463 0.95454545]\n",
      "Average accuracy:  0.964947987336047\n",
      "For k:  5\n",
      "Cross validation accuracy measures:  [1.    0.95  0.975 0.95  0.925]\n",
      "Average accuracy:  0.96\n",
      "For k:  10\n",
      "Cross validation accuracy measures:  [0.95 1.   0.9  1.   1.   0.95 0.95 0.95 0.9  0.95]\n",
      "Average accuracy:  0.9549999999999998\n"
     ]
    },
    {
     "data": {
      "text/plain": [
       "[<matplotlib.lines.Line2D at 0x1afccae5f48>]"
      ]
     },
     "execution_count": 30,
     "metadata": {},
     "output_type": "execute_result"
    },
    {
     "data": {
      "image/png": "[encoded data removed]",
      "text/plain": [
       "<Figure size 432x288 with 1 Axes>"
      ]
     },
     "metadata": {
      "needs_background": "light"
     },
     "output_type": "display_data"
    }
   ],
   "source": [
    "folds=[3,5,10]\n",
    "acc=[]\n",
    "for i in folds:\n",
    "    print('For k: ',i)\n",
    "    knn=KNeighborsClassifier(n_neighbors=3)\n",
    "    cv_scores=cross_val_score(knn,X,y,cv=i)\n",
    "    print('Cross validation accuracy measures: ',cv_scores)\n",
    "    print('Average accuracy: ',np.mean(cv_scores))\n",
    "    acc.append(np.mean(cv_scores))\n",
    "plt.plot(folds,acc)"
   ]
  },
  {
   "cell_type": "markdown",
   "id": "98ff97a1",
   "metadata": {},
   "source": [
    "## Naive Bayes with cross validation"
   ]
  },
  {
   "cell_type": "code",
   "execution_count": 31,
   "id": "32b4e913",
   "metadata": {},
   "outputs": [],
   "source": [
    "from sklearn.naive_bayes import GaussianNB"
   ]
  },
  {
   "cell_type": "code",
   "execution_count": 32,
   "id": "a38dcfd2",
   "metadata": {},
   "outputs": [
    {
     "name": "stdout",
     "output_type": "stream",
     "text": [
      "For k:  3\n",
      "Cross validation accuracy measures:  [0.94029851 1.         0.92424242]\n",
      "Average accuracy:  0.9548469772350369\n",
      "For k:  5\n",
      "Cross validation accuracy measures:  [0.95 0.95 1.   0.95 0.9 ]\n",
      "Average accuracy:  0.95\n",
      "For k:  10\n",
      "Cross validation accuracy measures:  [0.9  1.   0.9  1.   1.   1.   1.   0.9  0.85 0.95]\n",
      "Average accuracy:  0.9499999999999998\n"
     ]
    },
    {
     "data": {
      "text/plain": [
       "[<matplotlib.lines.Line2D at 0x1afccb55ac8>]"
      ]
     },
     "execution_count": 32,
     "metadata": {},
     "output_type": "execute_result"
    },
    {
     "data": {
      "image/png": "[encoded data removed]",
      "text/plain": [
       "<Figure size 432x288 with 1 Axes>"
      ]
     },
     "metadata": {
      "needs_background": "light"
     },
     "output_type": "display_data"
    }
   ],
   "source": [
    "folds=[3,5,10]\n",
    "acc=[]\n",
    "for i in folds:\n",
    "    print('For k: ',i)\n",
    "    gnb=GaussianNB()\n",
    "    cv_scores=cross_val_score(gnb,X,y,cv=i)\n",
    "    print('Cross validation accuracy measures: ',cv_scores)\n",
    "    print('Average accuracy: ',np.mean(cv_scores))\n",
    "    acc.append(np.mean(cv_scores))\n",
    "plt.plot(folds,acc)\n",
    "\n",
    "\n",
    "# gnb = GaussianNB()\n",
    "# cv_scores=cross_val_score(gnb,X,y,cv=4)\n",
    "# print('Cross validation accuracy measures: ',cv_scores)\n",
    "# print('Average accuracy: ',np.mean(cv_scores))"
   ]
  },
  {
   "cell_type": "markdown",
   "id": "1f141592",
   "metadata": {},
   "source": [
    "## Stacking ensemble with cross validation"
   ]
  },
  {
   "cell_type": "markdown",
   "id": "6b7cfc93",
   "metadata": {},
   "source": [
    "Now, an ensemble of KNN and Naive Bayes is made following the Stacking technique. This is done using the StackingClassifier aailable in sklearn."
   ]
  },
  {
   "cell_type": "code",
   "execution_count": 33,
   "id": "ca5203f4",
   "metadata": {},
   "outputs": [],
   "source": [
    "knn=KNeighborsClassifier(n_neighbors=3) #sample value for k\n",
    "gnb = GaussianNB()"
   ]
  },
  {
   "cell_type": "markdown",
   "id": "ce88d477",
   "metadata": {},
   "source": [
    "Mentioning the estimators or models we are using to form the ensemble."
   ]
  },
  {
   "cell_type": "code",
   "execution_count": 34,
   "id": "23c759e0",
   "metadata": {},
   "outputs": [],
   "source": [
    "est = [('knn',KNeighborsClassifier(n_neighbors=3)), ('nb',GaussianNB())]"
   ]
  },
  {
   "cell_type": "markdown",
   "id": "a1ce0f7f",
   "metadata": {},
   "source": [
    "Forming the ensemble with the estimators above and the logistic regressor as the second level classifier."
   ]
  },
  {
   "cell_type": "code",
   "execution_count": 35,
   "id": "c1998bb7",
   "metadata": {},
   "outputs": [],
   "source": [
    "clf = StackingClassifier(estimators=est,final_estimator=LogisticRegression())"
   ]
  },
  {
   "cell_type": "markdown",
   "id": "3525b872",
   "metadata": {},
   "source": [
    "The score for each fold and their average is shown below:"
   ]
  },
  {
   "cell_type": "code",
   "execution_count": 36,
   "id": "502a4665",
   "metadata": {},
   "outputs": [
    {
     "name": "stdout",
     "output_type": "stream",
     "text": [
      "For 3 folds:\n",
      "Cross validation accuracy measures:  [0.95522388 0.98507463 0.95454545]\n",
      "Average accuracy:  0.964947987336047\n",
      "For 5 folds:\n",
      "Cross validation accuracy measures:  [1.    0.95  0.975 0.95  0.9  ]\n",
      "Average accuracy:  0.9550000000000001\n",
      "For 10 folds:\n",
      "Cross validation accuracy measures:  [0.95 1.   0.9  1.   1.   0.95 1.   0.95 0.85 0.95]\n",
      "Average accuracy:  0.9549999999999998\n"
     ]
    },
    {
     "data": {
      "text/plain": [
       "[<matplotlib.lines.Line2D at 0x1afcc954648>]"
      ]
     },
     "execution_count": 36,
     "metadata": {},
     "output_type": "execute_result"
    },
    {
     "data": {
      "image/png": "[encoded data removed]",
      "text/plain": [
       "<Figure size 432x288 with 1 Axes>"
      ]
     },
     "metadata": {
      "needs_background": "light"
     },
     "output_type": "display_data"
    }
   ],
   "source": [
    "folds=[3,5,10] #different values for k-folds\n",
    "acc=[]\n",
    "for i in folds:\n",
    "    print(\"For \"+str(i)+\" folds:\")\n",
    "    cv_scores=cross_val_score(clf,X,y,cv=i)\n",
    "    print('Cross validation accuracy measures: ',cv_scores)\n",
    "    print('Average accuracy: ',np.mean(cv_scores))\n",
    "    acc.append(np.mean(cv_scores))\n",
    "plt.plot(folds,acc)"
   ]
  },
  {
   "cell_type": "markdown",
   "id": "c2ee04b1",
   "metadata": {},
   "source": [
    "Thus, we see that the ensemble gives a better prediction with higher accuracy than the two models individually. (Compare the respective k-fold values)."
   ]
  }
 ],
 "metadata": {
  "kernelspec": {
   "display_name": "Python [conda env:MachineLearning] *",
   "language": "python",
   "name": "conda-env-MachineLearning-py"
  },
  "language_info": {
   "codemirror_mode": {
    "name": "ipython",
    "version": 3
   },
   "file_extension": ".py",
   "mimetype": "text/x-python",
   "name": "python",
   "nbconvert_exporter": "python",
   "pygments_lexer": "ipython3",
   "version": "3.7.11"
  }
 },
 "nbformat": 4,
 "nbformat_minor": 5
}
