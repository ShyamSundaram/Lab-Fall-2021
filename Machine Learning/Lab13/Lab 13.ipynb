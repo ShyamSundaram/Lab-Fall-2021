{
 "cells": [
  {
   "cell_type": "markdown",
   "id": "a010ecbc",
   "metadata": {},
   "source": [
    "# Machine Learning Lab \n",
    "## Lab 13 - K-Fold Cross Validation and Stacking\n",
    "---\n",
    "**S Shyam Sundaram** <br>\n",
    "**19BCE1560** <br>\n",
    "**November 15, 2021**<br>\n",
    "\n",
    "**Dr Abdul Quadir MD**<br>\n",
    "**L31+L32**"
   ]
  },
  {
   "cell_type": "code",
   "execution_count": 1,
   "id": "44c98f22",
   "metadata": {},
   "outputs": [],
   "source": [
    "import numpy as np\n",
    "import pandas as pd\n",
    "import matplotlib.pyplot as plt\n",
    "import plotly.express as px\n",
    "import seaborn as sb\n",
    "import math\n",
    "%matplotlib inline"
   ]
  },
  {
   "cell_type": "markdown",
   "id": "7eb3f9e3",
   "metadata": {},
   "source": [
    "# Generating Synthetic data\n",
    "---"
   ]
  },
  {
   "cell_type": "code",
   "execution_count": 2,
   "id": "585e003e",
   "metadata": {},
   "outputs": [],
   "source": [
    "from sklearn.datasets import make_classification"
   ]
  },
  {
   "cell_type": "code",
   "execution_count": 3,
   "id": "3796b92a",
   "metadata": {},
   "outputs": [],
   "source": [
    "X,y=make_classification(100, 2, n_redundant=0, n_classes=2)"
   ]
  },
  {
   "cell_type": "code",
   "execution_count": 4,
   "id": "83f2772c",
   "metadata": {
    "scrolled": true
   },
   "outputs": [
    {
     "data": {
      "text/plain": [
       "(100, 2)"
      ]
     },
     "execution_count": 4,
     "metadata": {},
     "output_type": "execute_result"
    }
   ],
   "source": [
    "X.shape"
   ]
  },
  {
   "cell_type": "code",
   "execution_count": 5,
   "id": "2b18e9e7",
   "metadata": {},
   "outputs": [
    {
     "data": {
      "text/html": [
       "<div>\n",
       "<style scoped>\n",
       "    .dataframe tbody tr th:only-of-type {\n",
       "        vertical-align: middle;\n",
       "    }\n",
       "\n",
       "    .dataframe tbody tr th {\n",
       "        vertical-align: top;\n",
       "    }\n",
       "\n",
       "    .dataframe thead th {\n",
       "        text-align: right;\n",
       "    }\n",
       "</style>\n",
       "<table border=\"1\" class=\"dataframe\">\n",
       "  <thead>\n",
       "    <tr style=\"text-align: right;\">\n",
       "      <th></th>\n",
       "      <th>x1</th>\n",
       "      <th>x2</th>\n",
       "      <th>y</th>\n",
       "    </tr>\n",
       "  </thead>\n",
       "  <tbody>\n",
       "    <tr>\n",
       "      <th>0</th>\n",
       "      <td>-0.124561</td>\n",
       "      <td>-0.180641</td>\n",
       "      <td>1</td>\n",
       "    </tr>\n",
       "    <tr>\n",
       "      <th>1</th>\n",
       "      <td>-2.338828</td>\n",
       "      <td>0.158262</td>\n",
       "      <td>0</td>\n",
       "    </tr>\n",
       "    <tr>\n",
       "      <th>2</th>\n",
       "      <td>-2.281006</td>\n",
       "      <td>0.466078</td>\n",
       "      <td>0</td>\n",
       "    </tr>\n",
       "    <tr>\n",
       "      <th>3</th>\n",
       "      <td>-1.051069</td>\n",
       "      <td>-1.054063</td>\n",
       "      <td>0</td>\n",
       "    </tr>\n",
       "    <tr>\n",
       "      <th>4</th>\n",
       "      <td>-1.503344</td>\n",
       "      <td>-0.634208</td>\n",
       "      <td>0</td>\n",
       "    </tr>\n",
       "    <tr>\n",
       "      <th>...</th>\n",
       "      <td>...</td>\n",
       "      <td>...</td>\n",
       "      <td>...</td>\n",
       "    </tr>\n",
       "    <tr>\n",
       "      <th>95</th>\n",
       "      <td>-0.937643</td>\n",
       "      <td>-0.866008</td>\n",
       "      <td>0</td>\n",
       "    </tr>\n",
       "    <tr>\n",
       "      <th>96</th>\n",
       "      <td>-2.642135</td>\n",
       "      <td>-0.213116</td>\n",
       "      <td>0</td>\n",
       "    </tr>\n",
       "    <tr>\n",
       "      <th>97</th>\n",
       "      <td>-0.906001</td>\n",
       "      <td>1.592363</td>\n",
       "      <td>0</td>\n",
       "    </tr>\n",
       "    <tr>\n",
       "      <th>98</th>\n",
       "      <td>0.741655</td>\n",
       "      <td>1.426922</td>\n",
       "      <td>1</td>\n",
       "    </tr>\n",
       "    <tr>\n",
       "      <th>99</th>\n",
       "      <td>-1.300925</td>\n",
       "      <td>-1.742577</td>\n",
       "      <td>0</td>\n",
       "    </tr>\n",
       "  </tbody>\n",
       "</table>\n",
       "<p>100 rows × 3 columns</p>\n",
       "</div>"
      ],
      "text/plain": [
       "          x1        x2  y\n",
       "0  -0.124561 -0.180641  1\n",
       "1  -2.338828  0.158262  0\n",
       "2  -2.281006  0.466078  0\n",
       "3  -1.051069 -1.054063  0\n",
       "4  -1.503344 -0.634208  0\n",
       "..       ...       ... ..\n",
       "95 -0.937643 -0.866008  0\n",
       "96 -2.642135 -0.213116  0\n",
       "97 -0.906001  1.592363  0\n",
       "98  0.741655  1.426922  1\n",
       "99 -1.300925 -1.742577  0\n",
       "\n",
       "[100 rows x 3 columns]"
      ]
     },
     "execution_count": 5,
     "metadata": {},
     "output_type": "execute_result"
    }
   ],
   "source": [
    "df=pd.DataFrame(data=X,columns=['x1','x2'])\n",
    "df['y']=y.tolist()\n",
    "df"
   ]
  },
  {
   "cell_type": "markdown",
   "id": "40ee87e5",
   "metadata": {},
   "source": [
    "# Visualize data\n",
    "---"
   ]
  },
  {
   "cell_type": "code",
   "execution_count": 6,
   "id": "f03ba499",
   "metadata": {},
   "outputs": [
    {
     "data": {
      "image/png": "[encoded data removed]",
      "text/plain": [
       "<Figure size 432x288 with 1 Axes>"
      ]
     },
     "metadata": {
      "needs_background": "light"
     },
     "output_type": "display_data"
    }
   ],
   "source": [
    "plt.scatter(df[df[\"y\"]==0][\"x1\"],df[df[\"y\"]==0][\"x2\"],c='orange')\n",
    "plt.scatter(df[df[\"y\"]==1][\"x1\"],df[df[\"y\"]==1][\"x2\"],c='green')\n",
    "plt.show()"
   ]
  },
  {
   "cell_type": "code",
   "execution_count": 7,
   "id": "7f818c1e",
   "metadata": {},
   "outputs": [],
   "source": [
    "X=df.drop(\"y\",axis=1)\n",
    "y=df[\"y\"]"
   ]
  },
  {
   "cell_type": "markdown",
   "id": "8e66536a",
   "metadata": {},
   "source": [
    "# K-Fold cross Validation\n",
    "---"
   ]
  },
  {
   "cell_type": "markdown",
   "id": "afb561a7",
   "metadata": {},
   "source": [
    "We can manually train the model on each fold using KFold of SKLearn as follows:"
   ]
  },
  {
   "cell_type": "code",
   "execution_count": 8,
   "id": "67d131c1",
   "metadata": {},
   "outputs": [],
   "source": [
    "from sklearn.model_selection import KFold\n",
    "\n",
    "kf = KFold(n_splits=4)\n",
    "\n",
    "for train,test in kf.split(X):\n",
    "    X_train, X_test=X.values[train], X.values[test]\n",
    "    y_train, y_test=y.values[train], y.values[test]\n",
    "    "
   ]
  },
  {
   "cell_type": "markdown",
   "id": "affd2ca8",
   "metadata": {},
   "source": [
    "But, sklearn also provides cross_val_score which does the same thing for us. So, we can use this to find the score of each fold:"
   ]
  },
  {
   "cell_type": "code",
   "execution_count": 9,
   "id": "d7d5b745",
   "metadata": {},
   "outputs": [],
   "source": [
    "from sklearn.model_selection import cross_val_score"
   ]
  },
  {
   "cell_type": "markdown",
   "id": "c56c34fe",
   "metadata": {},
   "source": [
    "## KNN Classification\n",
    "---"
   ]
  },
  {
   "cell_type": "code",
   "execution_count": 10,
   "id": "ebe71df5",
   "metadata": {},
   "outputs": [],
   "source": [
    "from sklearn.neighbors import KNeighborsClassifier"
   ]
  },
  {
   "cell_type": "code",
   "execution_count": 11,
   "id": "572fd8ae",
   "metadata": {
    "scrolled": true
   },
   "outputs": [
    {
     "name": "stdout",
     "output_type": "stream",
     "text": [
      "Cross validation accuracy measures:  [0.96 0.92 0.96 1.  ]\n",
      "Average accuracy:  0.96\n"
     ]
    }
   ],
   "source": [
    "knn=KNeighborsClassifier(n_neighbors=3)\n",
    "cv_scores=cross_val_score(knn,X,y,cv=4)\n",
    "print('Cross validation accuracy measures: ',cv_scores)\n",
    "print('Average accuracy: ',np.mean(cv_scores))"
   ]
  },
  {
   "cell_type": "markdown",
   "id": "98ff97a1",
   "metadata": {},
   "source": [
    "## Naive Bayes\n",
    "---"
   ]
  },
  {
   "cell_type": "code",
   "execution_count": 12,
   "id": "32b4e913",
   "metadata": {},
   "outputs": [],
   "source": [
    "from sklearn.naive_bayes import GaussianNB"
   ]
  },
  {
   "cell_type": "code",
   "execution_count": 13,
   "id": "a38dcfd2",
   "metadata": {},
   "outputs": [
    {
     "name": "stdout",
     "output_type": "stream",
     "text": [
      "Cross validation accuracy measures:  [0.84 0.8  0.88 0.84]\n",
      "Average accuracy:  0.84\n"
     ]
    }
   ],
   "source": [
    "gnb = GaussianNB()\n",
    "cv_scores=cross_val_score(gnb,X,y,cv=4)\n",
    "print('Cross validation accuracy measures: ',cv_scores)\n",
    "print('Average accuracy: ',np.mean(cv_scores))"
   ]
  },
  {
   "cell_type": "markdown",
   "id": "3925a98a",
   "metadata": {},
   "source": [
    "# Stacking\n",
    "---"
   ]
  },
  {
   "cell_type": "markdown",
   "id": "6b7cfc93",
   "metadata": {},
   "source": [
    "Now, an ensemble of KNN and Naive Bayes is made following the Stacking technique. This is done using the StackingClassifier aailable in sklearn."
   ]
  },
  {
   "cell_type": "code",
   "execution_count": 14,
   "id": "ca5203f4",
   "metadata": {},
   "outputs": [],
   "source": [
    "knn=KNeighborsClassifier(n_neighbors=3)\n",
    "gnb = GaussianNB()"
   ]
  },
  {
   "cell_type": "code",
   "execution_count": 15,
   "id": "8547391f",
   "metadata": {},
   "outputs": [],
   "source": [
    "from sklearn.ensemble import StackingClassifier\n",
    "from sklearn.linear_model import LogisticRegression"
   ]
  },
  {
   "cell_type": "markdown",
   "id": "ce88d477",
   "metadata": {},
   "source": [
    "Mentioning the estimators or models we are using to form the ensemble."
   ]
  },
  {
   "cell_type": "code",
   "execution_count": 16,
   "id": "23c759e0",
   "metadata": {},
   "outputs": [],
   "source": [
    "est = [('knn',KNeighborsClassifier(n_neighbors=3)), ('nb',GaussianNB())]"
   ]
  },
  {
   "cell_type": "markdown",
   "id": "a1ce0f7f",
   "metadata": {},
   "source": [
    "Forming the ensemble with the estimators above and the logistic regressor as the second level classifier."
   ]
  },
  {
   "cell_type": "code",
   "execution_count": 17,
   "id": "c1998bb7",
   "metadata": {},
   "outputs": [],
   "source": [
    "clf = StackingClassifier(estimators=est,final_estimator=LogisticRegression())"
   ]
  },
  {
   "cell_type": "markdown",
   "id": "3525b872",
   "metadata": {},
   "source": [
    "The score for each fold and their average is shown below:"
   ]
  },
  {
   "cell_type": "code",
   "execution_count": 18,
   "id": "acdc6f43",
   "metadata": {},
   "outputs": [],
   "source": [
    "cv_scores=cross_val_score(clf,X,y,cv=4)"
   ]
  },
  {
   "cell_type": "code",
   "execution_count": 19,
   "id": "f8b086eb",
   "metadata": {},
   "outputs": [
    {
     "name": "stdout",
     "output_type": "stream",
     "text": [
      "Cross validation accuracy measures:  [0.96 0.96 0.96 1.  ]\n",
      "Average accuracy:  0.97\n"
     ]
    }
   ],
   "source": [
    "print('Cross validation accuracy measures: ',cv_scores)\n",
    "print('Average accuracy: ',np.mean(cv_scores))"
   ]
  },
  {
   "cell_type": "markdown",
   "id": "cd96960c",
   "metadata": {},
   "source": [
    "We see that the ensemble model performs better than the two models individually."
   ]
  }
 ],
 "metadata": {
  "kernelspec": {
   "display_name": "Python [conda env:MachineLearning] *",
   "language": "python",
   "name": "conda-env-MachineLearning-py"
  },
  "language_info": {
   "codemirror_mode": {
    "name": "ipython",
    "version": 3
   },
   "file_extension": ".py",
   "mimetype": "text/x-python",
   "name": "python",
   "nbconvert_exporter": "python",
   "pygments_lexer": "ipython3",
   "version": "3.7.11"
  }
 },
 "nbformat": 4,
 "nbformat_minor": 5
}
