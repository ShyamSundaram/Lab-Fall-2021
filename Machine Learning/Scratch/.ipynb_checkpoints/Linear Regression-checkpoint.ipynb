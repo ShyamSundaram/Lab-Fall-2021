{
 "cells": [
  {
   "cell_type": "markdown",
   "id": "60606f1f",
   "metadata": {},
   "source": [
    "# Linear Regression with Gradient descent\n",
    "---"
   ]
  },
  {
   "cell_type": "code",
   "execution_count": 1,
   "id": "5601f6f8",
   "metadata": {},
   "outputs": [],
   "source": [
    "import numpy as np"
   ]
  },
  {
   "cell_type": "code",
   "execution_count": null,
   "id": "ecd0d343",
   "metadata": {},
   "outputs": [],
   "source": [
    "class LinearRegession:    \n",
    "    def pred(self,X):\n",
    "        w=self.w\n",
    "        X=self.X\n",
    "        pred = np.dot(X,w[1:]) + X[0]\n",
    "        return pred\n",
    "    \n",
    "    def fit(self,X,y,lr=0.1):\n",
    "        self.X=X.values\n",
    "        self.y=y.values\n",
    "        self.w=np.zeros(X.shape[1]+1)\n",
    "        self.lr=lr"
   ]
  }
 ],
 "metadata": {
  "kernelspec": {
   "display_name": "Python [conda env:MachineLearning] *",
   "language": "python",
   "name": "conda-env-MachineLearning-py"
  },
  "language_info": {
   "codemirror_mode": {
    "name": "ipython",
    "version": 3
   },
   "file_extension": ".py",
   "mimetype": "text/x-python",
   "name": "python",
   "nbconvert_exporter": "python",
   "pygments_lexer": "ipython3",
   "version": "3.7.11"
  }
 },
 "nbformat": 4,
 "nbformat_minor": 5
}
